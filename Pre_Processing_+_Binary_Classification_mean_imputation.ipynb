{
  "nbformat": 4,
  "nbformat_minor": 0,
  "metadata": {
    "colab": {
      "provenance": [],
      "gpuType": "T4",
      "machine_shape": "hm"
    },
    "kernelspec": {
      "name": "python3",
      "display_name": "Python 3"
    },
    "language_info": {
      "name": "python"
    },
    "accelerator": "GPU"
  },
  "cells": [
    {
      "cell_type": "code",
      "source": [
        "!pip install scikit-learn scikit-optimize"
      ],
      "metadata": {
        "colab": {
          "base_uri": "https://localhost:8080/"
        },
        "id": "0hbsLep3gEdR",
        "outputId": "6046a099-7acc-438a-c95a-b78dc76567dd"
      },
      "execution_count": null,
      "outputs": [
        {
          "output_type": "stream",
          "name": "stdout",
          "text": [
            "Looking in indexes: https://pypi.org/simple, https://us-python.pkg.dev/colab-wheels/public/simple/\n",
            "Requirement already satisfied: scikit-learn in /usr/local/lib/python3.10/dist-packages (1.2.2)\n",
            "Collecting scikit-optimize\n",
            "  Downloading scikit_optimize-0.9.0-py2.py3-none-any.whl (100 kB)\n",
            "\u001b[2K     \u001b[90m━━━━━━━━━━━━━━━━━━━━━━━━━━━━━━━━━━━━━━━\u001b[0m \u001b[32m100.3/100.3 kB\u001b[0m \u001b[31m2.5 MB/s\u001b[0m eta \u001b[36m0:00:00\u001b[0m\n",
            "\u001b[?25hRequirement already satisfied: numpy>=1.17.3 in /usr/local/lib/python3.10/dist-packages (from scikit-learn) (1.22.4)\n",
            "Requirement already satisfied: scipy>=1.3.2 in /usr/local/lib/python3.10/dist-packages (from scikit-learn) (1.10.1)\n",
            "Requirement already satisfied: joblib>=1.1.1 in /usr/local/lib/python3.10/dist-packages (from scikit-learn) (1.2.0)\n",
            "Requirement already satisfied: threadpoolctl>=2.0.0 in /usr/local/lib/python3.10/dist-packages (from scikit-learn) (3.1.0)\n",
            "Collecting pyaml>=16.9 (from scikit-optimize)\n",
            "  Downloading pyaml-23.5.9-py3-none-any.whl (17 kB)\n",
            "Requirement already satisfied: PyYAML in /usr/local/lib/python3.10/dist-packages (from pyaml>=16.9->scikit-optimize) (6.0)\n",
            "Installing collected packages: pyaml, scikit-optimize\n",
            "Successfully installed pyaml-23.5.9 scikit-optimize-0.9.0\n"
          ]
        }
      ]
    },
    {
      "cell_type": "code",
      "execution_count": null,
      "metadata": {
        "id": "0rD8gp2OCl4Z"
      },
      "outputs": [],
      "source": [
        "#imports\n",
        "import pandas as pd\n",
        "import imblearn\n",
        "import numpy as np\n",
        "from imblearn.under_sampling import RandomUnderSampler\n",
        "from sklearn.ensemble import RandomForestClassifier\n",
        "from sklearn.feature_selection import SelectFromModel\n",
        "import matplotlib.pyplot as plt\n",
        "from sklearn.linear_model import LinearRegression\n",
        "import missingno as mno\n",
        "from sklearn.experimental import enable_iterative_imputer\n",
        "from sklearn.impute import IterativeImputer\n",
        "import matplotlib.pyplot as plt\n",
        "from sklearn.model_selection import GridSearchCV\n",
        "from sklearn.model_selection import train_test_split\n",
        "from skopt import BayesSearchCV\n",
        "import pickle\n",
        "from sklearn.metrics import accuracy_score, precision_score, recall_score, f1_score\n",
        "from sklearn.metrics import confusion_matrix\n",
        "import torch\n",
        "import torch.nn as nn\n",
        "import torch.optim as optim\n",
        "from torch.utils.data import DataLoader, TensorDataset\n",
        "from sklearn.preprocessing import MinMaxScaler\n",
        "from sklearn.svm import SVC"
      ]
    },
    {
      "cell_type": "code",
      "source": [
        "#mount drive\n",
        "from google.colab import drive\n",
        "drive.mount('/content/drive')"
      ],
      "metadata": {
        "colab": {
          "base_uri": "https://localhost:8080/"
        },
        "id": "poSdjpKMnRLr",
        "outputId": "499afe5c-900b-4b9d-8fbf-38b495a8d408"
      },
      "execution_count": null,
      "outputs": [
        {
          "output_type": "stream",
          "name": "stdout",
          "text": [
            "Mounted at /content/drive\n"
          ]
        }
      ]
    },
    {
      "cell_type": "code",
      "source": [
        "## original raw data was in four different files without feature names\n",
        "## reads raw data files and feature file from drive\n",
        "df_1 = pd.read_csv('/content/drive/MyDrive/JOB-ML/UNSW-NB15_1.csv')\n",
        "df_2 = pd.read_csv('/content/drive/MyDrive/JOB-ML/UNSW-NB15_2.csv')\n",
        "df_3 = pd.read_csv('/content/drive/MyDrive/JOB-ML/UNSW-NB15_3.csv')\n",
        "df_4 = pd.read_csv('/content/drive/MyDrive/JOB-ML/UNSW-NB15_4.csv')\n",
        "df_features = pd.read_csv('/content/drive/MyDrive/JOB-ML/NUSW-NB15_features.csv', encoding='cp1252')"
      ],
      "metadata": {
        "colab": {
          "base_uri": "https://localhost:8080/"
        },
        "id": "4V1lY05jvzNn",
        "outputId": "bfad9264-a179-4f8e-948b-99746c7fc0b7"
      },
      "execution_count": null,
      "outputs": [
        {
          "output_type": "stream",
          "name": "stderr",
          "text": [
            "<ipython-input-3-da8631123dbd>:1: DtypeWarning: Columns (1,3,47) have mixed types. Specify dtype option on import or set low_memory=False.\n",
            "  df_1 = pd.read_csv('/content/drive/MyDrive/JOB-ML/UNSW-NB15_1.csv')\n",
            "<ipython-input-3-da8631123dbd>:2: DtypeWarning: Columns (3,39,47) have mixed types. Specify dtype option on import or set low_memory=False.\n",
            "  df_2 = pd.read_csv('/content/drive/MyDrive/JOB-ML/UNSW-NB15_2.csv')\n"
          ]
        }
      ]
    },
    {
      "cell_type": "code",
      "source": [
        "# Extract the feature names from df_features\n",
        "feature_names = df_features['Name'].tolist()\n",
        "# Assign the feature names to df_1, df_2 , df_3,df_4 as column names\n",
        "df_1.columns = feature_names\n",
        "df_2.columns = feature_names\n",
        "df_3.columns = feature_names\n",
        "df_4.columns = feature_names"
      ],
      "metadata": {
        "id": "c37_4YsuxuS6"
      },
      "execution_count": null,
      "outputs": []
    },
    {
      "cell_type": "code",
      "source": [
        "# concatenating df1,df2,df3,df4 along rows\n",
        "# produces one final dataframe\n",
        "df_final = pd.concat([df_1, df_2,df_3,df_4], axis=0)\n",
        "df_final"
      ],
      "metadata": {
        "colab": {
          "base_uri": "https://localhost:8080/",
          "height": 505
        },
        "id": "L-mFE4IIEixQ",
        "outputId": "c7c96e8a-4550-46b8-ad0b-37325deea892"
      },
      "execution_count": null,
      "outputs": [
        {
          "output_type": "execute_result",
          "data": {
            "text/plain": [
              "               srcip  sport           dstip dsport proto state       dur  \\\n",
              "0         59.166.0.0  33661   149.171.126.9   1024   udp   CON  0.036133   \n",
              "1         59.166.0.6   1464   149.171.126.7     53   udp   CON  0.001119   \n",
              "2         59.166.0.5   3593   149.171.126.5     53   udp   CON  0.001209   \n",
              "3         59.166.0.3  49664   149.171.126.0     53   udp   CON  0.001169   \n",
              "4         59.166.0.0  32119   149.171.126.9    111   udp   CON  0.078339   \n",
              "...              ...    ...             ...    ...   ...   ...       ...   \n",
              "440038    59.166.0.5  33094   149.171.126.7  43433   tcp   FIN  0.087306   \n",
              "440039    59.166.0.7  20848   149.171.126.4     21   tcp   CON  0.365058   \n",
              "440040    59.166.0.3  21511   149.171.126.9     21   tcp   CON  6.335154   \n",
              "440041    59.166.0.9  35433   149.171.126.0     80   tcp   CON  2.200934   \n",
              "440042  175.45.176.0  17293  149.171.126.17    110   tcp   CON  0.942984   \n",
              "\n",
              "        sbytes  dbytes  sttl  ...  ct_ftp_cmd  ct_srv_src  ct_srv_dst  \\\n",
              "0          528     304    31  ...           0           2           4   \n",
              "1          146     178    31  ...           0          12           8   \n",
              "2          132     164    31  ...           0           6           9   \n",
              "3          146     178    31  ...           0           7           9   \n",
              "4          568     312    31  ...           0           2           4   \n",
              "...        ...     ...   ...  ...         ...         ...         ...   \n",
              "440038     320    1828    31  ...                       1           2   \n",
              "440039     456     346    31  ...           2           2           2   \n",
              "440040    1802    2088    31  ...           2           2           2   \n",
              "440041    3498  166054    31  ...                       1           1   \n",
              "440042     574     676    62  ...                       1           1   \n",
              "\n",
              "       ct_dst_ltm  ct_src_ ltm  ct_src_dport_ltm  ct_dst_sport_ltm  \\\n",
              "0               2            3                 1                 1   \n",
              "1               1            2                 2                 1   \n",
              "2               1            1                 1                 1   \n",
              "3               1            1                 1                 1   \n",
              "4               2            3                 1                 1   \n",
              "...           ...          ...               ...               ...   \n",
              "440038          3            3                 1                 1   \n",
              "440039          2            2                 2                 2   \n",
              "440040          4            2                 2                 2   \n",
              "440041          2            4                 2                 2   \n",
              "440042          2            4                 2                 2   \n",
              "\n",
              "        ct_dst_src_ltm  attack_cat  Label  \n",
              "0                    2         NaN      0  \n",
              "1                    1         NaN      0  \n",
              "2                    1         NaN      0  \n",
              "3                    1         NaN      0  \n",
              "4                    2         NaN      0  \n",
              "...                ...         ...    ...  \n",
              "440038               3         NaN      0  \n",
              "440039               2         NaN      0  \n",
              "440040               2         NaN      0  \n",
              "440041               2         NaN      0  \n",
              "440042               2    Exploits      1  \n",
              "\n",
              "[2540043 rows x 49 columns]"
            ],
            "text/html": [
              "\n",
              "  <div id=\"df-83f4fa71-ebfd-42af-9471-ef9af6d9f7c4\">\n",
              "    <div class=\"colab-df-container\">\n",
              "      <div>\n",
              "<style scoped>\n",
              "    .dataframe tbody tr th:only-of-type {\n",
              "        vertical-align: middle;\n",
              "    }\n",
              "\n",
              "    .dataframe tbody tr th {\n",
              "        vertical-align: top;\n",
              "    }\n",
              "\n",
              "    .dataframe thead th {\n",
              "        text-align: right;\n",
              "    }\n",
              "</style>\n",
              "<table border=\"1\" class=\"dataframe\">\n",
              "  <thead>\n",
              "    <tr style=\"text-align: right;\">\n",
              "      <th></th>\n",
              "      <th>srcip</th>\n",
              "      <th>sport</th>\n",
              "      <th>dstip</th>\n",
              "      <th>dsport</th>\n",
              "      <th>proto</th>\n",
              "      <th>state</th>\n",
              "      <th>dur</th>\n",
              "      <th>sbytes</th>\n",
              "      <th>dbytes</th>\n",
              "      <th>sttl</th>\n",
              "      <th>...</th>\n",
              "      <th>ct_ftp_cmd</th>\n",
              "      <th>ct_srv_src</th>\n",
              "      <th>ct_srv_dst</th>\n",
              "      <th>ct_dst_ltm</th>\n",
              "      <th>ct_src_ ltm</th>\n",
              "      <th>ct_src_dport_ltm</th>\n",
              "      <th>ct_dst_sport_ltm</th>\n",
              "      <th>ct_dst_src_ltm</th>\n",
              "      <th>attack_cat</th>\n",
              "      <th>Label</th>\n",
              "    </tr>\n",
              "  </thead>\n",
              "  <tbody>\n",
              "    <tr>\n",
              "      <th>0</th>\n",
              "      <td>59.166.0.0</td>\n",
              "      <td>33661</td>\n",
              "      <td>149.171.126.9</td>\n",
              "      <td>1024</td>\n",
              "      <td>udp</td>\n",
              "      <td>CON</td>\n",
              "      <td>0.036133</td>\n",
              "      <td>528</td>\n",
              "      <td>304</td>\n",
              "      <td>31</td>\n",
              "      <td>...</td>\n",
              "      <td>0</td>\n",
              "      <td>2</td>\n",
              "      <td>4</td>\n",
              "      <td>2</td>\n",
              "      <td>3</td>\n",
              "      <td>1</td>\n",
              "      <td>1</td>\n",
              "      <td>2</td>\n",
              "      <td>NaN</td>\n",
              "      <td>0</td>\n",
              "    </tr>\n",
              "    <tr>\n",
              "      <th>1</th>\n",
              "      <td>59.166.0.6</td>\n",
              "      <td>1464</td>\n",
              "      <td>149.171.126.7</td>\n",
              "      <td>53</td>\n",
              "      <td>udp</td>\n",
              "      <td>CON</td>\n",
              "      <td>0.001119</td>\n",
              "      <td>146</td>\n",
              "      <td>178</td>\n",
              "      <td>31</td>\n",
              "      <td>...</td>\n",
              "      <td>0</td>\n",
              "      <td>12</td>\n",
              "      <td>8</td>\n",
              "      <td>1</td>\n",
              "      <td>2</td>\n",
              "      <td>2</td>\n",
              "      <td>1</td>\n",
              "      <td>1</td>\n",
              "      <td>NaN</td>\n",
              "      <td>0</td>\n",
              "    </tr>\n",
              "    <tr>\n",
              "      <th>2</th>\n",
              "      <td>59.166.0.5</td>\n",
              "      <td>3593</td>\n",
              "      <td>149.171.126.5</td>\n",
              "      <td>53</td>\n",
              "      <td>udp</td>\n",
              "      <td>CON</td>\n",
              "      <td>0.001209</td>\n",
              "      <td>132</td>\n",
              "      <td>164</td>\n",
              "      <td>31</td>\n",
              "      <td>...</td>\n",
              "      <td>0</td>\n",
              "      <td>6</td>\n",
              "      <td>9</td>\n",
              "      <td>1</td>\n",
              "      <td>1</td>\n",
              "      <td>1</td>\n",
              "      <td>1</td>\n",
              "      <td>1</td>\n",
              "      <td>NaN</td>\n",
              "      <td>0</td>\n",
              "    </tr>\n",
              "    <tr>\n",
              "      <th>3</th>\n",
              "      <td>59.166.0.3</td>\n",
              "      <td>49664</td>\n",
              "      <td>149.171.126.0</td>\n",
              "      <td>53</td>\n",
              "      <td>udp</td>\n",
              "      <td>CON</td>\n",
              "      <td>0.001169</td>\n",
              "      <td>146</td>\n",
              "      <td>178</td>\n",
              "      <td>31</td>\n",
              "      <td>...</td>\n",
              "      <td>0</td>\n",
              "      <td>7</td>\n",
              "      <td>9</td>\n",
              "      <td>1</td>\n",
              "      <td>1</td>\n",
              "      <td>1</td>\n",
              "      <td>1</td>\n",
              "      <td>1</td>\n",
              "      <td>NaN</td>\n",
              "      <td>0</td>\n",
              "    </tr>\n",
              "    <tr>\n",
              "      <th>4</th>\n",
              "      <td>59.166.0.0</td>\n",
              "      <td>32119</td>\n",
              "      <td>149.171.126.9</td>\n",
              "      <td>111</td>\n",
              "      <td>udp</td>\n",
              "      <td>CON</td>\n",
              "      <td>0.078339</td>\n",
              "      <td>568</td>\n",
              "      <td>312</td>\n",
              "      <td>31</td>\n",
              "      <td>...</td>\n",
              "      <td>0</td>\n",
              "      <td>2</td>\n",
              "      <td>4</td>\n",
              "      <td>2</td>\n",
              "      <td>3</td>\n",
              "      <td>1</td>\n",
              "      <td>1</td>\n",
              "      <td>2</td>\n",
              "      <td>NaN</td>\n",
              "      <td>0</td>\n",
              "    </tr>\n",
              "    <tr>\n",
              "      <th>...</th>\n",
              "      <td>...</td>\n",
              "      <td>...</td>\n",
              "      <td>...</td>\n",
              "      <td>...</td>\n",
              "      <td>...</td>\n",
              "      <td>...</td>\n",
              "      <td>...</td>\n",
              "      <td>...</td>\n",
              "      <td>...</td>\n",
              "      <td>...</td>\n",
              "      <td>...</td>\n",
              "      <td>...</td>\n",
              "      <td>...</td>\n",
              "      <td>...</td>\n",
              "      <td>...</td>\n",
              "      <td>...</td>\n",
              "      <td>...</td>\n",
              "      <td>...</td>\n",
              "      <td>...</td>\n",
              "      <td>...</td>\n",
              "      <td>...</td>\n",
              "    </tr>\n",
              "    <tr>\n",
              "      <th>440038</th>\n",
              "      <td>59.166.0.5</td>\n",
              "      <td>33094</td>\n",
              "      <td>149.171.126.7</td>\n",
              "      <td>43433</td>\n",
              "      <td>tcp</td>\n",
              "      <td>FIN</td>\n",
              "      <td>0.087306</td>\n",
              "      <td>320</td>\n",
              "      <td>1828</td>\n",
              "      <td>31</td>\n",
              "      <td>...</td>\n",
              "      <td></td>\n",
              "      <td>1</td>\n",
              "      <td>2</td>\n",
              "      <td>3</td>\n",
              "      <td>3</td>\n",
              "      <td>1</td>\n",
              "      <td>1</td>\n",
              "      <td>3</td>\n",
              "      <td>NaN</td>\n",
              "      <td>0</td>\n",
              "    </tr>\n",
              "    <tr>\n",
              "      <th>440039</th>\n",
              "      <td>59.166.0.7</td>\n",
              "      <td>20848</td>\n",
              "      <td>149.171.126.4</td>\n",
              "      <td>21</td>\n",
              "      <td>tcp</td>\n",
              "      <td>CON</td>\n",
              "      <td>0.365058</td>\n",
              "      <td>456</td>\n",
              "      <td>346</td>\n",
              "      <td>31</td>\n",
              "      <td>...</td>\n",
              "      <td>2</td>\n",
              "      <td>2</td>\n",
              "      <td>2</td>\n",
              "      <td>2</td>\n",
              "      <td>2</td>\n",
              "      <td>2</td>\n",
              "      <td>2</td>\n",
              "      <td>2</td>\n",
              "      <td>NaN</td>\n",
              "      <td>0</td>\n",
              "    </tr>\n",
              "    <tr>\n",
              "      <th>440040</th>\n",
              "      <td>59.166.0.3</td>\n",
              "      <td>21511</td>\n",
              "      <td>149.171.126.9</td>\n",
              "      <td>21</td>\n",
              "      <td>tcp</td>\n",
              "      <td>CON</td>\n",
              "      <td>6.335154</td>\n",
              "      <td>1802</td>\n",
              "      <td>2088</td>\n",
              "      <td>31</td>\n",
              "      <td>...</td>\n",
              "      <td>2</td>\n",
              "      <td>2</td>\n",
              "      <td>2</td>\n",
              "      <td>4</td>\n",
              "      <td>2</td>\n",
              "      <td>2</td>\n",
              "      <td>2</td>\n",
              "      <td>2</td>\n",
              "      <td>NaN</td>\n",
              "      <td>0</td>\n",
              "    </tr>\n",
              "    <tr>\n",
              "      <th>440041</th>\n",
              "      <td>59.166.0.9</td>\n",
              "      <td>35433</td>\n",
              "      <td>149.171.126.0</td>\n",
              "      <td>80</td>\n",
              "      <td>tcp</td>\n",
              "      <td>CON</td>\n",
              "      <td>2.200934</td>\n",
              "      <td>3498</td>\n",
              "      <td>166054</td>\n",
              "      <td>31</td>\n",
              "      <td>...</td>\n",
              "      <td></td>\n",
              "      <td>1</td>\n",
              "      <td>1</td>\n",
              "      <td>2</td>\n",
              "      <td>4</td>\n",
              "      <td>2</td>\n",
              "      <td>2</td>\n",
              "      <td>2</td>\n",
              "      <td>NaN</td>\n",
              "      <td>0</td>\n",
              "    </tr>\n",
              "    <tr>\n",
              "      <th>440042</th>\n",
              "      <td>175.45.176.0</td>\n",
              "      <td>17293</td>\n",
              "      <td>149.171.126.17</td>\n",
              "      <td>110</td>\n",
              "      <td>tcp</td>\n",
              "      <td>CON</td>\n",
              "      <td>0.942984</td>\n",
              "      <td>574</td>\n",
              "      <td>676</td>\n",
              "      <td>62</td>\n",
              "      <td>...</td>\n",
              "      <td></td>\n",
              "      <td>1</td>\n",
              "      <td>1</td>\n",
              "      <td>2</td>\n",
              "      <td>4</td>\n",
              "      <td>2</td>\n",
              "      <td>2</td>\n",
              "      <td>2</td>\n",
              "      <td>Exploits</td>\n",
              "      <td>1</td>\n",
              "    </tr>\n",
              "  </tbody>\n",
              "</table>\n",
              "<p>2540043 rows × 49 columns</p>\n",
              "</div>\n",
              "      <button class=\"colab-df-convert\" onclick=\"convertToInteractive('df-83f4fa71-ebfd-42af-9471-ef9af6d9f7c4')\"\n",
              "              title=\"Convert this dataframe to an interactive table.\"\n",
              "              style=\"display:none;\">\n",
              "        \n",
              "  <svg xmlns=\"http://www.w3.org/2000/svg\" height=\"24px\"viewBox=\"0 0 24 24\"\n",
              "       width=\"24px\">\n",
              "    <path d=\"M0 0h24v24H0V0z\" fill=\"none\"/>\n",
              "    <path d=\"M18.56 5.44l.94 2.06.94-2.06 2.06-.94-2.06-.94-.94-2.06-.94 2.06-2.06.94zm-11 1L8.5 8.5l.94-2.06 2.06-.94-2.06-.94L8.5 2.5l-.94 2.06-2.06.94zm10 10l.94 2.06.94-2.06 2.06-.94-2.06-.94-.94-2.06-.94 2.06-2.06.94z\"/><path d=\"M17.41 7.96l-1.37-1.37c-.4-.4-.92-.59-1.43-.59-.52 0-1.04.2-1.43.59L10.3 9.45l-7.72 7.72c-.78.78-.78 2.05 0 2.83L4 21.41c.39.39.9.59 1.41.59.51 0 1.02-.2 1.41-.59l7.78-7.78 2.81-2.81c.8-.78.8-2.07 0-2.86zM5.41 20L4 18.59l7.72-7.72 1.47 1.35L5.41 20z\"/>\n",
              "  </svg>\n",
              "      </button>\n",
              "      \n",
              "  <style>\n",
              "    .colab-df-container {\n",
              "      display:flex;\n",
              "      flex-wrap:wrap;\n",
              "      gap: 12px;\n",
              "    }\n",
              "\n",
              "    .colab-df-convert {\n",
              "      background-color: #E8F0FE;\n",
              "      border: none;\n",
              "      border-radius: 50%;\n",
              "      cursor: pointer;\n",
              "      display: none;\n",
              "      fill: #1967D2;\n",
              "      height: 32px;\n",
              "      padding: 0 0 0 0;\n",
              "      width: 32px;\n",
              "    }\n",
              "\n",
              "    .colab-df-convert:hover {\n",
              "      background-color: #E2EBFA;\n",
              "      box-shadow: 0px 1px 2px rgba(60, 64, 67, 0.3), 0px 1px 3px 1px rgba(60, 64, 67, 0.15);\n",
              "      fill: #174EA6;\n",
              "    }\n",
              "\n",
              "    [theme=dark] .colab-df-convert {\n",
              "      background-color: #3B4455;\n",
              "      fill: #D2E3FC;\n",
              "    }\n",
              "\n",
              "    [theme=dark] .colab-df-convert:hover {\n",
              "      background-color: #434B5C;\n",
              "      box-shadow: 0px 1px 3px 1px rgba(0, 0, 0, 0.15);\n",
              "      filter: drop-shadow(0px 1px 2px rgba(0, 0, 0, 0.3));\n",
              "      fill: #FFFFFF;\n",
              "    }\n",
              "  </style>\n",
              "\n",
              "      <script>\n",
              "        const buttonEl =\n",
              "          document.querySelector('#df-83f4fa71-ebfd-42af-9471-ef9af6d9f7c4 button.colab-df-convert');\n",
              "        buttonEl.style.display =\n",
              "          google.colab.kernel.accessAllowed ? 'block' : 'none';\n",
              "\n",
              "        async function convertToInteractive(key) {\n",
              "          const element = document.querySelector('#df-83f4fa71-ebfd-42af-9471-ef9af6d9f7c4');\n",
              "          const dataTable =\n",
              "            await google.colab.kernel.invokeFunction('convertToInteractive',\n",
              "                                                     [key], {});\n",
              "          if (!dataTable) return;\n",
              "\n",
              "          const docLinkHtml = 'Like what you see? Visit the ' +\n",
              "            '<a target=\"_blank\" href=https://colab.research.google.com/notebooks/data_table.ipynb>data table notebook</a>'\n",
              "            + ' to learn more about interactive tables.';\n",
              "          element.innerHTML = '';\n",
              "          dataTable['output_type'] = 'display_data';\n",
              "          await google.colab.output.renderOutput(dataTable, element);\n",
              "          const docLink = document.createElement('div');\n",
              "          docLink.innerHTML = docLinkHtml;\n",
              "          element.appendChild(docLink);\n",
              "        }\n",
              "      </script>\n",
              "    </div>\n",
              "  </div>\n",
              "  "
            ]
          },
          "metadata": {},
          "execution_count": 5
        }
      ]
    },
    {
      "cell_type": "markdown",
      "source": [
        "Pre processing of data"
      ],
      "metadata": {
        "id": "dMWdlj6ipZii"
      }
    },
    {
      "cell_type": "markdown",
      "source": [
        "Imbalanced data set"
      ],
      "metadata": {
        "id": "luXrDemB0uXT"
      }
    },
    {
      "cell_type": "code",
      "source": [
        "#removes extra spaces from column attack_cat\n",
        "df_final['attack_cat'] = df_final['attack_cat'].str.strip()\n",
        "df_final['attack_cat'] = df_final['attack_cat'].replace({'Backdoors': 'Backdoors', 'Backdoor': 'Backdoors'})"
      ],
      "metadata": {
        "id": "u-Xmjio44zp_"
      },
      "execution_count": null,
      "outputs": []
    },
    {
      "cell_type": "code",
      "source": [
        "# Update the 'attack_cat' column with Normal where label is 0\n",
        "df_final.loc[df_final['Label'] == 0, 'attack_cat'] = 'Normal'"
      ],
      "metadata": {
        "id": "PNFtR2sd6igp"
      },
      "execution_count": null,
      "outputs": []
    },
    {
      "cell_type": "markdown",
      "source": [
        "Data Visualization"
      ],
      "metadata": {
        "id": "uZIvDpYm1QH8"
      }
    },
    {
      "cell_type": "markdown",
      "source": [
        "1- Binary"
      ],
      "metadata": {
        "id": "-x-WFCy92FDX"
      }
    },
    {
      "cell_type": "code",
      "source": [
        "## Pie chart distribution of normal and abnormal classes\n",
        "plt.figure(figsize=(4,4))\n",
        "plt.pie(df_final.Label.value_counts(),labels=['normal','abnormal'],autopct='%0.2f%%')\n",
        "plt.title(\"Pie chart distribution of normal and abnormal labels\",fontsize=16)\n",
        "plt.legend()\n",
        "plt.show()"
      ],
      "metadata": {
        "colab": {
          "base_uri": "https://localhost:8080/",
          "height": 369
        },
        "id": "FAtFKGOm1SBS",
        "outputId": "e107aee8-2540-435e-d0ee-e11e3de01105"
      },
      "execution_count": null,
      "outputs": [
        {
          "output_type": "display_data",
          "data": {
            "text/plain": [
              "<Figure size 400x400 with 1 Axes>"
            ],
            "image/png": "[encoded data removed]"
          },
          "metadata": {}
        }
      ]
    },
    {
      "cell_type": "markdown",
      "source": [
        "2- Multi-Class"
      ],
      "metadata": {
        "id": "FgtgMhUa2Hbh"
      }
    },
    {
      "cell_type": "code",
      "source": [
        "## pie chart distribution of normal and all other abnormal classes\n",
        "plt.figure(figsize=(8,8))\n",
        "plt.pie(df_final.attack_cat.value_counts(),labels=df_final.attack_cat.unique(),autopct='%0.2f%%')\n",
        "plt.title('Pie chart distribution of multi-class labels')\n",
        "plt.legend(loc='best')\n",
        "plt.show()"
      ],
      "metadata": {
        "colab": {
          "base_uri": "https://localhost:8080/",
          "height": 618
        },
        "id": "rJR5msw-2Jco",
        "outputId": "4d829003-b597-4295-90bb-4776ab559c91"
      },
      "execution_count": null,
      "outputs": [
        {
          "output_type": "display_data",
          "data": {
            "text/plain": [
              "<Figure size 800x800 with 1 Axes>"
            ],
            "image/png": "[encoded data removed]"
          },
          "metadata": {}
        }
      ]
    },
    {
      "cell_type": "code",
      "source": [
        "# Calculate the class distribution of the dataset in percentage\n",
        "class_distribution = df_final['attack_cat'].value_counts(normalize=True) * 100\n",
        "\n",
        "# Display the class distribution\n",
        "print(class_distribution)"
      ],
      "metadata": {
        "colab": {
          "base_uri": "https://localhost:8080/"
        },
        "id": "gQ6kPwGM0xkg",
        "outputId": "d6aec407-dfa7-41f9-f337-12ab2c9025e2"
      },
      "execution_count": null,
      "outputs": [
        {
          "output_type": "stream",
          "name": "stdout",
          "text": [
            "Normal            87.351277\n",
            "Generic            8.483360\n",
            "Exploits           1.752923\n",
            "Fuzzers            0.954551\n",
            "DoS                0.643808\n",
            "Reconnaissance     0.550660\n",
            "Analysis           0.105392\n",
            "Backdoors          0.091691\n",
            "Shellcode          0.059487\n",
            "Worms              0.006850\n",
            "Name: attack_cat, dtype: float64\n"
          ]
        }
      ]
    },
    {
      "cell_type": "code",
      "source": [
        "df_final"
      ],
      "metadata": {
        "colab": {
          "base_uri": "https://localhost:8080/",
          "height": 505
        },
        "id": "bB90Xtn6P93M",
        "outputId": "6b5121c1-7a5e-42f9-aab0-f283d1ddf86d"
      },
      "execution_count": null,
      "outputs": [
        {
          "output_type": "execute_result",
          "data": {
            "text/plain": [
              "               srcip  sport           dstip dsport proto state       dur  \\\n",
              "0         59.166.0.0  33661   149.171.126.9   1024   udp   CON  0.036133   \n",
              "1         59.166.0.6   1464   149.171.126.7     53   udp   CON  0.001119   \n",
              "2         59.166.0.5   3593   149.171.126.5     53   udp   CON  0.001209   \n",
              "3         59.166.0.3  49664   149.171.126.0     53   udp   CON  0.001169   \n",
              "4         59.166.0.0  32119   149.171.126.9    111   udp   CON  0.078339   \n",
              "...              ...    ...             ...    ...   ...   ...       ...   \n",
              "440038    59.166.0.5  33094   149.171.126.7  43433   tcp   FIN  0.087306   \n",
              "440039    59.166.0.7  20848   149.171.126.4     21   tcp   CON  0.365058   \n",
              "440040    59.166.0.3  21511   149.171.126.9     21   tcp   CON  6.335154   \n",
              "440041    59.166.0.9  35433   149.171.126.0     80   tcp   CON  2.200934   \n",
              "440042  175.45.176.0  17293  149.171.126.17    110   tcp   CON  0.942984   \n",
              "\n",
              "        sbytes  dbytes  sttl  ...  ct_ftp_cmd  ct_srv_src  ct_srv_dst  \\\n",
              "0          528     304    31  ...           0           2           4   \n",
              "1          146     178    31  ...           0          12           8   \n",
              "2          132     164    31  ...           0           6           9   \n",
              "3          146     178    31  ...           0           7           9   \n",
              "4          568     312    31  ...           0           2           4   \n",
              "...        ...     ...   ...  ...         ...         ...         ...   \n",
              "440038     320    1828    31  ...                       1           2   \n",
              "440039     456     346    31  ...           2           2           2   \n",
              "440040    1802    2088    31  ...           2           2           2   \n",
              "440041    3498  166054    31  ...                       1           1   \n",
              "440042     574     676    62  ...                       1           1   \n",
              "\n",
              "       ct_dst_ltm  ct_src_ ltm  ct_src_dport_ltm  ct_dst_sport_ltm  \\\n",
              "0               2            3                 1                 1   \n",
              "1               1            2                 2                 1   \n",
              "2               1            1                 1                 1   \n",
              "3               1            1                 1                 1   \n",
              "4               2            3                 1                 1   \n",
              "...           ...          ...               ...               ...   \n",
              "440038          3            3                 1                 1   \n",
              "440039          2            2                 2                 2   \n",
              "440040          4            2                 2                 2   \n",
              "440041          2            4                 2                 2   \n",
              "440042          2            4                 2                 2   \n",
              "\n",
              "        ct_dst_src_ltm  attack_cat  Label  \n",
              "0                    2      Normal      0  \n",
              "1                    1      Normal      0  \n",
              "2                    1      Normal      0  \n",
              "3                    1      Normal      0  \n",
              "4                    2      Normal      0  \n",
              "...                ...         ...    ...  \n",
              "440038               3      Normal      0  \n",
              "440039               2      Normal      0  \n",
              "440040               2      Normal      0  \n",
              "440041               2      Normal      0  \n",
              "440042               2    Exploits      1  \n",
              "\n",
              "[2540043 rows x 49 columns]"
            ],
            "text/html": [
              "\n",
              "  <div id=\"df-aaf7f75a-3fa2-46eb-8afa-f6636270f11b\">\n",
              "    <div class=\"colab-df-container\">\n",
              "      <div>\n",
              "<style scoped>\n",
              "    .dataframe tbody tr th:only-of-type {\n",
              "        vertical-align: middle;\n",
              "    }\n",
              "\n",
              "    .dataframe tbody tr th {\n",
              "        vertical-align: top;\n",
              "    }\n",
              "\n",
              "    .dataframe thead th {\n",
              "        text-align: right;\n",
              "    }\n",
              "</style>\n",
              "<table border=\"1\" class=\"dataframe\">\n",
              "  <thead>\n",
              "    <tr style=\"text-align: right;\">\n",
              "      <th></th>\n",
              "      <th>srcip</th>\n",
              "      <th>sport</th>\n",
              "      <th>dstip</th>\n",
              "      <th>dsport</th>\n",
              "      <th>proto</th>\n",
              "      <th>state</th>\n",
              "      <th>dur</th>\n",
              "      <th>sbytes</th>\n",
              "      <th>dbytes</th>\n",
              "      <th>sttl</th>\n",
              "      <th>...</th>\n",
              "      <th>ct_ftp_cmd</th>\n",
              "      <th>ct_srv_src</th>\n",
              "      <th>ct_srv_dst</th>\n",
              "      <th>ct_dst_ltm</th>\n",
              "      <th>ct_src_ ltm</th>\n",
              "      <th>ct_src_dport_ltm</th>\n",
              "      <th>ct_dst_sport_ltm</th>\n",
              "      <th>ct_dst_src_ltm</th>\n",
              "      <th>attack_cat</th>\n",
              "      <th>Label</th>\n",
              "    </tr>\n",
              "  </thead>\n",
              "  <tbody>\n",
              "    <tr>\n",
              "      <th>0</th>\n",
              "      <td>59.166.0.0</td>\n",
              "      <td>33661</td>\n",
              "      <td>149.171.126.9</td>\n",
              "      <td>1024</td>\n",
              "      <td>udp</td>\n",
              "      <td>CON</td>\n",
              "      <td>0.036133</td>\n",
              "      <td>528</td>\n",
              "      <td>304</td>\n",
              "      <td>31</td>\n",
              "      <td>...</td>\n",
              "      <td>0</td>\n",
              "      <td>2</td>\n",
              "      <td>4</td>\n",
              "      <td>2</td>\n",
              "      <td>3</td>\n",
              "      <td>1</td>\n",
              "      <td>1</td>\n",
              "      <td>2</td>\n",
              "      <td>Normal</td>\n",
              "      <td>0</td>\n",
              "    </tr>\n",
              "    <tr>\n",
              "      <th>1</th>\n",
              "      <td>59.166.0.6</td>\n",
              "      <td>1464</td>\n",
              "      <td>149.171.126.7</td>\n",
              "      <td>53</td>\n",
              "      <td>udp</td>\n",
              "      <td>CON</td>\n",
              "      <td>0.001119</td>\n",
              "      <td>146</td>\n",
              "      <td>178</td>\n",
              "      <td>31</td>\n",
              "      <td>...</td>\n",
              "      <td>0</td>\n",
              "      <td>12</td>\n",
              "      <td>8</td>\n",
              "      <td>1</td>\n",
              "      <td>2</td>\n",
              "      <td>2</td>\n",
              "      <td>1</td>\n",
              "      <td>1</td>\n",
              "      <td>Normal</td>\n",
              "      <td>0</td>\n",
              "    </tr>\n",
              "    <tr>\n",
              "      <th>2</th>\n",
              "      <td>59.166.0.5</td>\n",
              "      <td>3593</td>\n",
              "      <td>149.171.126.5</td>\n",
              "      <td>53</td>\n",
              "      <td>udp</td>\n",
              "      <td>CON</td>\n",
              "      <td>0.001209</td>\n",
              "      <td>132</td>\n",
              "      <td>164</td>\n",
              "      <td>31</td>\n",
              "      <td>...</td>\n",
              "      <td>0</td>\n",
              "      <td>6</td>\n",
              "      <td>9</td>\n",
              "      <td>1</td>\n",
              "      <td>1</td>\n",
              "      <td>1</td>\n",
              "      <td>1</td>\n",
              "      <td>1</td>\n",
              "      <td>Normal</td>\n",
              "      <td>0</td>\n",
              "    </tr>\n",
              "    <tr>\n",
              "      <th>3</th>\n",
              "      <td>59.166.0.3</td>\n",
              "      <td>49664</td>\n",
              "      <td>149.171.126.0</td>\n",
              "      <td>53</td>\n",
              "      <td>udp</td>\n",
              "      <td>CON</td>\n",
              "      <td>0.001169</td>\n",
              "      <td>146</td>\n",
              "      <td>178</td>\n",
              "      <td>31</td>\n",
              "      <td>...</td>\n",
              "      <td>0</td>\n",
              "      <td>7</td>\n",
              "      <td>9</td>\n",
              "      <td>1</td>\n",
              "      <td>1</td>\n",
              "      <td>1</td>\n",
              "      <td>1</td>\n",
              "      <td>1</td>\n",
              "      <td>Normal</td>\n",
              "      <td>0</td>\n",
              "    </tr>\n",
              "    <tr>\n",
              "      <th>4</th>\n",
              "      <td>59.166.0.0</td>\n",
              "      <td>32119</td>\n",
              "      <td>149.171.126.9</td>\n",
              "      <td>111</td>\n",
              "      <td>udp</td>\n",
              "      <td>CON</td>\n",
              "      <td>0.078339</td>\n",
              "      <td>568</td>\n",
              "      <td>312</td>\n",
              "      <td>31</td>\n",
              "      <td>...</td>\n",
              "      <td>0</td>\n",
              "      <td>2</td>\n",
              "      <td>4</td>\n",
              "      <td>2</td>\n",
              "      <td>3</td>\n",
              "      <td>1</td>\n",
              "      <td>1</td>\n",
              "      <td>2</td>\n",
              "      <td>Normal</td>\n",
              "      <td>0</td>\n",
              "    </tr>\n",
              "    <tr>\n",
              "      <th>...</th>\n",
              "      <td>...</td>\n",
              "      <td>...</td>\n",
              "      <td>...</td>\n",
              "      <td>...</td>\n",
              "      <td>...</td>\n",
              "      <td>...</td>\n",
              "      <td>...</td>\n",
              "      <td>...</td>\n",
              "      <td>...</td>\n",
              "      <td>...</td>\n",
              "      <td>...</td>\n",
              "      <td>...</td>\n",
              "      <td>...</td>\n",
              "      <td>...</td>\n",
              "      <td>...</td>\n",
              "      <td>...</td>\n",
              "      <td>...</td>\n",
              "      <td>...</td>\n",
              "      <td>...</td>\n",
              "      <td>...</td>\n",
              "      <td>...</td>\n",
              "    </tr>\n",
              "    <tr>\n",
              "      <th>440038</th>\n",
              "      <td>59.166.0.5</td>\n",
              "      <td>33094</td>\n",
              "      <td>149.171.126.7</td>\n",
              "      <td>43433</td>\n",
              "      <td>tcp</td>\n",
              "      <td>FIN</td>\n",
              "      <td>0.087306</td>\n",
              "      <td>320</td>\n",
              "      <td>1828</td>\n",
              "      <td>31</td>\n",
              "      <td>...</td>\n",
              "      <td></td>\n",
              "      <td>1</td>\n",
              "      <td>2</td>\n",
              "      <td>3</td>\n",
              "      <td>3</td>\n",
              "      <td>1</td>\n",
              "      <td>1</td>\n",
              "      <td>3</td>\n",
              "      <td>Normal</td>\n",
              "      <td>0</td>\n",
              "    </tr>\n",
              "    <tr>\n",
              "      <th>440039</th>\n",
              "      <td>59.166.0.7</td>\n",
              "      <td>20848</td>\n",
              "      <td>149.171.126.4</td>\n",
              "      <td>21</td>\n",
              "      <td>tcp</td>\n",
              "      <td>CON</td>\n",
              "      <td>0.365058</td>\n",
              "      <td>456</td>\n",
              "      <td>346</td>\n",
              "      <td>31</td>\n",
              "      <td>...</td>\n",
              "      <td>2</td>\n",
              "      <td>2</td>\n",
              "      <td>2</td>\n",
              "      <td>2</td>\n",
              "      <td>2</td>\n",
              "      <td>2</td>\n",
              "      <td>2</td>\n",
              "      <td>2</td>\n",
              "      <td>Normal</td>\n",
              "      <td>0</td>\n",
              "    </tr>\n",
              "    <tr>\n",
              "      <th>440040</th>\n",
              "      <td>59.166.0.3</td>\n",
              "      <td>21511</td>\n",
              "      <td>149.171.126.9</td>\n",
              "      <td>21</td>\n",
              "      <td>tcp</td>\n",
              "      <td>CON</td>\n",
              "      <td>6.335154</td>\n",
              "      <td>1802</td>\n",
              "      <td>2088</td>\n",
              "      <td>31</td>\n",
              "      <td>...</td>\n",
              "      <td>2</td>\n",
              "      <td>2</td>\n",
              "      <td>2</td>\n",
              "      <td>4</td>\n",
              "      <td>2</td>\n",
              "      <td>2</td>\n",
              "      <td>2</td>\n",
              "      <td>2</td>\n",
              "      <td>Normal</td>\n",
              "      <td>0</td>\n",
              "    </tr>\n",
              "    <tr>\n",
              "      <th>440041</th>\n",
              "      <td>59.166.0.9</td>\n",
              "      <td>35433</td>\n",
              "      <td>149.171.126.0</td>\n",
              "      <td>80</td>\n",
              "      <td>tcp</td>\n",
              "      <td>CON</td>\n",
              "      <td>2.200934</td>\n",
              "      <td>3498</td>\n",
              "      <td>166054</td>\n",
              "      <td>31</td>\n",
              "      <td>...</td>\n",
              "      <td></td>\n",
              "      <td>1</td>\n",
              "      <td>1</td>\n",
              "      <td>2</td>\n",
              "      <td>4</td>\n",
              "      <td>2</td>\n",
              "      <td>2</td>\n",
              "      <td>2</td>\n",
              "      <td>Normal</td>\n",
              "      <td>0</td>\n",
              "    </tr>\n",
              "    <tr>\n",
              "      <th>440042</th>\n",
              "      <td>175.45.176.0</td>\n",
              "      <td>17293</td>\n",
              "      <td>149.171.126.17</td>\n",
              "      <td>110</td>\n",
              "      <td>tcp</td>\n",
              "      <td>CON</td>\n",
              "      <td>0.942984</td>\n",
              "      <td>574</td>\n",
              "      <td>676</td>\n",
              "      <td>62</td>\n",
              "      <td>...</td>\n",
              "      <td></td>\n",
              "      <td>1</td>\n",
              "      <td>1</td>\n",
              "      <td>2</td>\n",
              "      <td>4</td>\n",
              "      <td>2</td>\n",
              "      <td>2</td>\n",
              "      <td>2</td>\n",
              "      <td>Exploits</td>\n",
              "      <td>1</td>\n",
              "    </tr>\n",
              "  </tbody>\n",
              "</table>\n",
              "<p>2540043 rows × 49 columns</p>\n",
              "</div>\n",
              "      <button class=\"colab-df-convert\" onclick=\"convertToInteractive('df-aaf7f75a-3fa2-46eb-8afa-f6636270f11b')\"\n",
              "              title=\"Convert this dataframe to an interactive table.\"\n",
              "              style=\"display:none;\">\n",
              "        \n",
              "  <svg xmlns=\"http://www.w3.org/2000/svg\" height=\"24px\"viewBox=\"0 0 24 24\"\n",
              "       width=\"24px\">\n",
              "    <path d=\"M0 0h24v24H0V0z\" fill=\"none\"/>\n",
              "    <path d=\"M18.56 5.44l.94 2.06.94-2.06 2.06-.94-2.06-.94-.94-2.06-.94 2.06-2.06.94zm-11 1L8.5 8.5l.94-2.06 2.06-.94-2.06-.94L8.5 2.5l-.94 2.06-2.06.94zm10 10l.94 2.06.94-2.06 2.06-.94-2.06-.94-.94-2.06-.94 2.06-2.06.94z\"/><path d=\"M17.41 7.96l-1.37-1.37c-.4-.4-.92-.59-1.43-.59-.52 0-1.04.2-1.43.59L10.3 9.45l-7.72 7.72c-.78.78-.78 2.05 0 2.83L4 21.41c.39.39.9.59 1.41.59.51 0 1.02-.2 1.41-.59l7.78-7.78 2.81-2.81c.8-.78.8-2.07 0-2.86zM5.41 20L4 18.59l7.72-7.72 1.47 1.35L5.41 20z\"/>\n",
              "  </svg>\n",
              "      </button>\n",
              "      \n",
              "  <style>\n",
              "    .colab-df-container {\n",
              "      display:flex;\n",
              "      flex-wrap:wrap;\n",
              "      gap: 12px;\n",
              "    }\n",
              "\n",
              "    .colab-df-convert {\n",
              "      background-color: #E8F0FE;\n",
              "      border: none;\n",
              "      border-radius: 50%;\n",
              "      cursor: pointer;\n",
              "      display: none;\n",
              "      fill: #1967D2;\n",
              "      height: 32px;\n",
              "      padding: 0 0 0 0;\n",
              "      width: 32px;\n",
              "    }\n",
              "\n",
              "    .colab-df-convert:hover {\n",
              "      background-color: #E2EBFA;\n",
              "      box-shadow: 0px 1px 2px rgba(60, 64, 67, 0.3), 0px 1px 3px 1px rgba(60, 64, 67, 0.15);\n",
              "      fill: #174EA6;\n",
              "    }\n",
              "\n",
              "    [theme=dark] .colab-df-convert {\n",
              "      background-color: #3B4455;\n",
              "      fill: #D2E3FC;\n",
              "    }\n",
              "\n",
              "    [theme=dark] .colab-df-convert:hover {\n",
              "      background-color: #434B5C;\n",
              "      box-shadow: 0px 1px 3px 1px rgba(0, 0, 0, 0.15);\n",
              "      filter: drop-shadow(0px 1px 2px rgba(0, 0, 0, 0.3));\n",
              "      fill: #FFFFFF;\n",
              "    }\n",
              "  </style>\n",
              "\n",
              "      <script>\n",
              "        const buttonEl =\n",
              "          document.querySelector('#df-aaf7f75a-3fa2-46eb-8afa-f6636270f11b button.colab-df-convert');\n",
              "        buttonEl.style.display =\n",
              "          google.colab.kernel.accessAllowed ? 'block' : 'none';\n",
              "\n",
              "        async function convertToInteractive(key) {\n",
              "          const element = document.querySelector('#df-aaf7f75a-3fa2-46eb-8afa-f6636270f11b');\n",
              "          const dataTable =\n",
              "            await google.colab.kernel.invokeFunction('convertToInteractive',\n",
              "                                                     [key], {});\n",
              "          if (!dataTable) return;\n",
              "\n",
              "          const docLinkHtml = 'Like what you see? Visit the ' +\n",
              "            '<a target=\"_blank\" href=https://colab.research.google.com/notebooks/data_table.ipynb>data table notebook</a>'\n",
              "            + ' to learn more about interactive tables.';\n",
              "          element.innerHTML = '';\n",
              "          dataTable['output_type'] = 'display_data';\n",
              "          await google.colab.output.renderOutput(dataTable, element);\n",
              "          const docLink = document.createElement('div');\n",
              "          docLink.innerHTML = docLinkHtml;\n",
              "          element.appendChild(docLink);\n",
              "        }\n",
              "      </script>\n",
              "    </div>\n",
              "  </div>\n",
              "  "
            ]
          },
          "metadata": {},
          "execution_count": 28
        }
      ]
    },
    {
      "cell_type": "code",
      "source": [
        "#undersampling\n",
        "\n",
        "# Separate the \"normal\" class from the rest of the data\n",
        "normal_data = df_final[df_final['attack_cat'] == 'Normal']\n",
        "other_data = df_final[df_final['attack_cat'] != 'Normal']\n",
        "\n",
        "# Reduce the number of instances in the \"Normal\" class by 50%\n",
        "reduced_normal_data = normal_data.sample(frac=0.5, random_state=42)\n",
        "\n",
        "# Combine the reduced \"Normal\" data and the other data\n",
        "final_data = pd.concat([reduced_normal_data, other_data])\n",
        "\n",
        "# Print the class distribution of the final data\n",
        "class_distribution = final_data['attack_cat'].value_counts(normalize=True) * 100\n",
        "print(class_distribution)\n"
      ],
      "metadata": {
        "colab": {
          "base_uri": "https://localhost:8080/"
        },
        "id": "076CC7-vMv09",
        "outputId": "fabd3f3a-e8bd-4852-d5a5-b224945035b8"
      },
      "execution_count": null,
      "outputs": [
        {
          "output_type": "stream",
          "name": "stdout",
          "text": [
            "Normal            77.543069\n",
            "Generic           15.061618\n",
            "Exploits           3.112193\n",
            "Fuzzers            1.694739\n",
            "DoS                1.143036\n",
            "Reconnaissance     0.977659\n",
            "Analysis           0.187116\n",
            "Backdoors          0.162792\n",
            "Shellcode          0.105615\n",
            "Worms              0.012162\n",
            "Name: attack_cat, dtype: float64\n"
          ]
        }
      ]
    },
    {
      "cell_type": "code",
      "source": [
        "final_data.dtypes"
      ],
      "metadata": {
        "id": "Yxz691iaRR9w"
      },
      "execution_count": null,
      "outputs": []
    },
    {
      "cell_type": "code",
      "source": [
        "# List of columns to convert\n",
        "columns_to_convert = ['sport', 'dsport', 'ct_ftp_cmd']\n",
        "\n",
        "# Convert each column from object to numeric data type\n",
        "for column in columns_to_convert:\n",
        "    final_data[column] = pd.to_numeric(final_data[column], errors='coerce')"
      ],
      "metadata": {
        "id": "9NRXC4-CX3ab"
      },
      "execution_count": null,
      "outputs": []
    },
    {
      "cell_type": "code",
      "source": [
        "final_data.dtypes"
      ],
      "metadata": {
        "id": "_KmFm_q4YFeK",
        "colab": {
          "base_uri": "https://localhost:8080/"
        },
        "outputId": "06b10ffb-152e-4ea8-9927-794adf6304d6"
      },
      "execution_count": null,
      "outputs": [
        {
          "output_type": "execute_result",
          "data": {
            "text/plain": [
              "srcip                object\n",
              "sport               float64\n",
              "dstip                object\n",
              "dsport              float64\n",
              "proto                object\n",
              "state                object\n",
              "dur                 float64\n",
              "sbytes                int64\n",
              "dbytes                int64\n",
              "sttl                  int64\n",
              "dttl                  int64\n",
              "sloss                 int64\n",
              "dloss                 int64\n",
              "service              object\n",
              "Sload               float64\n",
              "Dload               float64\n",
              "Spkts                 int64\n",
              "Dpkts                 int64\n",
              "swin                  int64\n",
              "dwin                  int64\n",
              "stcpb                 int64\n",
              "dtcpb                 int64\n",
              "smeansz               int64\n",
              "dmeansz               int64\n",
              "trans_depth           int64\n",
              "res_bdy_len           int64\n",
              "Sjit                float64\n",
              "Djit                float64\n",
              "Stime                 int64\n",
              "Ltime                 int64\n",
              "Sintpkt             float64\n",
              "Dintpkt             float64\n",
              "tcprtt              float64\n",
              "synack              float64\n",
              "ackdat              float64\n",
              "is_sm_ips_ports       int64\n",
              "ct_state_ttl          int64\n",
              "ct_flw_http_mthd    float64\n",
              "is_ftp_login        float64\n",
              "ct_ftp_cmd          float64\n",
              "ct_srv_src            int64\n",
              "ct_srv_dst            int64\n",
              "ct_dst_ltm            int64\n",
              "ct_src_ ltm           int64\n",
              "ct_src_dport_ltm      int64\n",
              "ct_dst_sport_ltm      int64\n",
              "ct_dst_src_ltm        int64\n",
              "attack_cat           object\n",
              "Label                 int64\n",
              "dtype: object"
            ]
          },
          "metadata": {},
          "execution_count": 12
        }
      ]
    },
    {
      "cell_type": "code",
      "source": [
        "#drop columns having categorical/nominal data bcz those are incompatible\n",
        "df = final_data.drop(['srcip','dstip','proto', 'service','state'], axis=1)"
      ],
      "metadata": {
        "id": "PNQ2EJ9jTPR6"
      },
      "execution_count": null,
      "outputs": []
    },
    {
      "cell_type": "code",
      "source": [
        "df"
      ],
      "metadata": {
        "id": "nOiR4PFjTtIW",
        "colab": {
          "base_uri": "https://localhost:8080/",
          "height": 505
        },
        "outputId": "cd0f4b6b-7d6f-4832-bc63-e4062e88ab46"
      },
      "execution_count": null,
      "outputs": [
        {
          "output_type": "execute_result",
          "data": {
            "text/plain": [
              "          sport   dsport       dur  sbytes   dbytes  sttl  dttl  sloss  dloss  \\\n",
              "512413  47439.0     53.0  0.000004     264        0    60     0      0      0   \n",
              "440212  35877.0     80.0  1.368633   19722  1087890    31    29      2    370   \n",
              "82578   37951.0  12319.0  0.002692     320     1956    31    29      1      2   \n",
              "304056  14284.0  40769.0  0.100885    1784    33850    31    29      1     12   \n",
              "429521   9167.0     21.0  3.314790    2934     3742    31    29     11     15   \n",
              "...         ...      ...       ...     ...      ...   ...   ...    ...    ...   \n",
              "440023  47439.0     53.0  0.000001     114        0   254     0      0      0   \n",
              "440024  17293.0    110.0  0.942984     574      676    62   252      5      6   \n",
              "440025  33654.0     80.0  2.579405  269883     1300    62   252    103      1   \n",
              "440026  33654.0     80.0  2.579405  269883     1300    62   252    103      1   \n",
              "440042  17293.0    110.0  0.942984     574      676    62   252      5      6   \n",
              "\n",
              "               Sload  ...  ct_ftp_cmd  ct_srv_src  ct_srv_dst  ct_dst_ltm  \\\n",
              "512413  2.640000e+08  ...         NaN          29          29          22   \n",
              "440212  1.149702e+05  ...         NaN           1           3           4   \n",
              "82578   7.934621e+05  ...         NaN           3           3           5   \n",
              "304056  1.371066e+05  ...         0.0           8           2           1   \n",
              "429521  6.945840e+03  ...         1.0           1           1          15   \n",
              "...              ...  ...         ...         ...         ...         ...   \n",
              "440023  4.560000e+08  ...         NaN          15          15          15   \n",
              "440024  4.470914e+03  ...         NaN           2           1           2   \n",
              "440025  8.330169e+05  ...         NaN           2           1           2   \n",
              "440026  8.330169e+05  ...         NaN           1           1           2   \n",
              "440042  4.470914e+03  ...         NaN           1           1           2   \n",
              "\n",
              "        ct_src_ ltm  ct_src_dport_ltm  ct_dst_sport_ltm  ct_dst_src_ltm  \\\n",
              "512413           22                22                22              29   \n",
              "440212            1                 1                 1               3   \n",
              "82578             7                 1                 1               5   \n",
              "304056            4                 1                 1               1   \n",
              "429521           12                 1                 1               5   \n",
              "...             ...               ...               ...             ...   \n",
              "440023           15                15                15              15   \n",
              "440024            4                 2                 2               2   \n",
              "440025            4                 2                 2               2   \n",
              "440026            4                 2                 2               2   \n",
              "440042            4                 2                 2               2   \n",
              "\n",
              "        attack_cat  Label  \n",
              "512413      Normal      0  \n",
              "440212      Normal      0  \n",
              "82578       Normal      0  \n",
              "304056      Normal      0  \n",
              "429521      Normal      0  \n",
              "...            ...    ...  \n",
              "440023     Generic      1  \n",
              "440024    Exploits      1  \n",
              "440025         DoS      1  \n",
              "440026         DoS      1  \n",
              "440042    Exploits      1  \n",
              "\n",
              "[1430663 rows x 44 columns]"
            ],
            "text/html": [
              "\n",
              "  <div id=\"df-70e3814f-f6f4-4fa8-8463-d98fb2517ac3\">\n",
              "    <div class=\"colab-df-container\">\n",
              "      <div>\n",
              "<style scoped>\n",
              "    .dataframe tbody tr th:only-of-type {\n",
              "        vertical-align: middle;\n",
              "    }\n",
              "\n",
              "    .dataframe tbody tr th {\n",
              "        vertical-align: top;\n",
              "    }\n",
              "\n",
              "    .dataframe thead th {\n",
              "        text-align: right;\n",
              "    }\n",
              "</style>\n",
              "<table border=\"1\" class=\"dataframe\">\n",
              "  <thead>\n",
              "    <tr style=\"text-align: right;\">\n",
              "      <th></th>\n",
              "      <th>sport</th>\n",
              "      <th>dsport</th>\n",
              "      <th>dur</th>\n",
              "      <th>sbytes</th>\n",
              "      <th>dbytes</th>\n",
              "      <th>sttl</th>\n",
              "      <th>dttl</th>\n",
              "      <th>sloss</th>\n",
              "      <th>dloss</th>\n",
              "      <th>Sload</th>\n",
              "      <th>...</th>\n",
              "      <th>ct_ftp_cmd</th>\n",
              "      <th>ct_srv_src</th>\n",
              "      <th>ct_srv_dst</th>\n",
              "      <th>ct_dst_ltm</th>\n",
              "      <th>ct_src_ ltm</th>\n",
              "      <th>ct_src_dport_ltm</th>\n",
              "      <th>ct_dst_sport_ltm</th>\n",
              "      <th>ct_dst_src_ltm</th>\n",
              "      <th>attack_cat</th>\n",
              "      <th>Label</th>\n",
              "    </tr>\n",
              "  </thead>\n",
              "  <tbody>\n",
              "    <tr>\n",
              "      <th>512413</th>\n",
              "      <td>47439.0</td>\n",
              "      <td>53.0</td>\n",
              "      <td>0.000004</td>\n",
              "      <td>264</td>\n",
              "      <td>0</td>\n",
              "      <td>60</td>\n",
              "      <td>0</td>\n",
              "      <td>0</td>\n",
              "      <td>0</td>\n",
              "      <td>2.640000e+08</td>\n",
              "      <td>...</td>\n",
              "      <td>NaN</td>\n",
              "      <td>29</td>\n",
              "      <td>29</td>\n",
              "      <td>22</td>\n",
              "      <td>22</td>\n",
              "      <td>22</td>\n",
              "      <td>22</td>\n",
              "      <td>29</td>\n",
              "      <td>Normal</td>\n",
              "      <td>0</td>\n",
              "    </tr>\n",
              "    <tr>\n",
              "      <th>440212</th>\n",
              "      <td>35877.0</td>\n",
              "      <td>80.0</td>\n",
              "      <td>1.368633</td>\n",
              "      <td>19722</td>\n",
              "      <td>1087890</td>\n",
              "      <td>31</td>\n",
              "      <td>29</td>\n",
              "      <td>2</td>\n",
              "      <td>370</td>\n",
              "      <td>1.149702e+05</td>\n",
              "      <td>...</td>\n",
              "      <td>NaN</td>\n",
              "      <td>1</td>\n",
              "      <td>3</td>\n",
              "      <td>4</td>\n",
              "      <td>1</td>\n",
              "      <td>1</td>\n",
              "      <td>1</td>\n",
              "      <td>3</td>\n",
              "      <td>Normal</td>\n",
              "      <td>0</td>\n",
              "    </tr>\n",
              "    <tr>\n",
              "      <th>82578</th>\n",
              "      <td>37951.0</td>\n",
              "      <td>12319.0</td>\n",
              "      <td>0.002692</td>\n",
              "      <td>320</td>\n",
              "      <td>1956</td>\n",
              "      <td>31</td>\n",
              "      <td>29</td>\n",
              "      <td>1</td>\n",
              "      <td>2</td>\n",
              "      <td>7.934621e+05</td>\n",
              "      <td>...</td>\n",
              "      <td>NaN</td>\n",
              "      <td>3</td>\n",
              "      <td>3</td>\n",
              "      <td>5</td>\n",
              "      <td>7</td>\n",
              "      <td>1</td>\n",
              "      <td>1</td>\n",
              "      <td>5</td>\n",
              "      <td>Normal</td>\n",
              "      <td>0</td>\n",
              "    </tr>\n",
              "    <tr>\n",
              "      <th>304056</th>\n",
              "      <td>14284.0</td>\n",
              "      <td>40769.0</td>\n",
              "      <td>0.100885</td>\n",
              "      <td>1784</td>\n",
              "      <td>33850</td>\n",
              "      <td>31</td>\n",
              "      <td>29</td>\n",
              "      <td>1</td>\n",
              "      <td>12</td>\n",
              "      <td>1.371066e+05</td>\n",
              "      <td>...</td>\n",
              "      <td>0.0</td>\n",
              "      <td>8</td>\n",
              "      <td>2</td>\n",
              "      <td>1</td>\n",
              "      <td>4</td>\n",
              "      <td>1</td>\n",
              "      <td>1</td>\n",
              "      <td>1</td>\n",
              "      <td>Normal</td>\n",
              "      <td>0</td>\n",
              "    </tr>\n",
              "    <tr>\n",
              "      <th>429521</th>\n",
              "      <td>9167.0</td>\n",
              "      <td>21.0</td>\n",
              "      <td>3.314790</td>\n",
              "      <td>2934</td>\n",
              "      <td>3742</td>\n",
              "      <td>31</td>\n",
              "      <td>29</td>\n",
              "      <td>11</td>\n",
              "      <td>15</td>\n",
              "      <td>6.945840e+03</td>\n",
              "      <td>...</td>\n",
              "      <td>1.0</td>\n",
              "      <td>1</td>\n",
              "      <td>1</td>\n",
              "      <td>15</td>\n",
              "      <td>12</td>\n",
              "      <td>1</td>\n",
              "      <td>1</td>\n",
              "      <td>5</td>\n",
              "      <td>Normal</td>\n",
              "      <td>0</td>\n",
              "    </tr>\n",
              "    <tr>\n",
              "      <th>...</th>\n",
              "      <td>...</td>\n",
              "      <td>...</td>\n",
              "      <td>...</td>\n",
              "      <td>...</td>\n",
              "      <td>...</td>\n",
              "      <td>...</td>\n",
              "      <td>...</td>\n",
              "      <td>...</td>\n",
              "      <td>...</td>\n",
              "      <td>...</td>\n",
              "      <td>...</td>\n",
              "      <td>...</td>\n",
              "      <td>...</td>\n",
              "      <td>...</td>\n",
              "      <td>...</td>\n",
              "      <td>...</td>\n",
              "      <td>...</td>\n",
              "      <td>...</td>\n",
              "      <td>...</td>\n",
              "      <td>...</td>\n",
              "      <td>...</td>\n",
              "    </tr>\n",
              "    <tr>\n",
              "      <th>440023</th>\n",
              "      <td>47439.0</td>\n",
              "      <td>53.0</td>\n",
              "      <td>0.000001</td>\n",
              "      <td>114</td>\n",
              "      <td>0</td>\n",
              "      <td>254</td>\n",
              "      <td>0</td>\n",
              "      <td>0</td>\n",
              "      <td>0</td>\n",
              "      <td>4.560000e+08</td>\n",
              "      <td>...</td>\n",
              "      <td>NaN</td>\n",
              "      <td>15</td>\n",
              "      <td>15</td>\n",
              "      <td>15</td>\n",
              "      <td>15</td>\n",
              "      <td>15</td>\n",
              "      <td>15</td>\n",
              "      <td>15</td>\n",
              "      <td>Generic</td>\n",
              "      <td>1</td>\n",
              "    </tr>\n",
              "    <tr>\n",
              "      <th>440024</th>\n",
              "      <td>17293.0</td>\n",
              "      <td>110.0</td>\n",
              "      <td>0.942984</td>\n",
              "      <td>574</td>\n",
              "      <td>676</td>\n",
              "      <td>62</td>\n",
              "      <td>252</td>\n",
              "      <td>5</td>\n",
              "      <td>6</td>\n",
              "      <td>4.470914e+03</td>\n",
              "      <td>...</td>\n",
              "      <td>NaN</td>\n",
              "      <td>2</td>\n",
              "      <td>1</td>\n",
              "      <td>2</td>\n",
              "      <td>4</td>\n",
              "      <td>2</td>\n",
              "      <td>2</td>\n",
              "      <td>2</td>\n",
              "      <td>Exploits</td>\n",
              "      <td>1</td>\n",
              "    </tr>\n",
              "    <tr>\n",
              "      <th>440025</th>\n",
              "      <td>33654.0</td>\n",
              "      <td>80.0</td>\n",
              "      <td>2.579405</td>\n",
              "      <td>269883</td>\n",
              "      <td>1300</td>\n",
              "      <td>62</td>\n",
              "      <td>252</td>\n",
              "      <td>103</td>\n",
              "      <td>1</td>\n",
              "      <td>8.330169e+05</td>\n",
              "      <td>...</td>\n",
              "      <td>NaN</td>\n",
              "      <td>2</td>\n",
              "      <td>1</td>\n",
              "      <td>2</td>\n",
              "      <td>4</td>\n",
              "      <td>2</td>\n",
              "      <td>2</td>\n",
              "      <td>2</td>\n",
              "      <td>DoS</td>\n",
              "      <td>1</td>\n",
              "    </tr>\n",
              "    <tr>\n",
              "      <th>440026</th>\n",
              "      <td>33654.0</td>\n",
              "      <td>80.0</td>\n",
              "      <td>2.579405</td>\n",
              "      <td>269883</td>\n",
              "      <td>1300</td>\n",
              "      <td>62</td>\n",
              "      <td>252</td>\n",
              "      <td>103</td>\n",
              "      <td>1</td>\n",
              "      <td>8.330169e+05</td>\n",
              "      <td>...</td>\n",
              "      <td>NaN</td>\n",
              "      <td>1</td>\n",
              "      <td>1</td>\n",
              "      <td>2</td>\n",
              "      <td>4</td>\n",
              "      <td>2</td>\n",
              "      <td>2</td>\n",
              "      <td>2</td>\n",
              "      <td>DoS</td>\n",
              "      <td>1</td>\n",
              "    </tr>\n",
              "    <tr>\n",
              "      <th>440042</th>\n",
              "      <td>17293.0</td>\n",
              "      <td>110.0</td>\n",
              "      <td>0.942984</td>\n",
              "      <td>574</td>\n",
              "      <td>676</td>\n",
              "      <td>62</td>\n",
              "      <td>252</td>\n",
              "      <td>5</td>\n",
              "      <td>6</td>\n",
              "      <td>4.470914e+03</td>\n",
              "      <td>...</td>\n",
              "      <td>NaN</td>\n",
              "      <td>1</td>\n",
              "      <td>1</td>\n",
              "      <td>2</td>\n",
              "      <td>4</td>\n",
              "      <td>2</td>\n",
              "      <td>2</td>\n",
              "      <td>2</td>\n",
              "      <td>Exploits</td>\n",
              "      <td>1</td>\n",
              "    </tr>\n",
              "  </tbody>\n",
              "</table>\n",
              "<p>1430663 rows × 44 columns</p>\n",
              "</div>\n",
              "      <button class=\"colab-df-convert\" onclick=\"convertToInteractive('df-70e3814f-f6f4-4fa8-8463-d98fb2517ac3')\"\n",
              "              title=\"Convert this dataframe to an interactive table.\"\n",
              "              style=\"display:none;\">\n",
              "        \n",
              "  <svg xmlns=\"http://www.w3.org/2000/svg\" height=\"24px\"viewBox=\"0 0 24 24\"\n",
              "       width=\"24px\">\n",
              "    <path d=\"M0 0h24v24H0V0z\" fill=\"none\"/>\n",
              "    <path d=\"M18.56 5.44l.94 2.06.94-2.06 2.06-.94-2.06-.94-.94-2.06-.94 2.06-2.06.94zm-11 1L8.5 8.5l.94-2.06 2.06-.94-2.06-.94L8.5 2.5l-.94 2.06-2.06.94zm10 10l.94 2.06.94-2.06 2.06-.94-2.06-.94-.94-2.06-.94 2.06-2.06.94z\"/><path d=\"M17.41 7.96l-1.37-1.37c-.4-.4-.92-.59-1.43-.59-.52 0-1.04.2-1.43.59L10.3 9.45l-7.72 7.72c-.78.78-.78 2.05 0 2.83L4 21.41c.39.39.9.59 1.41.59.51 0 1.02-.2 1.41-.59l7.78-7.78 2.81-2.81c.8-.78.8-2.07 0-2.86zM5.41 20L4 18.59l7.72-7.72 1.47 1.35L5.41 20z\"/>\n",
              "  </svg>\n",
              "      </button>\n",
              "      \n",
              "  <style>\n",
              "    .colab-df-container {\n",
              "      display:flex;\n",
              "      flex-wrap:wrap;\n",
              "      gap: 12px;\n",
              "    }\n",
              "\n",
              "    .colab-df-convert {\n",
              "      background-color: #E8F0FE;\n",
              "      border: none;\n",
              "      border-radius: 50%;\n",
              "      cursor: pointer;\n",
              "      display: none;\n",
              "      fill: #1967D2;\n",
              "      height: 32px;\n",
              "      padding: 0 0 0 0;\n",
              "      width: 32px;\n",
              "    }\n",
              "\n",
              "    .colab-df-convert:hover {\n",
              "      background-color: #E2EBFA;\n",
              "      box-shadow: 0px 1px 2px rgba(60, 64, 67, 0.3), 0px 1px 3px 1px rgba(60, 64, 67, 0.15);\n",
              "      fill: #174EA6;\n",
              "    }\n",
              "\n",
              "    [theme=dark] .colab-df-convert {\n",
              "      background-color: #3B4455;\n",
              "      fill: #D2E3FC;\n",
              "    }\n",
              "\n",
              "    [theme=dark] .colab-df-convert:hover {\n",
              "      background-color: #434B5C;\n",
              "      box-shadow: 0px 1px 3px 1px rgba(0, 0, 0, 0.15);\n",
              "      filter: drop-shadow(0px 1px 2px rgba(0, 0, 0, 0.3));\n",
              "      fill: #FFFFFF;\n",
              "    }\n",
              "  </style>\n",
              "\n",
              "      <script>\n",
              "        const buttonEl =\n",
              "          document.querySelector('#df-70e3814f-f6f4-4fa8-8463-d98fb2517ac3 button.colab-df-convert');\n",
              "        buttonEl.style.display =\n",
              "          google.colab.kernel.accessAllowed ? 'block' : 'none';\n",
              "\n",
              "        async function convertToInteractive(key) {\n",
              "          const element = document.querySelector('#df-70e3814f-f6f4-4fa8-8463-d98fb2517ac3');\n",
              "          const dataTable =\n",
              "            await google.colab.kernel.invokeFunction('convertToInteractive',\n",
              "                                                     [key], {});\n",
              "          if (!dataTable) return;\n",
              "\n",
              "          const docLinkHtml = 'Like what you see? Visit the ' +\n",
              "            '<a target=\"_blank\" href=https://colab.research.google.com/notebooks/data_table.ipynb>data table notebook</a>'\n",
              "            + ' to learn more about interactive tables.';\n",
              "          element.innerHTML = '';\n",
              "          dataTable['output_type'] = 'display_data';\n",
              "          await google.colab.output.renderOutput(dataTable, element);\n",
              "          const docLink = document.createElement('div');\n",
              "          docLink.innerHTML = docLinkHtml;\n",
              "          element.appendChild(docLink);\n",
              "        }\n",
              "      </script>\n",
              "    </div>\n",
              "  </div>\n",
              "  "
            ]
          },
          "metadata": {},
          "execution_count": 27
        }
      ]
    },
    {
      "cell_type": "code",
      "source": [
        "#check if there are any missing values\n",
        "df.isnull().any().any()"
      ],
      "metadata": {
        "colab": {
          "base_uri": "https://localhost:8080/"
        },
        "id": "DRfIi2l8s372",
        "outputId": "ca9ce8b2-0ca3-4d96-91d1-8d5eaf478c31"
      },
      "execution_count": null,
      "outputs": [
        {
          "output_type": "execute_result",
          "data": {
            "text/plain": [
              "True"
            ]
          },
          "metadata": {},
          "execution_count": 12
        }
      ]
    },
    {
      "cell_type": "code",
      "source": [
        "#counts the number of missing values in each column\n",
        "for column in df.columns:\n",
        "    empty_count = df[column].isna().sum()\n",
        "    if empty_count != 0:\n",
        "      print(f\"Column '{column}': {empty_count} empty cells\")"
      ],
      "metadata": {
        "colab": {
          "base_uri": "https://localhost:8080/"
        },
        "id": "7M40PvxxUOIS",
        "outputId": "a729eba2-1fc8-4b3b-80b3-4ae9906e6df8"
      },
      "execution_count": null,
      "outputs": [
        {
          "output_type": "stream",
          "name": "stdout",
          "text": [
            "Column 'sport': 6 empty cells\n",
            "Column 'dsport': 134 empty cells\n",
            "Column 'ct_flw_http_mthd': 815481 empty cells\n",
            "Column 'is_ftp_login': 863431 empty cells\n",
            "Column 'ct_ftp_cmd': 863431 empty cells\n"
          ]
        }
      ]
    },
    {
      "cell_type": "markdown",
      "source": [
        "Regression imputation"
      ],
      "metadata": {
        "id": "sheVPbop3muq"
      }
    },
    {
      "cell_type": "code",
      "source": [
        "# drop the categorical column of attack_cat\n",
        "df_regression = df.drop('attack_cat', axis=1)"
      ],
      "metadata": {
        "id": "UHCLW9ow518F"
      },
      "execution_count": null,
      "outputs": []
    },
    {
      "cell_type": "code",
      "source": [
        "df_regression"
      ],
      "metadata": {
        "id": "aYZwDkMq54O3"
      },
      "execution_count": null,
      "outputs": []
    },
    {
      "cell_type": "code",
      "source": [
        "mno.matrix(df_regression, figsize = (20, 8))"
      ],
      "metadata": {
        "colab": {
          "base_uri": "https://localhost:8080/",
          "height": 330
        },
        "id": "uNtSn2L4_3Ah",
        "outputId": "7bfb0760-9c5e-440a-e818-52f4a7f5bafc"
      },
      "execution_count": null,
      "outputs": [
        {
          "output_type": "execute_result",
          "data": {
            "text/plain": [
              "<Axes: >"
            ]
          },
          "metadata": {},
          "execution_count": 34
        },
        {
          "output_type": "display_data",
          "data": {
            "text/plain": [
              "<Figure size 2000x800 with 2 Axes>"
            ],
            "image/png": "[encoded data removed]"
          },
          "metadata": {}
        }
      ]
    },
    {
      "cell_type": "code",
      "source": [
        "# Create an instance of IterativeImputer with LinearRegression as the estimator\n",
        "imputer = IterativeImputer(estimator=LinearRegression())\n",
        "\n",
        "# Perform imputation on the DataFrame\n",
        "imputed_data = imputer.fit_transform(df_regression)\n",
        "\n",
        "# Convert the imputed data back to a DataFrame\n",
        "imputed_df = pd.DataFrame(imputed_data, columns=df_regression.columns)"
      ],
      "metadata": {
        "id": "iC5fSqtEQTS7"
      },
      "execution_count": null,
      "outputs": []
    },
    {
      "cell_type": "code",
      "source": [
        "imputed_df.isnull().any().any()"
      ],
      "metadata": {
        "colab": {
          "base_uri": "https://localhost:8080/"
        },
        "id": "B04v6mD7NT05",
        "outputId": "f640b352-f451-44bd-d62c-7cf8d87c939b"
      },
      "execution_count": null,
      "outputs": [
        {
          "output_type": "execute_result",
          "data": {
            "text/plain": [
              "False"
            ]
          },
          "metadata": {},
          "execution_count": 19
        }
      ]
    },
    {
      "cell_type": "code",
      "source": [
        "imputed_df"
      ],
      "metadata": {
        "colab": {
          "base_uri": "https://localhost:8080/",
          "height": 505
        },
        "id": "KEpfE15SSDPR",
        "outputId": "2ee32d3a-467e-49f2-d8b0-8cde08575958"
      },
      "execution_count": null,
      "outputs": [
        {
          "output_type": "execute_result",
          "data": {
            "text/plain": [
              "           sport   dsport       dur   dttl  sloss  dloss         Sload  \\\n",
              "0        47439.0     53.0  0.000004    0.0    0.0    0.0  2.640000e+08   \n",
              "1        35877.0     80.0  1.368633   29.0    2.0  370.0  1.149702e+05   \n",
              "2        37951.0  12319.0  0.002692   29.0    1.0    2.0  7.934621e+05   \n",
              "3        14284.0  40769.0  0.100885   29.0    1.0   12.0  1.371066e+05   \n",
              "4         9167.0     21.0  3.314790   29.0   11.0   15.0  6.945840e+03   \n",
              "...          ...      ...       ...    ...    ...    ...           ...   \n",
              "1430658  47439.0     53.0  0.000001    0.0    0.0    0.0  4.560000e+08   \n",
              "1430659  17293.0    110.0  0.942984  252.0    5.0    6.0  4.470914e+03   \n",
              "1430660  33654.0     80.0  2.579405  252.0  103.0    1.0  8.330169e+05   \n",
              "1430661  33654.0     80.0  2.579405  252.0  103.0    1.0  8.330169e+05   \n",
              "1430662  17293.0    110.0  0.942984  252.0    5.0    6.0  4.470914e+03   \n",
              "\n",
              "                Dload  Spkts  Dpkts  ...  is_ftp_login  ct_ftp_cmd  \\\n",
              "0        0.000000e+00    2.0    0.0  ...      0.416769    0.671370   \n",
              "1        6.350465e+06  370.0  746.0  ...      0.538826    0.364746   \n",
              "2        5.087667e+06    6.0    8.0  ...      0.566385    0.436359   \n",
              "3        2.607563e+06   32.0   35.0  ...      0.000000    0.000000   \n",
              "4        8.864514e+03   52.0   54.0  ...      1.000000    1.000000   \n",
              "...               ...    ...    ...  ...           ...         ...   \n",
              "1430658  0.000000e+00    2.0    0.0  ...      0.490527    0.535811   \n",
              "1430659  5.259898e+03   12.0   12.0  ...      0.589015    0.429452   \n",
              "1430660  3.898573e+03  208.0   30.0  ...      0.467984    0.238979   \n",
              "1430661  3.898573e+03  208.0   30.0  ...      0.468905    0.241184   \n",
              "1430662  5.259898e+03   12.0   12.0  ...      0.589962    0.431643   \n",
              "\n",
              "         ct_srv_src  ct_srv_dst  ct_dst_ltm  ct_src_ ltm  ct_src_dport_ltm  \\\n",
              "0              29.0        29.0        22.0         22.0              22.0   \n",
              "1               1.0         3.0         4.0          1.0               1.0   \n",
              "2               3.0         3.0         5.0          7.0               1.0   \n",
              "3               8.0         2.0         1.0          4.0               1.0   \n",
              "4               1.0         1.0        15.0         12.0               1.0   \n",
              "...             ...         ...         ...          ...               ...   \n",
              "1430658        15.0        15.0        15.0         15.0              15.0   \n",
              "1430659         2.0         1.0         2.0          4.0               2.0   \n",
              "1430660         2.0         1.0         2.0          4.0               2.0   \n",
              "1430661         1.0         1.0         2.0          4.0               2.0   \n",
              "1430662         1.0         1.0         2.0          4.0               2.0   \n",
              "\n",
              "         ct_dst_sport_ltm  ct_dst_src_ltm  Label  \n",
              "0                    22.0            29.0    0.0  \n",
              "1                     1.0             3.0    0.0  \n",
              "2                     1.0             5.0    0.0  \n",
              "3                     1.0             1.0    0.0  \n",
              "4                     1.0             5.0    0.0  \n",
              "...                   ...             ...    ...  \n",
              "1430658              15.0            15.0    1.0  \n",
              "1430659               2.0             2.0    1.0  \n",
              "1430660               2.0             2.0    1.0  \n",
              "1430661               2.0             2.0    1.0  \n",
              "1430662               2.0             2.0    1.0  \n",
              "\n",
              "[1430663 rows x 39 columns]"
            ],
            "text/html": [
              "\n",
              "  <div id=\"df-8bbbef7e-17be-4a41-bbdc-e02ac7bda158\">\n",
              "    <div class=\"colab-df-container\">\n",
              "      <div>\n",
              "<style scoped>\n",
              "    .dataframe tbody tr th:only-of-type {\n",
              "        vertical-align: middle;\n",
              "    }\n",
              "\n",
              "    .dataframe tbody tr th {\n",
              "        vertical-align: top;\n",
              "    }\n",
              "\n",
              "    .dataframe thead th {\n",
              "        text-align: right;\n",
              "    }\n",
              "</style>\n",
              "<table border=\"1\" class=\"dataframe\">\n",
              "  <thead>\n",
              "    <tr style=\"text-align: right;\">\n",
              "      <th></th>\n",
              "      <th>sport</th>\n",
              "      <th>dsport</th>\n",
              "      <th>dur</th>\n",
              "      <th>dttl</th>\n",
              "      <th>sloss</th>\n",
              "      <th>dloss</th>\n",
              "      <th>Sload</th>\n",
              "      <th>Dload</th>\n",
              "      <th>Spkts</th>\n",
              "      <th>Dpkts</th>\n",
              "      <th>...</th>\n",
              "      <th>is_ftp_login</th>\n",
              "      <th>ct_ftp_cmd</th>\n",
              "      <th>ct_srv_src</th>\n",
              "      <th>ct_srv_dst</th>\n",
              "      <th>ct_dst_ltm</th>\n",
              "      <th>ct_src_ ltm</th>\n",
              "      <th>ct_src_dport_ltm</th>\n",
              "      <th>ct_dst_sport_ltm</th>\n",
              "      <th>ct_dst_src_ltm</th>\n",
              "      <th>Label</th>\n",
              "    </tr>\n",
              "  </thead>\n",
              "  <tbody>\n",
              "    <tr>\n",
              "      <th>0</th>\n",
              "      <td>47439.0</td>\n",
              "      <td>53.0</td>\n",
              "      <td>0.000004</td>\n",
              "      <td>0.0</td>\n",
              "      <td>0.0</td>\n",
              "      <td>0.0</td>\n",
              "      <td>2.640000e+08</td>\n",
              "      <td>0.000000e+00</td>\n",
              "      <td>2.0</td>\n",
              "      <td>0.0</td>\n",
              "      <td>...</td>\n",
              "      <td>0.416769</td>\n",
              "      <td>0.671370</td>\n",
              "      <td>29.0</td>\n",
              "      <td>29.0</td>\n",
              "      <td>22.0</td>\n",
              "      <td>22.0</td>\n",
              "      <td>22.0</td>\n",
              "      <td>22.0</td>\n",
              "      <td>29.0</td>\n",
              "      <td>0.0</td>\n",
              "    </tr>\n",
              "    <tr>\n",
              "      <th>1</th>\n",
              "      <td>35877.0</td>\n",
              "      <td>80.0</td>\n",
              "      <td>1.368633</td>\n",
              "      <td>29.0</td>\n",
              "      <td>2.0</td>\n",
              "      <td>370.0</td>\n",
              "      <td>1.149702e+05</td>\n",
              "      <td>6.350465e+06</td>\n",
              "      <td>370.0</td>\n",
              "      <td>746.0</td>\n",
              "      <td>...</td>\n",
              "      <td>0.538826</td>\n",
              "      <td>0.364746</td>\n",
              "      <td>1.0</td>\n",
              "      <td>3.0</td>\n",
              "      <td>4.0</td>\n",
              "      <td>1.0</td>\n",
              "      <td>1.0</td>\n",
              "      <td>1.0</td>\n",
              "      <td>3.0</td>\n",
              "      <td>0.0</td>\n",
              "    </tr>\n",
              "    <tr>\n",
              "      <th>2</th>\n",
              "      <td>37951.0</td>\n",
              "      <td>12319.0</td>\n",
              "      <td>0.002692</td>\n",
              "      <td>29.0</td>\n",
              "      <td>1.0</td>\n",
              "      <td>2.0</td>\n",
              "      <td>7.934621e+05</td>\n",
              "      <td>5.087667e+06</td>\n",
              "      <td>6.0</td>\n",
              "      <td>8.0</td>\n",
              "      <td>...</td>\n",
              "      <td>0.566385</td>\n",
              "      <td>0.436359</td>\n",
              "      <td>3.0</td>\n",
              "      <td>3.0</td>\n",
              "      <td>5.0</td>\n",
              "      <td>7.0</td>\n",
              "      <td>1.0</td>\n",
              "      <td>1.0</td>\n",
              "      <td>5.0</td>\n",
              "      <td>0.0</td>\n",
              "    </tr>\n",
              "    <tr>\n",
              "      <th>3</th>\n",
              "      <td>14284.0</td>\n",
              "      <td>40769.0</td>\n",
              "      <td>0.100885</td>\n",
              "      <td>29.0</td>\n",
              "      <td>1.0</td>\n",
              "      <td>12.0</td>\n",
              "      <td>1.371066e+05</td>\n",
              "      <td>2.607563e+06</td>\n",
              "      <td>32.0</td>\n",
              "      <td>35.0</td>\n",
              "      <td>...</td>\n",
              "      <td>0.000000</td>\n",
              "      <td>0.000000</td>\n",
              "      <td>8.0</td>\n",
              "      <td>2.0</td>\n",
              "      <td>1.0</td>\n",
              "      <td>4.0</td>\n",
              "      <td>1.0</td>\n",
              "      <td>1.0</td>\n",
              "      <td>1.0</td>\n",
              "      <td>0.0</td>\n",
              "    </tr>\n",
              "    <tr>\n",
              "      <th>4</th>\n",
              "      <td>9167.0</td>\n",
              "      <td>21.0</td>\n",
              "      <td>3.314790</td>\n",
              "      <td>29.0</td>\n",
              "      <td>11.0</td>\n",
              "      <td>15.0</td>\n",
              "      <td>6.945840e+03</td>\n",
              "      <td>8.864514e+03</td>\n",
              "      <td>52.0</td>\n",
              "      <td>54.0</td>\n",
              "      <td>...</td>\n",
              "      <td>1.000000</td>\n",
              "      <td>1.000000</td>\n",
              "      <td>1.0</td>\n",
              "      <td>1.0</td>\n",
              "      <td>15.0</td>\n",
              "      <td>12.0</td>\n",
              "      <td>1.0</td>\n",
              "      <td>1.0</td>\n",
              "      <td>5.0</td>\n",
              "      <td>0.0</td>\n",
              "    </tr>\n",
              "    <tr>\n",
              "      <th>...</th>\n",
              "      <td>...</td>\n",
              "      <td>...</td>\n",
              "      <td>...</td>\n",
              "      <td>...</td>\n",
              "      <td>...</td>\n",
              "      <td>...</td>\n",
              "      <td>...</td>\n",
              "      <td>...</td>\n",
              "      <td>...</td>\n",
              "      <td>...</td>\n",
              "      <td>...</td>\n",
              "      <td>...</td>\n",
              "      <td>...</td>\n",
              "      <td>...</td>\n",
              "      <td>...</td>\n",
              "      <td>...</td>\n",
              "      <td>...</td>\n",
              "      <td>...</td>\n",
              "      <td>...</td>\n",
              "      <td>...</td>\n",
              "      <td>...</td>\n",
              "    </tr>\n",
              "    <tr>\n",
              "      <th>1430658</th>\n",
              "      <td>47439.0</td>\n",
              "      <td>53.0</td>\n",
              "      <td>0.000001</td>\n",
              "      <td>0.0</td>\n",
              "      <td>0.0</td>\n",
              "      <td>0.0</td>\n",
              "      <td>4.560000e+08</td>\n",
              "      <td>0.000000e+00</td>\n",
              "      <td>2.0</td>\n",
              "      <td>0.0</td>\n",
              "      <td>...</td>\n",
              "      <td>0.490527</td>\n",
              "      <td>0.535811</td>\n",
              "      <td>15.0</td>\n",
              "      <td>15.0</td>\n",
              "      <td>15.0</td>\n",
              "      <td>15.0</td>\n",
              "      <td>15.0</td>\n",
              "      <td>15.0</td>\n",
              "      <td>15.0</td>\n",
              "      <td>1.0</td>\n",
              "    </tr>\n",
              "    <tr>\n",
              "      <th>1430659</th>\n",
              "      <td>17293.0</td>\n",
              "      <td>110.0</td>\n",
              "      <td>0.942984</td>\n",
              "      <td>252.0</td>\n",
              "      <td>5.0</td>\n",
              "      <td>6.0</td>\n",
              "      <td>4.470914e+03</td>\n",
              "      <td>5.259898e+03</td>\n",
              "      <td>12.0</td>\n",
              "      <td>12.0</td>\n",
              "      <td>...</td>\n",
              "      <td>0.589015</td>\n",
              "      <td>0.429452</td>\n",
              "      <td>2.0</td>\n",
              "      <td>1.0</td>\n",
              "      <td>2.0</td>\n",
              "      <td>4.0</td>\n",
              "      <td>2.0</td>\n",
              "      <td>2.0</td>\n",
              "      <td>2.0</td>\n",
              "      <td>1.0</td>\n",
              "    </tr>\n",
              "    <tr>\n",
              "      <th>1430660</th>\n",
              "      <td>33654.0</td>\n",
              "      <td>80.0</td>\n",
              "      <td>2.579405</td>\n",
              "      <td>252.0</td>\n",
              "      <td>103.0</td>\n",
              "      <td>1.0</td>\n",
              "      <td>8.330169e+05</td>\n",
              "      <td>3.898573e+03</td>\n",
              "      <td>208.0</td>\n",
              "      <td>30.0</td>\n",
              "      <td>...</td>\n",
              "      <td>0.467984</td>\n",
              "      <td>0.238979</td>\n",
              "      <td>2.0</td>\n",
              "      <td>1.0</td>\n",
              "      <td>2.0</td>\n",
              "      <td>4.0</td>\n",
              "      <td>2.0</td>\n",
              "      <td>2.0</td>\n",
              "      <td>2.0</td>\n",
              "      <td>1.0</td>\n",
              "    </tr>\n",
              "    <tr>\n",
              "      <th>1430661</th>\n",
              "      <td>33654.0</td>\n",
              "      <td>80.0</td>\n",
              "      <td>2.579405</td>\n",
              "      <td>252.0</td>\n",
              "      <td>103.0</td>\n",
              "      <td>1.0</td>\n",
              "      <td>8.330169e+05</td>\n",
              "      <td>3.898573e+03</td>\n",
              "      <td>208.0</td>\n",
              "      <td>30.0</td>\n",
              "      <td>...</td>\n",
              "      <td>0.468905</td>\n",
              "      <td>0.241184</td>\n",
              "      <td>1.0</td>\n",
              "      <td>1.0</td>\n",
              "      <td>2.0</td>\n",
              "      <td>4.0</td>\n",
              "      <td>2.0</td>\n",
              "      <td>2.0</td>\n",
              "      <td>2.0</td>\n",
              "      <td>1.0</td>\n",
              "    </tr>\n",
              "    <tr>\n",
              "      <th>1430662</th>\n",
              "      <td>17293.0</td>\n",
              "      <td>110.0</td>\n",
              "      <td>0.942984</td>\n",
              "      <td>252.0</td>\n",
              "      <td>5.0</td>\n",
              "      <td>6.0</td>\n",
              "      <td>4.470914e+03</td>\n",
              "      <td>5.259898e+03</td>\n",
              "      <td>12.0</td>\n",
              "      <td>12.0</td>\n",
              "      <td>...</td>\n",
              "      <td>0.589962</td>\n",
              "      <td>0.431643</td>\n",
              "      <td>1.0</td>\n",
              "      <td>1.0</td>\n",
              "      <td>2.0</td>\n",
              "      <td>4.0</td>\n",
              "      <td>2.0</td>\n",
              "      <td>2.0</td>\n",
              "      <td>2.0</td>\n",
              "      <td>1.0</td>\n",
              "    </tr>\n",
              "  </tbody>\n",
              "</table>\n",
              "<p>1430663 rows × 39 columns</p>\n",
              "</div>\n",
              "      <button class=\"colab-df-convert\" onclick=\"convertToInteractive('df-8bbbef7e-17be-4a41-bbdc-e02ac7bda158')\"\n",
              "              title=\"Convert this dataframe to an interactive table.\"\n",
              "              style=\"display:none;\">\n",
              "        \n",
              "  <svg xmlns=\"http://www.w3.org/2000/svg\" height=\"24px\"viewBox=\"0 0 24 24\"\n",
              "       width=\"24px\">\n",
              "    <path d=\"M0 0h24v24H0V0z\" fill=\"none\"/>\n",
              "    <path d=\"M18.56 5.44l.94 2.06.94-2.06 2.06-.94-2.06-.94-.94-2.06-.94 2.06-2.06.94zm-11 1L8.5 8.5l.94-2.06 2.06-.94-2.06-.94L8.5 2.5l-.94 2.06-2.06.94zm10 10l.94 2.06.94-2.06 2.06-.94-2.06-.94-.94-2.06-.94 2.06-2.06.94z\"/><path d=\"M17.41 7.96l-1.37-1.37c-.4-.4-.92-.59-1.43-.59-.52 0-1.04.2-1.43.59L10.3 9.45l-7.72 7.72c-.78.78-.78 2.05 0 2.83L4 21.41c.39.39.9.59 1.41.59.51 0 1.02-.2 1.41-.59l7.78-7.78 2.81-2.81c.8-.78.8-2.07 0-2.86zM5.41 20L4 18.59l7.72-7.72 1.47 1.35L5.41 20z\"/>\n",
              "  </svg>\n",
              "      </button>\n",
              "      \n",
              "  <style>\n",
              "    .colab-df-container {\n",
              "      display:flex;\n",
              "      flex-wrap:wrap;\n",
              "      gap: 12px;\n",
              "    }\n",
              "\n",
              "    .colab-df-convert {\n",
              "      background-color: #E8F0FE;\n",
              "      border: none;\n",
              "      border-radius: 50%;\n",
              "      cursor: pointer;\n",
              "      display: none;\n",
              "      fill: #1967D2;\n",
              "      height: 32px;\n",
              "      padding: 0 0 0 0;\n",
              "      width: 32px;\n",
              "    }\n",
              "\n",
              "    .colab-df-convert:hover {\n",
              "      background-color: #E2EBFA;\n",
              "      box-shadow: 0px 1px 2px rgba(60, 64, 67, 0.3), 0px 1px 3px 1px rgba(60, 64, 67, 0.15);\n",
              "      fill: #174EA6;\n",
              "    }\n",
              "\n",
              "    [theme=dark] .colab-df-convert {\n",
              "      background-color: #3B4455;\n",
              "      fill: #D2E3FC;\n",
              "    }\n",
              "\n",
              "    [theme=dark] .colab-df-convert:hover {\n",
              "      background-color: #434B5C;\n",
              "      box-shadow: 0px 1px 3px 1px rgba(0, 0, 0, 0.15);\n",
              "      filter: drop-shadow(0px 1px 2px rgba(0, 0, 0, 0.3));\n",
              "      fill: #FFFFFF;\n",
              "    }\n",
              "  </style>\n",
              "\n",
              "      <script>\n",
              "        const buttonEl =\n",
              "          document.querySelector('#df-8bbbef7e-17be-4a41-bbdc-e02ac7bda158 button.colab-df-convert');\n",
              "        buttonEl.style.display =\n",
              "          google.colab.kernel.accessAllowed ? 'block' : 'none';\n",
              "\n",
              "        async function convertToInteractive(key) {\n",
              "          const element = document.querySelector('#df-8bbbef7e-17be-4a41-bbdc-e02ac7bda158');\n",
              "          const dataTable =\n",
              "            await google.colab.kernel.invokeFunction('convertToInteractive',\n",
              "                                                     [key], {});\n",
              "          if (!dataTable) return;\n",
              "\n",
              "          const docLinkHtml = 'Like what you see? Visit the ' +\n",
              "            '<a target=\"_blank\" href=https://colab.research.google.com/notebooks/data_table.ipynb>data table notebook</a>'\n",
              "            + ' to learn more about interactive tables.';\n",
              "          element.innerHTML = '';\n",
              "          dataTable['output_type'] = 'display_data';\n",
              "          await google.colab.output.renderOutput(dataTable, element);\n",
              "          const docLink = document.createElement('div');\n",
              "          docLink.innerHTML = docLinkHtml;\n",
              "          element.appendChild(docLink);\n",
              "        }\n",
              "      </script>\n",
              "    </div>\n",
              "  </div>\n",
              "  "
            ]
          },
          "metadata": {},
          "execution_count": 23
        }
      ]
    },
    {
      "cell_type": "code",
      "source": [
        "## drop the categorical data from the dataframe\n",
        "imputed_df = imputed_df.drop(['sbytes','sttl','ct_state_ttl','dbytes'],axis=1)"
      ],
      "metadata": {
        "id": "44lT2K1BSOIU"
      },
      "execution_count": null,
      "outputs": []
    },
    {
      "cell_type": "code",
      "source": [
        "# reset the index column in df_attack dataframe\n",
        "df_attack =df['attack_cat'].reset_index()"
      ],
      "metadata": {
        "id": "kDOMdgKZKYJV"
      },
      "execution_count": null,
      "outputs": []
    },
    {
      "cell_type": "code",
      "source": [
        "#drops the index column\n",
        "df_attack = df_attack.drop(['index'],axis=1)"
      ],
      "metadata": {
        "id": "3LF8ABOpKff5"
      },
      "execution_count": null,
      "outputs": []
    },
    {
      "cell_type": "code",
      "source": [
        "#concatenate the attack category column with the imputed dataframe\n",
        "final_regression_df = pd.concat([imputed_df, df_attack], axis=1)"
      ],
      "metadata": {
        "id": "9pV5m0vKIwb5"
      },
      "execution_count": null,
      "outputs": []
    },
    {
      "cell_type": "code",
      "source": [
        "final_regression_df"
      ],
      "metadata": {
        "colab": {
          "base_uri": "https://localhost:8080/",
          "height": 505
        },
        "id": "xv3Ywd_OKQIl",
        "outputId": "d92b1e65-aa37-44b2-8bc7-ea1d904928d3"
      },
      "execution_count": null,
      "outputs": [
        {
          "output_type": "execute_result",
          "data": {
            "text/plain": [
              "           sport   dsport       dur   dttl  sloss  dloss         Sload  \\\n",
              "0        47439.0     53.0  0.000004    0.0    0.0    0.0  2.640000e+08   \n",
              "1        35877.0     80.0  1.368633   29.0    2.0  370.0  1.149702e+05   \n",
              "2        37951.0  12319.0  0.002692   29.0    1.0    2.0  7.934621e+05   \n",
              "3        14284.0  40769.0  0.100885   29.0    1.0   12.0  1.371066e+05   \n",
              "4         9167.0     21.0  3.314790   29.0   11.0   15.0  6.945840e+03   \n",
              "...          ...      ...       ...    ...    ...    ...           ...   \n",
              "1430658  47439.0     53.0  0.000001    0.0    0.0    0.0  4.560000e+08   \n",
              "1430659  17293.0    110.0  0.942984  252.0    5.0    6.0  4.470914e+03   \n",
              "1430660  33654.0     80.0  2.579405  252.0  103.0    1.0  8.330169e+05   \n",
              "1430661  33654.0     80.0  2.579405  252.0  103.0    1.0  8.330169e+05   \n",
              "1430662  17293.0    110.0  0.942984  252.0    5.0    6.0  4.470914e+03   \n",
              "\n",
              "                Dload  Spkts  Dpkts  ...  ct_ftp_cmd  ct_srv_src  ct_srv_dst  \\\n",
              "0        0.000000e+00    2.0    0.0  ...    0.671370        29.0        29.0   \n",
              "1        6.350465e+06  370.0  746.0  ...    0.364746         1.0         3.0   \n",
              "2        5.087667e+06    6.0    8.0  ...    0.436359         3.0         3.0   \n",
              "3        2.607563e+06   32.0   35.0  ...    0.000000         8.0         2.0   \n",
              "4        8.864514e+03   52.0   54.0  ...    1.000000         1.0         1.0   \n",
              "...               ...    ...    ...  ...         ...         ...         ...   \n",
              "1430658  0.000000e+00    2.0    0.0  ...    0.535811        15.0        15.0   \n",
              "1430659  5.259898e+03   12.0   12.0  ...    0.429452         2.0         1.0   \n",
              "1430660  3.898573e+03  208.0   30.0  ...    0.238979         2.0         1.0   \n",
              "1430661  3.898573e+03  208.0   30.0  ...    0.241184         1.0         1.0   \n",
              "1430662  5.259898e+03   12.0   12.0  ...    0.431643         1.0         1.0   \n",
              "\n",
              "         ct_dst_ltm  ct_src_ ltm  ct_src_dport_ltm  ct_dst_sport_ltm  \\\n",
              "0              22.0         22.0              22.0              22.0   \n",
              "1               4.0          1.0               1.0               1.0   \n",
              "2               5.0          7.0               1.0               1.0   \n",
              "3               1.0          4.0               1.0               1.0   \n",
              "4              15.0         12.0               1.0               1.0   \n",
              "...             ...          ...               ...               ...   \n",
              "1430658        15.0         15.0              15.0              15.0   \n",
              "1430659         2.0          4.0               2.0               2.0   \n",
              "1430660         2.0          4.0               2.0               2.0   \n",
              "1430661         2.0          4.0               2.0               2.0   \n",
              "1430662         2.0          4.0               2.0               2.0   \n",
              "\n",
              "         ct_dst_src_ltm  Label  attack_cat  \n",
              "0                  29.0    0.0      Normal  \n",
              "1                   3.0    0.0      Normal  \n",
              "2                   5.0    0.0      Normal  \n",
              "3                   1.0    0.0      Normal  \n",
              "4                   5.0    0.0      Normal  \n",
              "...                 ...    ...         ...  \n",
              "1430658            15.0    1.0     Generic  \n",
              "1430659             2.0    1.0    Exploits  \n",
              "1430660             2.0    1.0         DoS  \n",
              "1430661             2.0    1.0         DoS  \n",
              "1430662             2.0    1.0    Exploits  \n",
              "\n",
              "[1430663 rows x 40 columns]"
            ],
            "text/html": [
              "\n",
              "  <div id=\"df-153cc85a-efd6-4645-9f0a-0678c8580771\">\n",
              "    <div class=\"colab-df-container\">\n",
              "      <div>\n",
              "<style scoped>\n",
              "    .dataframe tbody tr th:only-of-type {\n",
              "        vertical-align: middle;\n",
              "    }\n",
              "\n",
              "    .dataframe tbody tr th {\n",
              "        vertical-align: top;\n",
              "    }\n",
              "\n",
              "    .dataframe thead th {\n",
              "        text-align: right;\n",
              "    }\n",
              "</style>\n",
              "<table border=\"1\" class=\"dataframe\">\n",
              "  <thead>\n",
              "    <tr style=\"text-align: right;\">\n",
              "      <th></th>\n",
              "      <th>sport</th>\n",
              "      <th>dsport</th>\n",
              "      <th>dur</th>\n",
              "      <th>dttl</th>\n",
              "      <th>sloss</th>\n",
              "      <th>dloss</th>\n",
              "      <th>Sload</th>\n",
              "      <th>Dload</th>\n",
              "      <th>Spkts</th>\n",
              "      <th>Dpkts</th>\n",
              "      <th>...</th>\n",
              "      <th>ct_ftp_cmd</th>\n",
              "      <th>ct_srv_src</th>\n",
              "      <th>ct_srv_dst</th>\n",
              "      <th>ct_dst_ltm</th>\n",
              "      <th>ct_src_ ltm</th>\n",
              "      <th>ct_src_dport_ltm</th>\n",
              "      <th>ct_dst_sport_ltm</th>\n",
              "      <th>ct_dst_src_ltm</th>\n",
              "      <th>Label</th>\n",
              "      <th>attack_cat</th>\n",
              "    </tr>\n",
              "  </thead>\n",
              "  <tbody>\n",
              "    <tr>\n",
              "      <th>0</th>\n",
              "      <td>47439.0</td>\n",
              "      <td>53.0</td>\n",
              "      <td>0.000004</td>\n",
              "      <td>0.0</td>\n",
              "      <td>0.0</td>\n",
              "      <td>0.0</td>\n",
              "      <td>2.640000e+08</td>\n",
              "      <td>0.000000e+00</td>\n",
              "      <td>2.0</td>\n",
              "      <td>0.0</td>\n",
              "      <td>...</td>\n",
              "      <td>0.671370</td>\n",
              "      <td>29.0</td>\n",
              "      <td>29.0</td>\n",
              "      <td>22.0</td>\n",
              "      <td>22.0</td>\n",
              "      <td>22.0</td>\n",
              "      <td>22.0</td>\n",
              "      <td>29.0</td>\n",
              "      <td>0.0</td>\n",
              "      <td>Normal</td>\n",
              "    </tr>\n",
              "    <tr>\n",
              "      <th>1</th>\n",
              "      <td>35877.0</td>\n",
              "      <td>80.0</td>\n",
              "      <td>1.368633</td>\n",
              "      <td>29.0</td>\n",
              "      <td>2.0</td>\n",
              "      <td>370.0</td>\n",
              "      <td>1.149702e+05</td>\n",
              "      <td>6.350465e+06</td>\n",
              "      <td>370.0</td>\n",
              "      <td>746.0</td>\n",
              "      <td>...</td>\n",
              "      <td>0.364746</td>\n",
              "      <td>1.0</td>\n",
              "      <td>3.0</td>\n",
              "      <td>4.0</td>\n",
              "      <td>1.0</td>\n",
              "      <td>1.0</td>\n",
              "      <td>1.0</td>\n",
              "      <td>3.0</td>\n",
              "      <td>0.0</td>\n",
              "      <td>Normal</td>\n",
              "    </tr>\n",
              "    <tr>\n",
              "      <th>2</th>\n",
              "      <td>37951.0</td>\n",
              "      <td>12319.0</td>\n",
              "      <td>0.002692</td>\n",
              "      <td>29.0</td>\n",
              "      <td>1.0</td>\n",
              "      <td>2.0</td>\n",
              "      <td>7.934621e+05</td>\n",
              "      <td>5.087667e+06</td>\n",
              "      <td>6.0</td>\n",
              "      <td>8.0</td>\n",
              "      <td>...</td>\n",
              "      <td>0.436359</td>\n",
              "      <td>3.0</td>\n",
              "      <td>3.0</td>\n",
              "      <td>5.0</td>\n",
              "      <td>7.0</td>\n",
              "      <td>1.0</td>\n",
              "      <td>1.0</td>\n",
              "      <td>5.0</td>\n",
              "      <td>0.0</td>\n",
              "      <td>Normal</td>\n",
              "    </tr>\n",
              "    <tr>\n",
              "      <th>3</th>\n",
              "      <td>14284.0</td>\n",
              "      <td>40769.0</td>\n",
              "      <td>0.100885</td>\n",
              "      <td>29.0</td>\n",
              "      <td>1.0</td>\n",
              "      <td>12.0</td>\n",
              "      <td>1.371066e+05</td>\n",
              "      <td>2.607563e+06</td>\n",
              "      <td>32.0</td>\n",
              "      <td>35.0</td>\n",
              "      <td>...</td>\n",
              "      <td>0.000000</td>\n",
              "      <td>8.0</td>\n",
              "      <td>2.0</td>\n",
              "      <td>1.0</td>\n",
              "      <td>4.0</td>\n",
              "      <td>1.0</td>\n",
              "      <td>1.0</td>\n",
              "      <td>1.0</td>\n",
              "      <td>0.0</td>\n",
              "      <td>Normal</td>\n",
              "    </tr>\n",
              "    <tr>\n",
              "      <th>4</th>\n",
              "      <td>9167.0</td>\n",
              "      <td>21.0</td>\n",
              "      <td>3.314790</td>\n",
              "      <td>29.0</td>\n",
              "      <td>11.0</td>\n",
              "      <td>15.0</td>\n",
              "      <td>6.945840e+03</td>\n",
              "      <td>8.864514e+03</td>\n",
              "      <td>52.0</td>\n",
              "      <td>54.0</td>\n",
              "      <td>...</td>\n",
              "      <td>1.000000</td>\n",
              "      <td>1.0</td>\n",
              "      <td>1.0</td>\n",
              "      <td>15.0</td>\n",
              "      <td>12.0</td>\n",
              "      <td>1.0</td>\n",
              "      <td>1.0</td>\n",
              "      <td>5.0</td>\n",
              "      <td>0.0</td>\n",
              "      <td>Normal</td>\n",
              "    </tr>\n",
              "    <tr>\n",
              "      <th>...</th>\n",
              "      <td>...</td>\n",
              "      <td>...</td>\n",
              "      <td>...</td>\n",
              "      <td>...</td>\n",
              "      <td>...</td>\n",
              "      <td>...</td>\n",
              "      <td>...</td>\n",
              "      <td>...</td>\n",
              "      <td>...</td>\n",
              "      <td>...</td>\n",
              "      <td>...</td>\n",
              "      <td>...</td>\n",
              "      <td>...</td>\n",
              "      <td>...</td>\n",
              "      <td>...</td>\n",
              "      <td>...</td>\n",
              "      <td>...</td>\n",
              "      <td>...</td>\n",
              "      <td>...</td>\n",
              "      <td>...</td>\n",
              "      <td>...</td>\n",
              "    </tr>\n",
              "    <tr>\n",
              "      <th>1430658</th>\n",
              "      <td>47439.0</td>\n",
              "      <td>53.0</td>\n",
              "      <td>0.000001</td>\n",
              "      <td>0.0</td>\n",
              "      <td>0.0</td>\n",
              "      <td>0.0</td>\n",
              "      <td>4.560000e+08</td>\n",
              "      <td>0.000000e+00</td>\n",
              "      <td>2.0</td>\n",
              "      <td>0.0</td>\n",
              "      <td>...</td>\n",
              "      <td>0.535811</td>\n",
              "      <td>15.0</td>\n",
              "      <td>15.0</td>\n",
              "      <td>15.0</td>\n",
              "      <td>15.0</td>\n",
              "      <td>15.0</td>\n",
              "      <td>15.0</td>\n",
              "      <td>15.0</td>\n",
              "      <td>1.0</td>\n",
              "      <td>Generic</td>\n",
              "    </tr>\n",
              "    <tr>\n",
              "      <th>1430659</th>\n",
              "      <td>17293.0</td>\n",
              "      <td>110.0</td>\n",
              "      <td>0.942984</td>\n",
              "      <td>252.0</td>\n",
              "      <td>5.0</td>\n",
              "      <td>6.0</td>\n",
              "      <td>4.470914e+03</td>\n",
              "      <td>5.259898e+03</td>\n",
              "      <td>12.0</td>\n",
              "      <td>12.0</td>\n",
              "      <td>...</td>\n",
              "      <td>0.429452</td>\n",
              "      <td>2.0</td>\n",
              "      <td>1.0</td>\n",
              "      <td>2.0</td>\n",
              "      <td>4.0</td>\n",
              "      <td>2.0</td>\n",
              "      <td>2.0</td>\n",
              "      <td>2.0</td>\n",
              "      <td>1.0</td>\n",
              "      <td>Exploits</td>\n",
              "    </tr>\n",
              "    <tr>\n",
              "      <th>1430660</th>\n",
              "      <td>33654.0</td>\n",
              "      <td>80.0</td>\n",
              "      <td>2.579405</td>\n",
              "      <td>252.0</td>\n",
              "      <td>103.0</td>\n",
              "      <td>1.0</td>\n",
              "      <td>8.330169e+05</td>\n",
              "      <td>3.898573e+03</td>\n",
              "      <td>208.0</td>\n",
              "      <td>30.0</td>\n",
              "      <td>...</td>\n",
              "      <td>0.238979</td>\n",
              "      <td>2.0</td>\n",
              "      <td>1.0</td>\n",
              "      <td>2.0</td>\n",
              "      <td>4.0</td>\n",
              "      <td>2.0</td>\n",
              "      <td>2.0</td>\n",
              "      <td>2.0</td>\n",
              "      <td>1.0</td>\n",
              "      <td>DoS</td>\n",
              "    </tr>\n",
              "    <tr>\n",
              "      <th>1430661</th>\n",
              "      <td>33654.0</td>\n",
              "      <td>80.0</td>\n",
              "      <td>2.579405</td>\n",
              "      <td>252.0</td>\n",
              "      <td>103.0</td>\n",
              "      <td>1.0</td>\n",
              "      <td>8.330169e+05</td>\n",
              "      <td>3.898573e+03</td>\n",
              "      <td>208.0</td>\n",
              "      <td>30.0</td>\n",
              "      <td>...</td>\n",
              "      <td>0.241184</td>\n",
              "      <td>1.0</td>\n",
              "      <td>1.0</td>\n",
              "      <td>2.0</td>\n",
              "      <td>4.0</td>\n",
              "      <td>2.0</td>\n",
              "      <td>2.0</td>\n",
              "      <td>2.0</td>\n",
              "      <td>1.0</td>\n",
              "      <td>DoS</td>\n",
              "    </tr>\n",
              "    <tr>\n",
              "      <th>1430662</th>\n",
              "      <td>17293.0</td>\n",
              "      <td>110.0</td>\n",
              "      <td>0.942984</td>\n",
              "      <td>252.0</td>\n",
              "      <td>5.0</td>\n",
              "      <td>6.0</td>\n",
              "      <td>4.470914e+03</td>\n",
              "      <td>5.259898e+03</td>\n",
              "      <td>12.0</td>\n",
              "      <td>12.0</td>\n",
              "      <td>...</td>\n",
              "      <td>0.431643</td>\n",
              "      <td>1.0</td>\n",
              "      <td>1.0</td>\n",
              "      <td>2.0</td>\n",
              "      <td>4.0</td>\n",
              "      <td>2.0</td>\n",
              "      <td>2.0</td>\n",
              "      <td>2.0</td>\n",
              "      <td>1.0</td>\n",
              "      <td>Exploits</td>\n",
              "    </tr>\n",
              "  </tbody>\n",
              "</table>\n",
              "<p>1430663 rows × 40 columns</p>\n",
              "</div>\n",
              "      <button class=\"colab-df-convert\" onclick=\"convertToInteractive('df-153cc85a-efd6-4645-9f0a-0678c8580771')\"\n",
              "              title=\"Convert this dataframe to an interactive table.\"\n",
              "              style=\"display:none;\">\n",
              "        \n",
              "  <svg xmlns=\"http://www.w3.org/2000/svg\" height=\"24px\"viewBox=\"0 0 24 24\"\n",
              "       width=\"24px\">\n",
              "    <path d=\"M0 0h24v24H0V0z\" fill=\"none\"/>\n",
              "    <path d=\"M18.56 5.44l.94 2.06.94-2.06 2.06-.94-2.06-.94-.94-2.06-.94 2.06-2.06.94zm-11 1L8.5 8.5l.94-2.06 2.06-.94-2.06-.94L8.5 2.5l-.94 2.06-2.06.94zm10 10l.94 2.06.94-2.06 2.06-.94-2.06-.94-.94-2.06-.94 2.06-2.06.94z\"/><path d=\"M17.41 7.96l-1.37-1.37c-.4-.4-.92-.59-1.43-.59-.52 0-1.04.2-1.43.59L10.3 9.45l-7.72 7.72c-.78.78-.78 2.05 0 2.83L4 21.41c.39.39.9.59 1.41.59.51 0 1.02-.2 1.41-.59l7.78-7.78 2.81-2.81c.8-.78.8-2.07 0-2.86zM5.41 20L4 18.59l7.72-7.72 1.47 1.35L5.41 20z\"/>\n",
              "  </svg>\n",
              "      </button>\n",
              "      \n",
              "  <style>\n",
              "    .colab-df-container {\n",
              "      display:flex;\n",
              "      flex-wrap:wrap;\n",
              "      gap: 12px;\n",
              "    }\n",
              "\n",
              "    .colab-df-convert {\n",
              "      background-color: #E8F0FE;\n",
              "      border: none;\n",
              "      border-radius: 50%;\n",
              "      cursor: pointer;\n",
              "      display: none;\n",
              "      fill: #1967D2;\n",
              "      height: 32px;\n",
              "      padding: 0 0 0 0;\n",
              "      width: 32px;\n",
              "    }\n",
              "\n",
              "    .colab-df-convert:hover {\n",
              "      background-color: #E2EBFA;\n",
              "      box-shadow: 0px 1px 2px rgba(60, 64, 67, 0.3), 0px 1px 3px 1px rgba(60, 64, 67, 0.15);\n",
              "      fill: #174EA6;\n",
              "    }\n",
              "\n",
              "    [theme=dark] .colab-df-convert {\n",
              "      background-color: #3B4455;\n",
              "      fill: #D2E3FC;\n",
              "    }\n",
              "\n",
              "    [theme=dark] .colab-df-convert:hover {\n",
              "      background-color: #434B5C;\n",
              "      box-shadow: 0px 1px 3px 1px rgba(0, 0, 0, 0.15);\n",
              "      filter: drop-shadow(0px 1px 2px rgba(0, 0, 0, 0.3));\n",
              "      fill: #FFFFFF;\n",
              "    }\n",
              "  </style>\n",
              "\n",
              "      <script>\n",
              "        const buttonEl =\n",
              "          document.querySelector('#df-153cc85a-efd6-4645-9f0a-0678c8580771 button.colab-df-convert');\n",
              "        buttonEl.style.display =\n",
              "          google.colab.kernel.accessAllowed ? 'block' : 'none';\n",
              "\n",
              "        async function convertToInteractive(key) {\n",
              "          const element = document.querySelector('#df-153cc85a-efd6-4645-9f0a-0678c8580771');\n",
              "          const dataTable =\n",
              "            await google.colab.kernel.invokeFunction('convertToInteractive',\n",
              "                                                     [key], {});\n",
              "          if (!dataTable) return;\n",
              "\n",
              "          const docLinkHtml = 'Like what you see? Visit the ' +\n",
              "            '<a target=\"_blank\" href=https://colab.research.google.com/notebooks/data_table.ipynb>data table notebook</a>'\n",
              "            + ' to learn more about interactive tables.';\n",
              "          element.innerHTML = '';\n",
              "          dataTable['output_type'] = 'display_data';\n",
              "          await google.colab.output.renderOutput(dataTable, element);\n",
              "          const docLink = document.createElement('div');\n",
              "          docLink.innerHTML = docLinkHtml;\n",
              "          element.appendChild(docLink);\n",
              "        }\n",
              "      </script>\n",
              "    </div>\n",
              "  </div>\n",
              "  "
            ]
          },
          "metadata": {},
          "execution_count": 41
        }
      ]
    },
    {
      "cell_type": "code",
      "source": [
        "#save regression imputed pre processed dataframe on google drive\n",
        "final_regression_df.to_csv('/content/drive/MyDrive/JOB-ML/Binary Classification/regression imputation/pre-processed_regression_DF.csv', index=False)"
      ],
      "metadata": {
        "id": "4TjrJiNrSZw3"
      },
      "execution_count": null,
      "outputs": []
    },
    {
      "cell_type": "markdown",
      "source": [
        "Mean imputation"
      ],
      "metadata": {
        "id": "nnHdzSI42wWo"
      }
    },
    {
      "cell_type": "code",
      "source": [
        "#fill those missing values with mean imputation\n",
        "df = df.fillna(df.mean())\n",
        "df.isnull().any().any()"
      ],
      "metadata": {
        "colab": {
          "base_uri": "https://localhost:8080/"
        },
        "id": "r3ikaFDZVAyZ",
        "outputId": "cfcb059c-31f8-4c8c-8234-6c9486beb30c"
      },
      "execution_count": null,
      "outputs": [
        {
          "output_type": "stream",
          "name": "stderr",
          "text": [
            "<ipython-input-16-5c46ba2fef32>:2: FutureWarning: The default value of numeric_only in DataFrame.mean is deprecated. In a future version, it will default to False. In addition, specifying 'numeric_only=None' is deprecated. Select only valid columns or specify the value of numeric_only to silence this warning.\n",
            "  df = df.fillna(df.mean())\n"
          ]
        },
        {
          "output_type": "execute_result",
          "data": {
            "text/plain": [
              "False"
            ]
          },
          "metadata": {},
          "execution_count": 16
        }
      ]
    },
    {
      "cell_type": "code",
      "source": [
        "df_features = df.iloc[:, 0:-2] # selects all columns except last two\n",
        "df_target = df.iloc[:, -1:] #selects last label column"
      ],
      "metadata": {
        "id": "V9DUGfVWGP9P"
      },
      "execution_count": null,
      "outputs": []
    },
    {
      "cell_type": "code",
      "source": [
        "## use random forest classifier for feature importance\n",
        "\n",
        "model = RandomForestClassifier(n_estimators = 100) # initialize randome Forest Model\n",
        "\n",
        "# fits model on the extracted dataframe features and target column\n",
        "model.fit(df_features,df_target)"
      ],
      "metadata": {
        "colab": {
          "base_uri": "https://localhost:8080/",
          "height": 130
        },
        "id": "I5CwTdOhFuHK",
        "outputId": "bd3fd0b6-5695-4dda-8710-7e4c12bb4bb4"
      },
      "execution_count": null,
      "outputs": [
        {
          "output_type": "stream",
          "name": "stderr",
          "text": [
            "<ipython-input-19-19fb422d0498>:2: DataConversionWarning: A column-vector y was passed when a 1d array was expected. Please change the shape of y to (n_samples,), for example using ravel().\n",
            "  model.fit(df_features,df_target)\n"
          ]
        },
        {
          "output_type": "execute_result",
          "data": {
            "text/plain": [
              "RandomForestClassifier()"
            ],
            "text/html": [
              "<style>#sk-container-id-1 {color: black;background-color: white;}#sk-container-id-1 pre{padding: 0;}#sk-container-id-1 div.sk-toggleable {background-color: white;}#sk-container-id-1 label.sk-toggleable__label {cursor: pointer;display: block;width: 100%;margin-bottom: 0;padding: 0.3em;box-sizing: border-box;text-align: center;}#sk-container-id-1 label.sk-toggleable__label-arrow:before {content: \"▸\";float: left;margin-right: 0.25em;color: #696969;}#sk-container-id-1 label.sk-toggleable__label-arrow:hover:before {color: black;}#sk-container-id-1 div.sk-estimator:hover label.sk-toggleable__label-arrow:before {color: black;}#sk-container-id-1 div.sk-toggleable__content {max-height: 0;max-width: 0;overflow: hidden;text-align: left;background-color: #f0f8ff;}#sk-container-id-1 div.sk-toggleable__content pre {margin: 0.2em;color: black;border-radius: 0.25em;background-color: #f0f8ff;}#sk-container-id-1 input.sk-toggleable__control:checked~div.sk-toggleable__content {max-height: 200px;max-width: 100%;overflow: auto;}#sk-container-id-1 input.sk-toggleable__control:checked~label.sk-toggleable__label-arrow:before {content: \"▾\";}#sk-container-id-1 div.sk-estimator input.sk-toggleable__control:checked~label.sk-toggleable__label {background-color: #d4ebff;}#sk-container-id-1 div.sk-label input.sk-toggleable__control:checked~label.sk-toggleable__label {background-color: #d4ebff;}#sk-container-id-1 input.sk-hidden--visually {border: 0;clip: rect(1px 1px 1px 1px);clip: rect(1px, 1px, 1px, 1px);height: 1px;margin: -1px;overflow: hidden;padding: 0;position: absolute;width: 1px;}#sk-container-id-1 div.sk-estimator {font-family: monospace;background-color: #f0f8ff;border: 1px dotted black;border-radius: 0.25em;box-sizing: border-box;margin-bottom: 0.5em;}#sk-container-id-1 div.sk-estimator:hover {background-color: #d4ebff;}#sk-container-id-1 div.sk-parallel-item::after {content: \"\";width: 100%;border-bottom: 1px solid gray;flex-grow: 1;}#sk-container-id-1 div.sk-label:hover label.sk-toggleable__label {background-color: #d4ebff;}#sk-container-id-1 div.sk-serial::before {content: \"\";position: absolute;border-left: 1px solid gray;box-sizing: border-box;top: 0;bottom: 0;left: 50%;z-index: 0;}#sk-container-id-1 div.sk-serial {display: flex;flex-direction: column;align-items: center;background-color: white;padding-right: 0.2em;padding-left: 0.2em;position: relative;}#sk-container-id-1 div.sk-item {position: relative;z-index: 1;}#sk-container-id-1 div.sk-parallel {display: flex;align-items: stretch;justify-content: center;background-color: white;position: relative;}#sk-container-id-1 div.sk-item::before, #sk-container-id-1 div.sk-parallel-item::before {content: \"\";position: absolute;border-left: 1px solid gray;box-sizing: border-box;top: 0;bottom: 0;left: 50%;z-index: -1;}#sk-container-id-1 div.sk-parallel-item {display: flex;flex-direction: column;z-index: 1;position: relative;background-color: white;}#sk-container-id-1 div.sk-parallel-item:first-child::after {align-self: flex-end;width: 50%;}#sk-container-id-1 div.sk-parallel-item:last-child::after {align-self: flex-start;width: 50%;}#sk-container-id-1 div.sk-parallel-item:only-child::after {width: 0;}#sk-container-id-1 div.sk-dashed-wrapped {border: 1px dashed gray;margin: 0 0.4em 0.5em 0.4em;box-sizing: border-box;padding-bottom: 0.4em;background-color: white;}#sk-container-id-1 div.sk-label label {font-family: monospace;font-weight: bold;display: inline-block;line-height: 1.2em;}#sk-container-id-1 div.sk-label-container {text-align: center;}#sk-container-id-1 div.sk-container {/* jupyter's `normalize.less` sets `[hidden] { display: none; }` but bootstrap.min.css set `[hidden] { display: none !important; }` so we also need the `!important` here to be able to override the default hidden behavior on the sphinx rendered scikit-learn.org. See: https://github.com/scikit-learn/scikit-learn/issues/21755 */display: inline-block !important;position: relative;}#sk-container-id-1 div.sk-text-repr-fallback {display: none;}</style><div id=\"sk-container-id-1\" class=\"sk-top-container\"><div class=\"sk-text-repr-fallback\"><pre>RandomForestClassifier()</pre><b>In a Jupyter environment, please rerun this cell to show the HTML representation or trust the notebook. <br />On GitHub, the HTML representation is unable to render, please try loading this page with nbviewer.org.</b></div><div class=\"sk-container\" hidden><div class=\"sk-item\"><div class=\"sk-estimator sk-toggleable\"><input class=\"sk-toggleable__control sk-hidden--visually\" id=\"sk-estimator-id-1\" type=\"checkbox\" checked><label for=\"sk-estimator-id-1\" class=\"sk-toggleable__label sk-toggleable__label-arrow\">RandomForestClassifier</label><div class=\"sk-toggleable__content\"><pre>RandomForestClassifier()</pre></div></div></div></div></div>"
            ]
          },
          "metadata": {},
          "execution_count": 19
        }
      ]
    },
    {
      "cell_type": "code",
      "source": [
        "# feature importance calculated by the model is assigned to the variable\n",
        "importances = model.feature_importances_"
      ],
      "metadata": {
        "id": "xBEZIWNqTyH3"
      },
      "execution_count": null,
      "outputs": []
    },
    {
      "cell_type": "code",
      "source": [
        "#created a dataframe with two columsn\n",
        "feature_df = pd.DataFrame({'Features' : pd.DataFrame(df_features).columns , 'Importances' : importances})\n",
        "\n",
        "# Set 'Features' column as the index\n",
        "feature_df.set_index(\"Features\", inplace=True)\n",
        "\n",
        "# Setting the figure size to 20 by 8 inches\n",
        "plt.figure(figsize=(20, 8))\n",
        "\n",
        "# Plot the bar graph\n",
        "feature_df.plot.bar(color='teal')\n",
        "\n",
        "# Add labels and title\n",
        "plt.xlabel('Features')\n",
        "plt.ylabel('Importances')\n",
        "plt.title('Feature Importances')\n",
        "\n",
        "# Set the x-axis tick positions and labels\n",
        "plt.xticks(range(len(feature_df.index)), feature_df.index)\n",
        "\n",
        "# Display the plot\n",
        "plt.show()"
      ],
      "metadata": {
        "colab": {
          "base_uri": "https://localhost:8080/",
          "height": 595
        },
        "id": "KS0RyNY_T7R8",
        "outputId": "2dc7bed2-ccab-4ba3-d412-ec5e2bc26ea6"
      },
      "execution_count": null,
      "outputs": [
        {
          "output_type": "display_data",
          "data": {
            "text/plain": [
              "<Figure size 2000x800 with 0 Axes>"
            ]
          },
          "metadata": {}
        },
        {
          "output_type": "display_data",
          "data": {
            "text/plain": [
              "<Figure size 640x480 with 1 Axes>"
            ],
            "image/png": "[encoded data removed]"
          },
          "metadata": {}
        }
      ]
    },
    {
      "cell_type": "code",
      "source": [
        "# assigns threshold value to 0.05\n",
        "threshold = 0.05\n",
        "\n",
        "#extracts all features whose importance is less than the threshold value\n",
        "filtered_df = feature_df.loc[feature_df['Importances'] <= threshold]\n",
        "\n",
        "# Setting the figure size to 20 by 8 inches\n",
        "plt.figure(figsize=(20, 8))\n",
        "\n",
        "# Plot the bar graph\n",
        "filtered_df.plot.bar(color='teal')\n",
        "\n",
        "# Add labels and title\n",
        "plt.xlabel('Features')\n",
        "plt.ylabel('Importances')\n",
        "plt.title('Feature Importances (Importance <= 0.05)')\n",
        "\n",
        "# Set the x-axis tick positions and labels\n",
        "plt.xticks(range(len(filtered_df.index)), filtered_df.index)\n",
        "\n",
        "# Display the plot\n",
        "plt.show()"
      ],
      "metadata": {
        "colab": {
          "base_uri": "https://localhost:8080/",
          "height": 595
        },
        "id": "AaFc7TTLZxiS",
        "outputId": "e659c876-c7d6-4787-ce96-647925b03085"
      },
      "execution_count": null,
      "outputs": [
        {
          "output_type": "display_data",
          "data": {
            "text/plain": [
              "<Figure size 2000x800 with 0 Axes>"
            ]
          },
          "metadata": {}
        },
        {
          "output_type": "display_data",
          "data": {
            "text/plain": [
              "<Figure size 640x480 with 1 Axes>"
            ],
            "image/png": "[encoded data removed]"
          },
          "metadata": {}
        }
      ]
    },
    {
      "cell_type": "code",
      "source": [
        "filtered_df.shape"
      ],
      "metadata": {
        "colab": {
          "base_uri": "https://localhost:8080/"
        },
        "id": "6EEowHwTbeyy",
        "outputId": "890d8e6a-44d8-417f-b0f0-d3a42743daee"
      },
      "execution_count": null,
      "outputs": [
        {
          "output_type": "execute_result",
          "data": {
            "text/plain": [
              "(38, 1)"
            ]
          },
          "metadata": {},
          "execution_count": 31
        }
      ]
    },
    {
      "cell_type": "code",
      "source": [
        "# drops columns with high threshold value\n",
        "processed_df = df.drop(['sbytes','sttl','ct_state_ttl','dbytes'],axis=1)"
      ],
      "metadata": {
        "id": "TtPNTRd56X5N"
      },
      "execution_count": null,
      "outputs": []
    },
    {
      "cell_type": "code",
      "source": [
        "#save mean imputed pre processed dataframe on google drive\n",
        "processed_df.to_csv('/content/drive/MyDrive/JOB-ML/Binary Classification/mean imputation/pre-processed_DF.csv', index=False)"
      ],
      "metadata": {
        "id": "SwTliGIV7w4d"
      },
      "execution_count": null,
      "outputs": []
    },
    {
      "cell_type": "code",
      "source": [
        "#read mean imputed pre processed df from google drive\n",
        "df = pd.read_csv('/content/drive/MyDrive/JOB-ML/Binary Classification/mean imputation/pre-processed_DF.csv')"
      ],
      "metadata": {
        "id": "zVUC8Fbf0zC9"
      },
      "execution_count": null,
      "outputs": []
    },
    {
      "cell_type": "code",
      "source": [
        "df"
      ],
      "metadata": {
        "id": "kSW3eDwU8Lwi",
        "colab": {
          "base_uri": "https://localhost:8080/",
          "height": 505
        },
        "outputId": "d0326305-ba37-4e1e-dc0c-65893cdf9b75"
      },
      "execution_count": null,
      "outputs": [
        {
          "output_type": "execute_result",
          "data": {
            "text/plain": [
              "           sport   dsport       dur  dttl  sloss  dloss         Sload  \\\n",
              "0        47439.0     53.0  0.000004     0      0      0  2.640000e+08   \n",
              "1        35877.0     80.0  1.368633    29      2    370  1.149702e+05   \n",
              "2        37951.0  12319.0  0.002692    29      1      2  7.934621e+05   \n",
              "3        14284.0  40769.0  0.100885    29      1     12  1.371066e+05   \n",
              "4         9167.0     21.0  3.314790    29     11     15  6.945840e+03   \n",
              "...          ...      ...       ...   ...    ...    ...           ...   \n",
              "1430658  47439.0     53.0  0.000001     0      0      0  4.560000e+08   \n",
              "1430659  17293.0    110.0  0.942984   252      5      6  4.470914e+03   \n",
              "1430660  33654.0     80.0  2.579405   252    103      1  8.330169e+05   \n",
              "1430661  33654.0     80.0  2.579405   252    103      1  8.330169e+05   \n",
              "1430662  17293.0    110.0  0.942984   252      5      6  4.470914e+03   \n",
              "\n",
              "                Dload  Spkts  Dpkts  ...  ct_ftp_cmd  ct_srv_src  ct_srv_dst  \\\n",
              "0        0.000000e+00      2      0  ...    0.047728          29          29   \n",
              "1        6.350465e+06    370    746  ...    0.047728           1           3   \n",
              "2        5.087667e+06      6      8  ...    0.047728           3           3   \n",
              "3        2.607563e+06     32     35  ...    0.000000           8           2   \n",
              "4        8.864514e+03     52     54  ...    1.000000           1           1   \n",
              "...               ...    ...    ...  ...         ...         ...         ...   \n",
              "1430658  0.000000e+00      2      0  ...    0.047728          15          15   \n",
              "1430659  5.259898e+03     12     12  ...    0.047728           2           1   \n",
              "1430660  3.898573e+03    208     30  ...    0.047728           2           1   \n",
              "1430661  3.898573e+03    208     30  ...    0.047728           1           1   \n",
              "1430662  5.259898e+03     12     12  ...    0.047728           1           1   \n",
              "\n",
              "         ct_dst_ltm  ct_src_ ltm  ct_src_dport_ltm  ct_dst_sport_ltm  \\\n",
              "0                22           22                22                22   \n",
              "1                 4            1                 1                 1   \n",
              "2                 5            7                 1                 1   \n",
              "3                 1            4                 1                 1   \n",
              "4                15           12                 1                 1   \n",
              "...             ...          ...               ...               ...   \n",
              "1430658          15           15                15                15   \n",
              "1430659           2            4                 2                 2   \n",
              "1430660           2            4                 2                 2   \n",
              "1430661           2            4                 2                 2   \n",
              "1430662           2            4                 2                 2   \n",
              "\n",
              "         ct_dst_src_ltm  attack_cat  Label  \n",
              "0                    29      Normal      0  \n",
              "1                     3      Normal      0  \n",
              "2                     5      Normal      0  \n",
              "3                     1      Normal      0  \n",
              "4                     5      Normal      0  \n",
              "...                 ...         ...    ...  \n",
              "1430658              15     Generic      1  \n",
              "1430659               2    Exploits      1  \n",
              "1430660               2         DoS      1  \n",
              "1430661               2         DoS      1  \n",
              "1430662               2    Exploits      1  \n",
              "\n",
              "[1430663 rows x 40 columns]"
            ],
            "text/html": [
              "\n",
              "  <div id=\"df-344ff7da-8b0c-4c59-85f8-dffb86daa4f0\">\n",
              "    <div class=\"colab-df-container\">\n",
              "      <div>\n",
              "<style scoped>\n",
              "    .dataframe tbody tr th:only-of-type {\n",
              "        vertical-align: middle;\n",
              "    }\n",
              "\n",
              "    .dataframe tbody tr th {\n",
              "        vertical-align: top;\n",
              "    }\n",
              "\n",
              "    .dataframe thead th {\n",
              "        text-align: right;\n",
              "    }\n",
              "</style>\n",
              "<table border=\"1\" class=\"dataframe\">\n",
              "  <thead>\n",
              "    <tr style=\"text-align: right;\">\n",
              "      <th></th>\n",
              "      <th>sport</th>\n",
              "      <th>dsport</th>\n",
              "      <th>dur</th>\n",
              "      <th>dttl</th>\n",
              "      <th>sloss</th>\n",
              "      <th>dloss</th>\n",
              "      <th>Sload</th>\n",
              "      <th>Dload</th>\n",
              "      <th>Spkts</th>\n",
              "      <th>Dpkts</th>\n",
              "      <th>...</th>\n",
              "      <th>ct_ftp_cmd</th>\n",
              "      <th>ct_srv_src</th>\n",
              "      <th>ct_srv_dst</th>\n",
              "      <th>ct_dst_ltm</th>\n",
              "      <th>ct_src_ ltm</th>\n",
              "      <th>ct_src_dport_ltm</th>\n",
              "      <th>ct_dst_sport_ltm</th>\n",
              "      <th>ct_dst_src_ltm</th>\n",
              "      <th>attack_cat</th>\n",
              "      <th>Label</th>\n",
              "    </tr>\n",
              "  </thead>\n",
              "  <tbody>\n",
              "    <tr>\n",
              "      <th>0</th>\n",
              "      <td>47439.0</td>\n",
              "      <td>53.0</td>\n",
              "      <td>0.000004</td>\n",
              "      <td>0</td>\n",
              "      <td>0</td>\n",
              "      <td>0</td>\n",
              "      <td>2.640000e+08</td>\n",
              "      <td>0.000000e+00</td>\n",
              "      <td>2</td>\n",
              "      <td>0</td>\n",
              "      <td>...</td>\n",
              "      <td>0.047728</td>\n",
              "      <td>29</td>\n",
              "      <td>29</td>\n",
              "      <td>22</td>\n",
              "      <td>22</td>\n",
              "      <td>22</td>\n",
              "      <td>22</td>\n",
              "      <td>29</td>\n",
              "      <td>Normal</td>\n",
              "      <td>0</td>\n",
              "    </tr>\n",
              "    <tr>\n",
              "      <th>1</th>\n",
              "      <td>35877.0</td>\n",
              "      <td>80.0</td>\n",
              "      <td>1.368633</td>\n",
              "      <td>29</td>\n",
              "      <td>2</td>\n",
              "      <td>370</td>\n",
              "      <td>1.149702e+05</td>\n",
              "      <td>6.350465e+06</td>\n",
              "      <td>370</td>\n",
              "      <td>746</td>\n",
              "      <td>...</td>\n",
              "      <td>0.047728</td>\n",
              "      <td>1</td>\n",
              "      <td>3</td>\n",
              "      <td>4</td>\n",
              "      <td>1</td>\n",
              "      <td>1</td>\n",
              "      <td>1</td>\n",
              "      <td>3</td>\n",
              "      <td>Normal</td>\n",
              "      <td>0</td>\n",
              "    </tr>\n",
              "    <tr>\n",
              "      <th>2</th>\n",
              "      <td>37951.0</td>\n",
              "      <td>12319.0</td>\n",
              "      <td>0.002692</td>\n",
              "      <td>29</td>\n",
              "      <td>1</td>\n",
              "      <td>2</td>\n",
              "      <td>7.934621e+05</td>\n",
              "      <td>5.087667e+06</td>\n",
              "      <td>6</td>\n",
              "      <td>8</td>\n",
              "      <td>...</td>\n",
              "      <td>0.047728</td>\n",
              "      <td>3</td>\n",
              "      <td>3</td>\n",
              "      <td>5</td>\n",
              "      <td>7</td>\n",
              "      <td>1</td>\n",
              "      <td>1</td>\n",
              "      <td>5</td>\n",
              "      <td>Normal</td>\n",
              "      <td>0</td>\n",
              "    </tr>\n",
              "    <tr>\n",
              "      <th>3</th>\n",
              "      <td>14284.0</td>\n",
              "      <td>40769.0</td>\n",
              "      <td>0.100885</td>\n",
              "      <td>29</td>\n",
              "      <td>1</td>\n",
              "      <td>12</td>\n",
              "      <td>1.371066e+05</td>\n",
              "      <td>2.607563e+06</td>\n",
              "      <td>32</td>\n",
              "      <td>35</td>\n",
              "      <td>...</td>\n",
              "      <td>0.000000</td>\n",
              "      <td>8</td>\n",
              "      <td>2</td>\n",
              "      <td>1</td>\n",
              "      <td>4</td>\n",
              "      <td>1</td>\n",
              "      <td>1</td>\n",
              "      <td>1</td>\n",
              "      <td>Normal</td>\n",
              "      <td>0</td>\n",
              "    </tr>\n",
              "    <tr>\n",
              "      <th>4</th>\n",
              "      <td>9167.0</td>\n",
              "      <td>21.0</td>\n",
              "      <td>3.314790</td>\n",
              "      <td>29</td>\n",
              "      <td>11</td>\n",
              "      <td>15</td>\n",
              "      <td>6.945840e+03</td>\n",
              "      <td>8.864514e+03</td>\n",
              "      <td>52</td>\n",
              "      <td>54</td>\n",
              "      <td>...</td>\n",
              "      <td>1.000000</td>\n",
              "      <td>1</td>\n",
              "      <td>1</td>\n",
              "      <td>15</td>\n",
              "      <td>12</td>\n",
              "      <td>1</td>\n",
              "      <td>1</td>\n",
              "      <td>5</td>\n",
              "      <td>Normal</td>\n",
              "      <td>0</td>\n",
              "    </tr>\n",
              "    <tr>\n",
              "      <th>...</th>\n",
              "      <td>...</td>\n",
              "      <td>...</td>\n",
              "      <td>...</td>\n",
              "      <td>...</td>\n",
              "      <td>...</td>\n",
              "      <td>...</td>\n",
              "      <td>...</td>\n",
              "      <td>...</td>\n",
              "      <td>...</td>\n",
              "      <td>...</td>\n",
              "      <td>...</td>\n",
              "      <td>...</td>\n",
              "      <td>...</td>\n",
              "      <td>...</td>\n",
              "      <td>...</td>\n",
              "      <td>...</td>\n",
              "      <td>...</td>\n",
              "      <td>...</td>\n",
              "      <td>...</td>\n",
              "      <td>...</td>\n",
              "      <td>...</td>\n",
              "    </tr>\n",
              "    <tr>\n",
              "      <th>1430658</th>\n",
              "      <td>47439.0</td>\n",
              "      <td>53.0</td>\n",
              "      <td>0.000001</td>\n",
              "      <td>0</td>\n",
              "      <td>0</td>\n",
              "      <td>0</td>\n",
              "      <td>4.560000e+08</td>\n",
              "      <td>0.000000e+00</td>\n",
              "      <td>2</td>\n",
              "      <td>0</td>\n",
              "      <td>...</td>\n",
              "      <td>0.047728</td>\n",
              "      <td>15</td>\n",
              "      <td>15</td>\n",
              "      <td>15</td>\n",
              "      <td>15</td>\n",
              "      <td>15</td>\n",
              "      <td>15</td>\n",
              "      <td>15</td>\n",
              "      <td>Generic</td>\n",
              "      <td>1</td>\n",
              "    </tr>\n",
              "    <tr>\n",
              "      <th>1430659</th>\n",
              "      <td>17293.0</td>\n",
              "      <td>110.0</td>\n",
              "      <td>0.942984</td>\n",
              "      <td>252</td>\n",
              "      <td>5</td>\n",
              "      <td>6</td>\n",
              "      <td>4.470914e+03</td>\n",
              "      <td>5.259898e+03</td>\n",
              "      <td>12</td>\n",
              "      <td>12</td>\n",
              "      <td>...</td>\n",
              "      <td>0.047728</td>\n",
              "      <td>2</td>\n",
              "      <td>1</td>\n",
              "      <td>2</td>\n",
              "      <td>4</td>\n",
              "      <td>2</td>\n",
              "      <td>2</td>\n",
              "      <td>2</td>\n",
              "      <td>Exploits</td>\n",
              "      <td>1</td>\n",
              "    </tr>\n",
              "    <tr>\n",
              "      <th>1430660</th>\n",
              "      <td>33654.0</td>\n",
              "      <td>80.0</td>\n",
              "      <td>2.579405</td>\n",
              "      <td>252</td>\n",
              "      <td>103</td>\n",
              "      <td>1</td>\n",
              "      <td>8.330169e+05</td>\n",
              "      <td>3.898573e+03</td>\n",
              "      <td>208</td>\n",
              "      <td>30</td>\n",
              "      <td>...</td>\n",
              "      <td>0.047728</td>\n",
              "      <td>2</td>\n",
              "      <td>1</td>\n",
              "      <td>2</td>\n",
              "      <td>4</td>\n",
              "      <td>2</td>\n",
              "      <td>2</td>\n",
              "      <td>2</td>\n",
              "      <td>DoS</td>\n",
              "      <td>1</td>\n",
              "    </tr>\n",
              "    <tr>\n",
              "      <th>1430661</th>\n",
              "      <td>33654.0</td>\n",
              "      <td>80.0</td>\n",
              "      <td>2.579405</td>\n",
              "      <td>252</td>\n",
              "      <td>103</td>\n",
              "      <td>1</td>\n",
              "      <td>8.330169e+05</td>\n",
              "      <td>3.898573e+03</td>\n",
              "      <td>208</td>\n",
              "      <td>30</td>\n",
              "      <td>...</td>\n",
              "      <td>0.047728</td>\n",
              "      <td>1</td>\n",
              "      <td>1</td>\n",
              "      <td>2</td>\n",
              "      <td>4</td>\n",
              "      <td>2</td>\n",
              "      <td>2</td>\n",
              "      <td>2</td>\n",
              "      <td>DoS</td>\n",
              "      <td>1</td>\n",
              "    </tr>\n",
              "    <tr>\n",
              "      <th>1430662</th>\n",
              "      <td>17293.0</td>\n",
              "      <td>110.0</td>\n",
              "      <td>0.942984</td>\n",
              "      <td>252</td>\n",
              "      <td>5</td>\n",
              "      <td>6</td>\n",
              "      <td>4.470914e+03</td>\n",
              "      <td>5.259898e+03</td>\n",
              "      <td>12</td>\n",
              "      <td>12</td>\n",
              "      <td>...</td>\n",
              "      <td>0.047728</td>\n",
              "      <td>1</td>\n",
              "      <td>1</td>\n",
              "      <td>2</td>\n",
              "      <td>4</td>\n",
              "      <td>2</td>\n",
              "      <td>2</td>\n",
              "      <td>2</td>\n",
              "      <td>Exploits</td>\n",
              "      <td>1</td>\n",
              "    </tr>\n",
              "  </tbody>\n",
              "</table>\n",
              "<p>1430663 rows × 40 columns</p>\n",
              "</div>\n",
              "      <button class=\"colab-df-convert\" onclick=\"convertToInteractive('df-344ff7da-8b0c-4c59-85f8-dffb86daa4f0')\"\n",
              "              title=\"Convert this dataframe to an interactive table.\"\n",
              "              style=\"display:none;\">\n",
              "        \n",
              "  <svg xmlns=\"http://www.w3.org/2000/svg\" height=\"24px\"viewBox=\"0 0 24 24\"\n",
              "       width=\"24px\">\n",
              "    <path d=\"M0 0h24v24H0V0z\" fill=\"none\"/>\n",
              "    <path d=\"M18.56 5.44l.94 2.06.94-2.06 2.06-.94-2.06-.94-.94-2.06-.94 2.06-2.06.94zm-11 1L8.5 8.5l.94-2.06 2.06-.94-2.06-.94L8.5 2.5l-.94 2.06-2.06.94zm10 10l.94 2.06.94-2.06 2.06-.94-2.06-.94-.94-2.06-.94 2.06-2.06.94z\"/><path d=\"M17.41 7.96l-1.37-1.37c-.4-.4-.92-.59-1.43-.59-.52 0-1.04.2-1.43.59L10.3 9.45l-7.72 7.72c-.78.78-.78 2.05 0 2.83L4 21.41c.39.39.9.59 1.41.59.51 0 1.02-.2 1.41-.59l7.78-7.78 2.81-2.81c.8-.78.8-2.07 0-2.86zM5.41 20L4 18.59l7.72-7.72 1.47 1.35L5.41 20z\"/>\n",
              "  </svg>\n",
              "      </button>\n",
              "      \n",
              "  <style>\n",
              "    .colab-df-container {\n",
              "      display:flex;\n",
              "      flex-wrap:wrap;\n",
              "      gap: 12px;\n",
              "    }\n",
              "\n",
              "    .colab-df-convert {\n",
              "      background-color: #E8F0FE;\n",
              "      border: none;\n",
              "      border-radius: 50%;\n",
              "      cursor: pointer;\n",
              "      display: none;\n",
              "      fill: #1967D2;\n",
              "      height: 32px;\n",
              "      padding: 0 0 0 0;\n",
              "      width: 32px;\n",
              "    }\n",
              "\n",
              "    .colab-df-convert:hover {\n",
              "      background-color: #E2EBFA;\n",
              "      box-shadow: 0px 1px 2px rgba(60, 64, 67, 0.3), 0px 1px 3px 1px rgba(60, 64, 67, 0.15);\n",
              "      fill: #174EA6;\n",
              "    }\n",
              "\n",
              "    [theme=dark] .colab-df-convert {\n",
              "      background-color: #3B4455;\n",
              "      fill: #D2E3FC;\n",
              "    }\n",
              "\n",
              "    [theme=dark] .colab-df-convert:hover {\n",
              "      background-color: #434B5C;\n",
              "      box-shadow: 0px 1px 3px 1px rgba(0, 0, 0, 0.15);\n",
              "      filter: drop-shadow(0px 1px 2px rgba(0, 0, 0, 0.3));\n",
              "      fill: #FFFFFF;\n",
              "    }\n",
              "  </style>\n",
              "\n",
              "      <script>\n",
              "        const buttonEl =\n",
              "          document.querySelector('#df-344ff7da-8b0c-4c59-85f8-dffb86daa4f0 button.colab-df-convert');\n",
              "        buttonEl.style.display =\n",
              "          google.colab.kernel.accessAllowed ? 'block' : 'none';\n",
              "\n",
              "        async function convertToInteractive(key) {\n",
              "          const element = document.querySelector('#df-344ff7da-8b0c-4c59-85f8-dffb86daa4f0');\n",
              "          const dataTable =\n",
              "            await google.colab.kernel.invokeFunction('convertToInteractive',\n",
              "                                                     [key], {});\n",
              "          if (!dataTable) return;\n",
              "\n",
              "          const docLinkHtml = 'Like what you see? Visit the ' +\n",
              "            '<a target=\"_blank\" href=https://colab.research.google.com/notebooks/data_table.ipynb>data table notebook</a>'\n",
              "            + ' to learn more about interactive tables.';\n",
              "          element.innerHTML = '';\n",
              "          dataTable['output_type'] = 'display_data';\n",
              "          await google.colab.output.renderOutput(dataTable, element);\n",
              "          const docLink = document.createElement('div');\n",
              "          docLink.innerHTML = docLinkHtml;\n",
              "          element.appendChild(docLink);\n",
              "        }\n",
              "      </script>\n",
              "    </div>\n",
              "  </div>\n",
              "  "
            ]
          },
          "metadata": {},
          "execution_count": 4
        }
      ]
    },
    {
      "cell_type": "code",
      "source": [
        "# Pie chart distrubution of mean imputed pre processed dataframe\n",
        "plt.figure(figsize=(4,4))\n",
        "plt.pie(df.Label.value_counts(),labels=['normal','abnormal'],autopct='%0.2f%%')\n",
        "plt.title(\"Pie chart distribution of normal and abnormal labels\",fontsize=16)\n",
        "plt.legend()\n",
        "plt.show()"
      ],
      "metadata": {
        "colab": {
          "base_uri": "https://localhost:8080/",
          "height": 369
        },
        "id": "7vP0eQCp3Pqc",
        "outputId": "29229371-28ac-4bdc-ce75-823ded53efc0"
      },
      "execution_count": null,
      "outputs": [
        {
          "output_type": "display_data",
          "data": {
            "text/plain": [
              "<Figure size 400x400 with 1 Axes>"
            ],
            "image/png": "[encoded data removed]"
          },
          "metadata": {}
        }
      ]
    },
    {
      "cell_type": "code",
      "source": [
        "df.dtypes"
      ],
      "metadata": {
        "colab": {
          "base_uri": "https://localhost:8080/"
        },
        "id": "nIqNiTCdlscb",
        "outputId": "bb9e1af0-54cc-41af-af0e-5f7cb05d4df2"
      },
      "execution_count": null,
      "outputs": [
        {
          "output_type": "execute_result",
          "data": {
            "text/plain": [
              "sport               float64\n",
              "dsport              float64\n",
              "dur                 float64\n",
              "dttl                  int64\n",
              "sloss                 int64\n",
              "dloss                 int64\n",
              "Sload               float64\n",
              "Dload               float64\n",
              "Spkts                 int64\n",
              "Dpkts                 int64\n",
              "swin                  int64\n",
              "dwin                  int64\n",
              "stcpb                 int64\n",
              "dtcpb                 int64\n",
              "smeansz               int64\n",
              "dmeansz               int64\n",
              "trans_depth           int64\n",
              "res_bdy_len           int64\n",
              "Sjit                float64\n",
              "Djit                float64\n",
              "Stime                 int64\n",
              "Ltime                 int64\n",
              "Sintpkt             float64\n",
              "Dintpkt             float64\n",
              "tcprtt              float64\n",
              "synack              float64\n",
              "ackdat              float64\n",
              "is_sm_ips_ports       int64\n",
              "ct_flw_http_mthd    float64\n",
              "is_ftp_login        float64\n",
              "ct_ftp_cmd          float64\n",
              "ct_srv_src            int64\n",
              "ct_srv_dst            int64\n",
              "ct_dst_ltm            int64\n",
              "ct_src_ ltm           int64\n",
              "ct_src_dport_ltm      int64\n",
              "ct_dst_sport_ltm      int64\n",
              "ct_dst_src_ltm        int64\n",
              "attack_cat           object\n",
              "Label                 int64\n",
              "dtype: object"
            ]
          },
          "metadata": {},
          "execution_count": 29
        }
      ]
    },
    {
      "cell_type": "markdown",
      "source": [
        "Binary Classification Using Mean Imputed Data"
      ],
      "metadata": {
        "id": "UvcLKtKS4rM2"
      }
    },
    {
      "cell_type": "markdown",
      "source": [
        "Ranfom Forest"
      ],
      "metadata": {
        "id": "_1x23bCh4uL4"
      }
    },
    {
      "cell_type": "code",
      "source": [
        "# assign features to x variable\n",
        "x = df.iloc[:, 0:-2]\n",
        "\n",
        "# assign binary class(last column) to y variable\n",
        "y = df.iloc[:, -1:].values.ravel()\n",
        "\n",
        "# Splits data into training and testing sets\n",
        "x_train, x_test, y_train, y_test = train_test_split(x, y, test_size=0.2, random_state=42)\n"
      ],
      "metadata": {
        "id": "hFEz9Gl733kt"
      },
      "execution_count": null,
      "outputs": []
    },
    {
      "cell_type": "code",
      "source": [
        "# define param space for hyper parameter tuning\n",
        "param_space = {\n",
        "    'n_estimators': [100, 200, 300],\n",
        "    'criterion': ['gini', 'entropy'],\n",
        "    'max_features': ['auto', 'sqrt'],\n",
        "    'min_samples_split': [2, 5, 10]\n",
        "}"
      ],
      "metadata": {
        "id": "7HKS3JCH4qnn"
      },
      "execution_count": null,
      "outputs": []
    },
    {
      "cell_type": "code",
      "source": [
        "#define the RF model\n",
        "model = RandomForestClassifier()\n",
        "\n",
        "# uses bayesSearch to find optimal hyper parameters\n",
        "bayes_search = BayesSearchCV(model, param_space, n_iter=10, cv=2, random_state=42)"
      ],
      "metadata": {
        "id": "iWJup3sXg908"
      },
      "execution_count": null,
      "outputs": []
    },
    {
      "cell_type": "code",
      "source": [
        "# fit the data into the bayes search algorithm\n",
        "bayes_search.fit(x, y)"
      ],
      "metadata": {
        "colab": {
          "base_uri": "https://localhost:8080/",
          "height": 281
        },
        "id": "68mYYmvehFdS",
        "outputId": "edf93726-0c46-4ff0-d43f-2b43a87a71a7"
      },
      "execution_count": null,
      "outputs": [
        {
          "output_type": "stream",
          "name": "stderr",
          "text": [
            "/usr/local/lib/python3.10/dist-packages/sklearn/ensemble/_forest.py:424: FutureWarning: `max_features='auto'` has been deprecated in 1.1 and will be removed in 1.3. To keep the past behaviour, explicitly set `max_features='sqrt'` or remove this parameter as it is also the default value for RandomForestClassifiers and ExtraTreesClassifiers.\n",
            "  warn(\n",
            "/usr/local/lib/python3.10/dist-packages/sklearn/ensemble/_forest.py:424: FutureWarning: `max_features='auto'` has been deprecated in 1.1 and will be removed in 1.3. To keep the past behaviour, explicitly set `max_features='sqrt'` or remove this parameter as it is also the default value for RandomForestClassifiers and ExtraTreesClassifiers.\n",
            "  warn(\n",
            "/usr/local/lib/python3.10/dist-packages/sklearn/ensemble/_forest.py:424: FutureWarning: `max_features='auto'` has been deprecated in 1.1 and will be removed in 1.3. To keep the past behaviour, explicitly set `max_features='sqrt'` or remove this parameter as it is also the default value for RandomForestClassifiers and ExtraTreesClassifiers.\n",
            "  warn(\n",
            "/usr/local/lib/python3.10/dist-packages/sklearn/ensemble/_forest.py:424: FutureWarning: `max_features='auto'` has been deprecated in 1.1 and will be removed in 1.3. To keep the past behaviour, explicitly set `max_features='sqrt'` or remove this parameter as it is also the default value for RandomForestClassifiers and ExtraTreesClassifiers.\n",
            "  warn(\n"
          ]
        },
        {
          "output_type": "execute_result",
          "data": {
            "text/plain": [
              "BayesSearchCV(cv=2, estimator=RandomForestClassifier(), n_iter=10,\n",
              "              random_state=42,\n",
              "              search_spaces={'criterion': ['gini', 'entropy'],\n",
              "                             'max_features': ['auto', 'sqrt'],\n",
              "                             'min_samples_split': [2, 5, 10],\n",
              "                             'n_estimators': [100, 200, 300]})"
            ],
            "text/html": [
              "<style>#sk-container-id-1 {color: black;background-color: white;}#sk-container-id-1 pre{padding: 0;}#sk-container-id-1 div.sk-toggleable {background-color: white;}#sk-container-id-1 label.sk-toggleable__label {cursor: pointer;display: block;width: 100%;margin-bottom: 0;padding: 0.3em;box-sizing: border-box;text-align: center;}#sk-container-id-1 label.sk-toggleable__label-arrow:before {content: \"▸\";float: left;margin-right: 0.25em;color: #696969;}#sk-container-id-1 label.sk-toggleable__label-arrow:hover:before {color: black;}#sk-container-id-1 div.sk-estimator:hover label.sk-toggleable__label-arrow:before {color: black;}#sk-container-id-1 div.sk-toggleable__content {max-height: 0;max-width: 0;overflow: hidden;text-align: left;background-color: #f0f8ff;}#sk-container-id-1 div.sk-toggleable__content pre {margin: 0.2em;color: black;border-radius: 0.25em;background-color: #f0f8ff;}#sk-container-id-1 input.sk-toggleable__control:checked~div.sk-toggleable__content {max-height: 200px;max-width: 100%;overflow: auto;}#sk-container-id-1 input.sk-toggleable__control:checked~label.sk-toggleable__label-arrow:before {content: \"▾\";}#sk-container-id-1 div.sk-estimator input.sk-toggleable__control:checked~label.sk-toggleable__label {background-color: #d4ebff;}#sk-container-id-1 div.sk-label input.sk-toggleable__control:checked~label.sk-toggleable__label {background-color: #d4ebff;}#sk-container-id-1 input.sk-hidden--visually {border: 0;clip: rect(1px 1px 1px 1px);clip: rect(1px, 1px, 1px, 1px);height: 1px;margin: -1px;overflow: hidden;padding: 0;position: absolute;width: 1px;}#sk-container-id-1 div.sk-estimator {font-family: monospace;background-color: #f0f8ff;border: 1px dotted black;border-radius: 0.25em;box-sizing: border-box;margin-bottom: 0.5em;}#sk-container-id-1 div.sk-estimator:hover {background-color: #d4ebff;}#sk-container-id-1 div.sk-parallel-item::after {content: \"\";width: 100%;border-bottom: 1px solid gray;flex-grow: 1;}#sk-container-id-1 div.sk-label:hover label.sk-toggleable__label {background-color: #d4ebff;}#sk-container-id-1 div.sk-serial::before {content: \"\";position: absolute;border-left: 1px solid gray;box-sizing: border-box;top: 0;bottom: 0;left: 50%;z-index: 0;}#sk-container-id-1 div.sk-serial {display: flex;flex-direction: column;align-items: center;background-color: white;padding-right: 0.2em;padding-left: 0.2em;position: relative;}#sk-container-id-1 div.sk-item {position: relative;z-index: 1;}#sk-container-id-1 div.sk-parallel {display: flex;align-items: stretch;justify-content: center;background-color: white;position: relative;}#sk-container-id-1 div.sk-item::before, #sk-container-id-1 div.sk-parallel-item::before {content: \"\";position: absolute;border-left: 1px solid gray;box-sizing: border-box;top: 0;bottom: 0;left: 50%;z-index: -1;}#sk-container-id-1 div.sk-parallel-item {display: flex;flex-direction: column;z-index: 1;position: relative;background-color: white;}#sk-container-id-1 div.sk-parallel-item:first-child::after {align-self: flex-end;width: 50%;}#sk-container-id-1 div.sk-parallel-item:last-child::after {align-self: flex-start;width: 50%;}#sk-container-id-1 div.sk-parallel-item:only-child::after {width: 0;}#sk-container-id-1 div.sk-dashed-wrapped {border: 1px dashed gray;margin: 0 0.4em 0.5em 0.4em;box-sizing: border-box;padding-bottom: 0.4em;background-color: white;}#sk-container-id-1 div.sk-label label {font-family: monospace;font-weight: bold;display: inline-block;line-height: 1.2em;}#sk-container-id-1 div.sk-label-container {text-align: center;}#sk-container-id-1 div.sk-container {/* jupyter's `normalize.less` sets `[hidden] { display: none; }` but bootstrap.min.css set `[hidden] { display: none !important; }` so we also need the `!important` here to be able to override the default hidden behavior on the sphinx rendered scikit-learn.org. See: https://github.com/scikit-learn/scikit-learn/issues/21755 */display: inline-block !important;position: relative;}#sk-container-id-1 div.sk-text-repr-fallback {display: none;}</style><div id=\"sk-container-id-1\" class=\"sk-top-container\"><div class=\"sk-text-repr-fallback\"><pre>BayesSearchCV(cv=2, estimator=RandomForestClassifier(), n_iter=10,\n",
              "              random_state=42,\n",
              "              search_spaces={&#x27;criterion&#x27;: [&#x27;gini&#x27;, &#x27;entropy&#x27;],\n",
              "                             &#x27;max_features&#x27;: [&#x27;auto&#x27;, &#x27;sqrt&#x27;],\n",
              "                             &#x27;min_samples_split&#x27;: [2, 5, 10],\n",
              "                             &#x27;n_estimators&#x27;: [100, 200, 300]})</pre><b>In a Jupyter environment, please rerun this cell to show the HTML representation or trust the notebook. <br />On GitHub, the HTML representation is unable to render, please try loading this page with nbviewer.org.</b></div><div class=\"sk-container\" hidden><div class=\"sk-item sk-dashed-wrapped\"><div class=\"sk-label-container\"><div class=\"sk-label sk-toggleable\"><input class=\"sk-toggleable__control sk-hidden--visually\" id=\"sk-estimator-id-1\" type=\"checkbox\" ><label for=\"sk-estimator-id-1\" class=\"sk-toggleable__label sk-toggleable__label-arrow\">BayesSearchCV</label><div class=\"sk-toggleable__content\"><pre>BayesSearchCV(cv=2, estimator=RandomForestClassifier(), n_iter=10,\n",
              "              random_state=42,\n",
              "              search_spaces={&#x27;criterion&#x27;: [&#x27;gini&#x27;, &#x27;entropy&#x27;],\n",
              "                             &#x27;max_features&#x27;: [&#x27;auto&#x27;, &#x27;sqrt&#x27;],\n",
              "                             &#x27;min_samples_split&#x27;: [2, 5, 10],\n",
              "                             &#x27;n_estimators&#x27;: [100, 200, 300]})</pre></div></div></div><div class=\"sk-parallel\"><div class=\"sk-parallel-item\"><div class=\"sk-item\"><div class=\"sk-label-container\"><div class=\"sk-label sk-toggleable\"><input class=\"sk-toggleable__control sk-hidden--visually\" id=\"sk-estimator-id-2\" type=\"checkbox\" ><label for=\"sk-estimator-id-2\" class=\"sk-toggleable__label sk-toggleable__label-arrow\">estimator: RandomForestClassifier</label><div class=\"sk-toggleable__content\"><pre>RandomForestClassifier()</pre></div></div></div><div class=\"sk-serial\"><div class=\"sk-item\"><div class=\"sk-estimator sk-toggleable\"><input class=\"sk-toggleable__control sk-hidden--visually\" id=\"sk-estimator-id-3\" type=\"checkbox\" ><label for=\"sk-estimator-id-3\" class=\"sk-toggleable__label sk-toggleable__label-arrow\">RandomForestClassifier</label><div class=\"sk-toggleable__content\"><pre>RandomForestClassifier()</pre></div></div></div></div></div></div></div></div></div></div>"
            ]
          },
          "metadata": {},
          "execution_count": 17
        }
      ]
    },
    {
      "cell_type": "code",
      "source": [
        "best_params = bayes_search.best_params_\n",
        "best_score = bayes_search.best_score_"
      ],
      "metadata": {
        "id": "O84oZwDP9unw"
      },
      "execution_count": null,
      "outputs": []
    },
    {
      "cell_type": "code",
      "source": [
        "n_estimators = best_params['n_estimators']\n",
        "criterion = best_params['criterion']\n",
        "max_features = best_params['max_features']\n",
        "min_samples_split = best_params['min_samples_split']\n"
      ],
      "metadata": {
        "id": "0mapY1dZ9xoY"
      },
      "execution_count": null,
      "outputs": []
    },
    {
      "cell_type": "code",
      "source": [
        "print('n_estimators =', n_estimators, '\\n', 'criterion =', criterion,'\\n','max_features =',max_features , '\\n','min_samples_split =',min_samples_split)\n"
      ],
      "metadata": {
        "id": "IRvL-LMg9yku",
        "colab": {
          "base_uri": "https://localhost:8080/"
        },
        "outputId": "1ebd612a-0feb-4665-c27d-d2b9a4ac6ff2"
      },
      "execution_count": null,
      "outputs": [
        {
          "output_type": "stream",
          "name": "stdout",
          "text": [
            "n_estimators = 200 \n",
            " criterion = entropy \n",
            " max_features = sqrt \n",
            " min_samples_split = 5\n"
          ]
        }
      ]
    },
    {
      "cell_type": "code",
      "source": [
        "# use optimal hyperparameters to train the model\n",
        "best_rf_model = RandomForestClassifier(n_estimators=best_params['n_estimators'],\n",
        "                                       criterion=best_params['criterion'],\n",
        "                                       max_features=best_params['max_features'],\n",
        "                                       min_samples_split=best_params['min_samples_split'])\n",
        "\n",
        "# Train the model using the training data\n",
        "best_rf_model.fit(x_train, y_train)"
      ],
      "metadata": {
        "id": "afhTmF-6AG3o",
        "colab": {
          "base_uri": "https://localhost:8080/",
          "height": 92
        },
        "outputId": "7684849f-50f0-420c-8601-b32681c97dc4"
      },
      "execution_count": null,
      "outputs": [
        {
          "output_type": "execute_result",
          "data": {
            "text/plain": [
              "RandomForestClassifier(criterion='entropy', min_samples_split=5,\n",
              "                       n_estimators=200)"
            ],
            "text/html": [
              "<style>#sk-container-id-2 {color: black;background-color: white;}#sk-container-id-2 pre{padding: 0;}#sk-container-id-2 div.sk-toggleable {background-color: white;}#sk-container-id-2 label.sk-toggleable__label {cursor: pointer;display: block;width: 100%;margin-bottom: 0;padding: 0.3em;box-sizing: border-box;text-align: center;}#sk-container-id-2 label.sk-toggleable__label-arrow:before {content: \"▸\";float: left;margin-right: 0.25em;color: #696969;}#sk-container-id-2 label.sk-toggleable__label-arrow:hover:before {color: black;}#sk-container-id-2 div.sk-estimator:hover label.sk-toggleable__label-arrow:before {color: black;}#sk-container-id-2 div.sk-toggleable__content {max-height: 0;max-width: 0;overflow: hidden;text-align: left;background-color: #f0f8ff;}#sk-container-id-2 div.sk-toggleable__content pre {margin: 0.2em;color: black;border-radius: 0.25em;background-color: #f0f8ff;}#sk-container-id-2 input.sk-toggleable__control:checked~div.sk-toggleable__content {max-height: 200px;max-width: 100%;overflow: auto;}#sk-container-id-2 input.sk-toggleable__control:checked~label.sk-toggleable__label-arrow:before {content: \"▾\";}#sk-container-id-2 div.sk-estimator input.sk-toggleable__control:checked~label.sk-toggleable__label {background-color: #d4ebff;}#sk-container-id-2 div.sk-label input.sk-toggleable__control:checked~label.sk-toggleable__label {background-color: #d4ebff;}#sk-container-id-2 input.sk-hidden--visually {border: 0;clip: rect(1px 1px 1px 1px);clip: rect(1px, 1px, 1px, 1px);height: 1px;margin: -1px;overflow: hidden;padding: 0;position: absolute;width: 1px;}#sk-container-id-2 div.sk-estimator {font-family: monospace;background-color: #f0f8ff;border: 1px dotted black;border-radius: 0.25em;box-sizing: border-box;margin-bottom: 0.5em;}#sk-container-id-2 div.sk-estimator:hover {background-color: #d4ebff;}#sk-container-id-2 div.sk-parallel-item::after {content: \"\";width: 100%;border-bottom: 1px solid gray;flex-grow: 1;}#sk-container-id-2 div.sk-label:hover label.sk-toggleable__label {background-color: #d4ebff;}#sk-container-id-2 div.sk-serial::before {content: \"\";position: absolute;border-left: 1px solid gray;box-sizing: border-box;top: 0;bottom: 0;left: 50%;z-index: 0;}#sk-container-id-2 div.sk-serial {display: flex;flex-direction: column;align-items: center;background-color: white;padding-right: 0.2em;padding-left: 0.2em;position: relative;}#sk-container-id-2 div.sk-item {position: relative;z-index: 1;}#sk-container-id-2 div.sk-parallel {display: flex;align-items: stretch;justify-content: center;background-color: white;position: relative;}#sk-container-id-2 div.sk-item::before, #sk-container-id-2 div.sk-parallel-item::before {content: \"\";position: absolute;border-left: 1px solid gray;box-sizing: border-box;top: 0;bottom: 0;left: 50%;z-index: -1;}#sk-container-id-2 div.sk-parallel-item {display: flex;flex-direction: column;z-index: 1;position: relative;background-color: white;}#sk-container-id-2 div.sk-parallel-item:first-child::after {align-self: flex-end;width: 50%;}#sk-container-id-2 div.sk-parallel-item:last-child::after {align-self: flex-start;width: 50%;}#sk-container-id-2 div.sk-parallel-item:only-child::after {width: 0;}#sk-container-id-2 div.sk-dashed-wrapped {border: 1px dashed gray;margin: 0 0.4em 0.5em 0.4em;box-sizing: border-box;padding-bottom: 0.4em;background-color: white;}#sk-container-id-2 div.sk-label label {font-family: monospace;font-weight: bold;display: inline-block;line-height: 1.2em;}#sk-container-id-2 div.sk-label-container {text-align: center;}#sk-container-id-2 div.sk-container {/* jupyter's `normalize.less` sets `[hidden] { display: none; }` but bootstrap.min.css set `[hidden] { display: none !important; }` so we also need the `!important` here to be able to override the default hidden behavior on the sphinx rendered scikit-learn.org. See: https://github.com/scikit-learn/scikit-learn/issues/21755 */display: inline-block !important;position: relative;}#sk-container-id-2 div.sk-text-repr-fallback {display: none;}</style><div id=\"sk-container-id-2\" class=\"sk-top-container\"><div class=\"sk-text-repr-fallback\"><pre>RandomForestClassifier(criterion=&#x27;entropy&#x27;, min_samples_split=5,\n",
              "                       n_estimators=200)</pre><b>In a Jupyter environment, please rerun this cell to show the HTML representation or trust the notebook. <br />On GitHub, the HTML representation is unable to render, please try loading this page with nbviewer.org.</b></div><div class=\"sk-container\" hidden><div class=\"sk-item\"><div class=\"sk-estimator sk-toggleable\"><input class=\"sk-toggleable__control sk-hidden--visually\" id=\"sk-estimator-id-4\" type=\"checkbox\" checked><label for=\"sk-estimator-id-4\" class=\"sk-toggleable__label sk-toggleable__label-arrow\">RandomForestClassifier</label><div class=\"sk-toggleable__content\"><pre>RandomForestClassifier(criterion=&#x27;entropy&#x27;, min_samples_split=5,\n",
              "                       n_estimators=200)</pre></div></div></div></div></div>"
            ]
          },
          "metadata": {},
          "execution_count": 22
        }
      ]
    },
    {
      "cell_type": "code",
      "source": [
        "# Make predictions on the test data\n",
        "predictions = best_rf_model.predict(x_test)\n",
        "\n",
        "# Evaluate the predictions\n",
        "accuracy = accuracy_score(y_test, predictions)\n",
        "precision = precision_score(y_test, predictions)\n",
        "recall = recall_score(y_test, predictions)\n",
        "f1 = f1_score(y_test, predictions)\n",
        "\n",
        "# Print the evaluation metrics\n",
        "print(\"Accuracy:\", accuracy*100)\n",
        "print(\"Precision:\", precision*100)\n",
        "print(\"Recall:\", recall*100)\n",
        "print(\"F1-score:\", f1*100)"
      ],
      "metadata": {
        "id": "Nk-h9k6-ASRp",
        "colab": {
          "base_uri": "https://localhost:8080/"
        },
        "outputId": "d371301f-27c9-49f2-ddbd-03aca3331354"
      },
      "execution_count": null,
      "outputs": [
        {
          "output_type": "stream",
          "name": "stdout",
          "text": [
            "Accuracy: 0.9943278125906484\n",
            "Precision: 0.9844790382244143\n",
            "Recall: 0.99044798337701\n",
            "F1-score: 0.9874544906430442\n"
          ]
        }
      ]
    },
    {
      "cell_type": "markdown",
      "source": [
        "SVM"
      ],
      "metadata": {
        "id": "AY9ZMUxBbKQG"
      }
    },
    {
      "cell_type": "code",
      "source": [
        "# Creates an instance of the MinMaxScaler for Normalization\n",
        "scaler = MinMaxScaler()\n",
        "\n",
        "x_train_scaled = pd.DataFrame(scaler.fit_transform(x_train.values), columns=x_train.columns)\n",
        "x_test_scaled = pd.DataFrame(scaler.fit_transform(x_test.values), columns=x_test.columns)"
      ],
      "metadata": {
        "id": "FxEFIONJulZI"
      },
      "execution_count": null,
      "outputs": []
    },
    {
      "cell_type": "markdown",
      "source": [
        "Non-Linear"
      ],
      "metadata": {
        "id": "rdLCYe951_4x"
      }
    },
    {
      "cell_type": "code",
      "source": [
        "#Define svm model with radial base kernel function\n",
        "svm_model = SVC(kernel='rbf')\n",
        "svm_model.fit(x_train_scaled, y_train)"
      ],
      "metadata": {
        "colab": {
          "base_uri": "https://localhost:8080/",
          "height": 75
        },
        "id": "Je-lK0F-AnLV",
        "outputId": "2d0df0ca-b8e2-4d2c-aa83-e350f5c2ef3e"
      },
      "execution_count": null,
      "outputs": [
        {
          "output_type": "execute_result",
          "data": {
            "text/plain": [
              "SVC()"
            ],
            "text/html": [
              "<style>#sk-container-id-1 {color: black;background-color: white;}#sk-container-id-1 pre{padding: 0;}#sk-container-id-1 div.sk-toggleable {background-color: white;}#sk-container-id-1 label.sk-toggleable__label {cursor: pointer;display: block;width: 100%;margin-bottom: 0;padding: 0.3em;box-sizing: border-box;text-align: center;}#sk-container-id-1 label.sk-toggleable__label-arrow:before {content: \"▸\";float: left;margin-right: 0.25em;color: #696969;}#sk-container-id-1 label.sk-toggleable__label-arrow:hover:before {color: black;}#sk-container-id-1 div.sk-estimator:hover label.sk-toggleable__label-arrow:before {color: black;}#sk-container-id-1 div.sk-toggleable__content {max-height: 0;max-width: 0;overflow: hidden;text-align: left;background-color: #f0f8ff;}#sk-container-id-1 div.sk-toggleable__content pre {margin: 0.2em;color: black;border-radius: 0.25em;background-color: #f0f8ff;}#sk-container-id-1 input.sk-toggleable__control:checked~div.sk-toggleable__content {max-height: 200px;max-width: 100%;overflow: auto;}#sk-container-id-1 input.sk-toggleable__control:checked~label.sk-toggleable__label-arrow:before {content: \"▾\";}#sk-container-id-1 div.sk-estimator input.sk-toggleable__control:checked~label.sk-toggleable__label {background-color: #d4ebff;}#sk-container-id-1 div.sk-label input.sk-toggleable__control:checked~label.sk-toggleable__label {background-color: #d4ebff;}#sk-container-id-1 input.sk-hidden--visually {border: 0;clip: rect(1px 1px 1px 1px);clip: rect(1px, 1px, 1px, 1px);height: 1px;margin: -1px;overflow: hidden;padding: 0;position: absolute;width: 1px;}#sk-container-id-1 div.sk-estimator {font-family: monospace;background-color: #f0f8ff;border: 1px dotted black;border-radius: 0.25em;box-sizing: border-box;margin-bottom: 0.5em;}#sk-container-id-1 div.sk-estimator:hover {background-color: #d4ebff;}#sk-container-id-1 div.sk-parallel-item::after {content: \"\";width: 100%;border-bottom: 1px solid gray;flex-grow: 1;}#sk-container-id-1 div.sk-label:hover label.sk-toggleable__label {background-color: #d4ebff;}#sk-container-id-1 div.sk-serial::before {content: \"\";position: absolute;border-left: 1px solid gray;box-sizing: border-box;top: 0;bottom: 0;left: 50%;z-index: 0;}#sk-container-id-1 div.sk-serial {display: flex;flex-direction: column;align-items: center;background-color: white;padding-right: 0.2em;padding-left: 0.2em;position: relative;}#sk-container-id-1 div.sk-item {position: relative;z-index: 1;}#sk-container-id-1 div.sk-parallel {display: flex;align-items: stretch;justify-content: center;background-color: white;position: relative;}#sk-container-id-1 div.sk-item::before, #sk-container-id-1 div.sk-parallel-item::before {content: \"\";position: absolute;border-left: 1px solid gray;box-sizing: border-box;top: 0;bottom: 0;left: 50%;z-index: -1;}#sk-container-id-1 div.sk-parallel-item {display: flex;flex-direction: column;z-index: 1;position: relative;background-color: white;}#sk-container-id-1 div.sk-parallel-item:first-child::after {align-self: flex-end;width: 50%;}#sk-container-id-1 div.sk-parallel-item:last-child::after {align-self: flex-start;width: 50%;}#sk-container-id-1 div.sk-parallel-item:only-child::after {width: 0;}#sk-container-id-1 div.sk-dashed-wrapped {border: 1px dashed gray;margin: 0 0.4em 0.5em 0.4em;box-sizing: border-box;padding-bottom: 0.4em;background-color: white;}#sk-container-id-1 div.sk-label label {font-family: monospace;font-weight: bold;display: inline-block;line-height: 1.2em;}#sk-container-id-1 div.sk-label-container {text-align: center;}#sk-container-id-1 div.sk-container {/* jupyter's `normalize.less` sets `[hidden] { display: none; }` but bootstrap.min.css set `[hidden] { display: none !important; }` so we also need the `!important` here to be able to override the default hidden behavior on the sphinx rendered scikit-learn.org. See: https://github.com/scikit-learn/scikit-learn/issues/21755 */display: inline-block !important;position: relative;}#sk-container-id-1 div.sk-text-repr-fallback {display: none;}</style><div id=\"sk-container-id-1\" class=\"sk-top-container\"><div class=\"sk-text-repr-fallback\"><pre>SVC()</pre><b>In a Jupyter environment, please rerun this cell to show the HTML representation or trust the notebook. <br />On GitHub, the HTML representation is unable to render, please try loading this page with nbviewer.org.</b></div><div class=\"sk-container\" hidden><div class=\"sk-item\"><div class=\"sk-estimator sk-toggleable\"><input class=\"sk-toggleable__control sk-hidden--visually\" id=\"sk-estimator-id-1\" type=\"checkbox\" checked><label for=\"sk-estimator-id-1\" class=\"sk-toggleable__label sk-toggleable__label-arrow\">SVC</label><div class=\"sk-toggleable__content\"><pre>SVC()</pre></div></div></div></div></div>"
            ]
          },
          "metadata": {},
          "execution_count": 8
        }
      ]
    },
    {
      "cell_type": "code",
      "source": [
        "#Make predictions on the test data\n",
        "y_pred = svm_model.predict(x_test_scaled)\n",
        "\n",
        "#calculate the accuracy of the non linear svm model\n",
        "accuracy = accuracy_score(y_test, y_pred)\n",
        "print(accuracy)"
      ],
      "metadata": {
        "colab": {
          "base_uri": "https://localhost:8080/"
        },
        "id": "iII1AkKhA9yQ",
        "outputId": "3348f6a0-faa8-4bb1-9da8-53e06b001f79"
      },
      "execution_count": null,
      "outputs": [
        {
          "output_type": "stream",
          "name": "stdout",
          "text": [
            "0.9811870703484045\n"
          ]
        }
      ]
    },
    {
      "cell_type": "markdown",
      "source": [
        "Linear"
      ],
      "metadata": {
        "id": "cJ_RuhqA2DLf"
      }
    },
    {
      "cell_type": "code",
      "source": [
        "# Define the SVM model\n",
        "model = LinearSVC(dual=False)\n",
        "\n",
        "# Define the parameter grid\n",
        "param_space = {\n",
        "    'tol': (1e-15, 1e-5, 'log-uniform'),\n",
        "    'C': (0.1, 10.0, 'log-uniform')\n",
        "}"
      ],
      "metadata": {
        "id": "oN5BmswbbMrC"
      },
      "execution_count": null,
      "outputs": []
    },
    {
      "cell_type": "code",
      "source": [
        "# use bayes Search for hyper parameter tuning for the SVM model\n",
        "bayes_search = BayesSearchCV(model, param_space, n_iter=10, cv=10, random_state=42)"
      ],
      "metadata": {
        "id": "WyghM7KNbUZC"
      },
      "execution_count": null,
      "outputs": []
    },
    {
      "cell_type": "code",
      "source": [
        "bayes_search.fit(x, y)"
      ],
      "metadata": {
        "colab": {
          "base_uri": "https://localhost:8080/",
          "height": 118
        },
        "id": "nVfVXCpkbW1h",
        "outputId": "8390350d-9b46-4217-cf7e-8b5de87bc742"
      },
      "execution_count": null,
      "outputs": [
        {
          "output_type": "execute_result",
          "data": {
            "text/plain": [
              "BayesSearchCV(cv=10, estimator=LinearSVC(dual=False), n_iter=10,\n",
              "              random_state=42,\n",
              "              search_spaces={'C': (0.1, 10.0, 'log-uniform'),\n",
              "                             'tol': (1e-15, 1e-05, 'log-uniform')})"
            ],
            "text/html": [
              "<style>#sk-container-id-1 {color: black;background-color: white;}#sk-container-id-1 pre{padding: 0;}#sk-container-id-1 div.sk-toggleable {background-color: white;}#sk-container-id-1 label.sk-toggleable__label {cursor: pointer;display: block;width: 100%;margin-bottom: 0;padding: 0.3em;box-sizing: border-box;text-align: center;}#sk-container-id-1 label.sk-toggleable__label-arrow:before {content: \"▸\";float: left;margin-right: 0.25em;color: #696969;}#sk-container-id-1 label.sk-toggleable__label-arrow:hover:before {color: black;}#sk-container-id-1 div.sk-estimator:hover label.sk-toggleable__label-arrow:before {color: black;}#sk-container-id-1 div.sk-toggleable__content {max-height: 0;max-width: 0;overflow: hidden;text-align: left;background-color: #f0f8ff;}#sk-container-id-1 div.sk-toggleable__content pre {margin: 0.2em;color: black;border-radius: 0.25em;background-color: #f0f8ff;}#sk-container-id-1 input.sk-toggleable__control:checked~div.sk-toggleable__content {max-height: 200px;max-width: 100%;overflow: auto;}#sk-container-id-1 input.sk-toggleable__control:checked~label.sk-toggleable__label-arrow:before {content: \"▾\";}#sk-container-id-1 div.sk-estimator input.sk-toggleable__control:checked~label.sk-toggleable__label {background-color: #d4ebff;}#sk-container-id-1 div.sk-label input.sk-toggleable__control:checked~label.sk-toggleable__label {background-color: #d4ebff;}#sk-container-id-1 input.sk-hidden--visually {border: 0;clip: rect(1px 1px 1px 1px);clip: rect(1px, 1px, 1px, 1px);height: 1px;margin: -1px;overflow: hidden;padding: 0;position: absolute;width: 1px;}#sk-container-id-1 div.sk-estimator {font-family: monospace;background-color: #f0f8ff;border: 1px dotted black;border-radius: 0.25em;box-sizing: border-box;margin-bottom: 0.5em;}#sk-container-id-1 div.sk-estimator:hover {background-color: #d4ebff;}#sk-container-id-1 div.sk-parallel-item::after {content: \"\";width: 100%;border-bottom: 1px solid gray;flex-grow: 1;}#sk-container-id-1 div.sk-label:hover label.sk-toggleable__label {background-color: #d4ebff;}#sk-container-id-1 div.sk-serial::before {content: \"\";position: absolute;border-left: 1px solid gray;box-sizing: border-box;top: 0;bottom: 0;left: 50%;z-index: 0;}#sk-container-id-1 div.sk-serial {display: flex;flex-direction: column;align-items: center;background-color: white;padding-right: 0.2em;padding-left: 0.2em;position: relative;}#sk-container-id-1 div.sk-item {position: relative;z-index: 1;}#sk-container-id-1 div.sk-parallel {display: flex;align-items: stretch;justify-content: center;background-color: white;position: relative;}#sk-container-id-1 div.sk-item::before, #sk-container-id-1 div.sk-parallel-item::before {content: \"\";position: absolute;border-left: 1px solid gray;box-sizing: border-box;top: 0;bottom: 0;left: 50%;z-index: -1;}#sk-container-id-1 div.sk-parallel-item {display: flex;flex-direction: column;z-index: 1;position: relative;background-color: white;}#sk-container-id-1 div.sk-parallel-item:first-child::after {align-self: flex-end;width: 50%;}#sk-container-id-1 div.sk-parallel-item:last-child::after {align-self: flex-start;width: 50%;}#sk-container-id-1 div.sk-parallel-item:only-child::after {width: 0;}#sk-container-id-1 div.sk-dashed-wrapped {border: 1px dashed gray;margin: 0 0.4em 0.5em 0.4em;box-sizing: border-box;padding-bottom: 0.4em;background-color: white;}#sk-container-id-1 div.sk-label label {font-family: monospace;font-weight: bold;display: inline-block;line-height: 1.2em;}#sk-container-id-1 div.sk-label-container {text-align: center;}#sk-container-id-1 div.sk-container {/* jupyter's `normalize.less` sets `[hidden] { display: none; }` but bootstrap.min.css set `[hidden] { display: none !important; }` so we also need the `!important` here to be able to override the default hidden behavior on the sphinx rendered scikit-learn.org. See: https://github.com/scikit-learn/scikit-learn/issues/21755 */display: inline-block !important;position: relative;}#sk-container-id-1 div.sk-text-repr-fallback {display: none;}</style><div id=\"sk-container-id-1\" class=\"sk-top-container\"><div class=\"sk-text-repr-fallback\"><pre>BayesSearchCV(cv=10, estimator=LinearSVC(dual=False), n_iter=10,\n",
              "              random_state=42,\n",
              "              search_spaces={&#x27;C&#x27;: (0.1, 10.0, &#x27;log-uniform&#x27;),\n",
              "                             &#x27;tol&#x27;: (1e-15, 1e-05, &#x27;log-uniform&#x27;)})</pre><b>In a Jupyter environment, please rerun this cell to show the HTML representation or trust the notebook. <br />On GitHub, the HTML representation is unable to render, please try loading this page with nbviewer.org.</b></div><div class=\"sk-container\" hidden><div class=\"sk-item sk-dashed-wrapped\"><div class=\"sk-label-container\"><div class=\"sk-label sk-toggleable\"><input class=\"sk-toggleable__control sk-hidden--visually\" id=\"sk-estimator-id-1\" type=\"checkbox\" ><label for=\"sk-estimator-id-1\" class=\"sk-toggleable__label sk-toggleable__label-arrow\">BayesSearchCV</label><div class=\"sk-toggleable__content\"><pre>BayesSearchCV(cv=10, estimator=LinearSVC(dual=False), n_iter=10,\n",
              "              random_state=42,\n",
              "              search_spaces={&#x27;C&#x27;: (0.1, 10.0, &#x27;log-uniform&#x27;),\n",
              "                             &#x27;tol&#x27;: (1e-15, 1e-05, &#x27;log-uniform&#x27;)})</pre></div></div></div><div class=\"sk-parallel\"><div class=\"sk-parallel-item\"><div class=\"sk-item\"><div class=\"sk-label-container\"><div class=\"sk-label sk-toggleable\"><input class=\"sk-toggleable__control sk-hidden--visually\" id=\"sk-estimator-id-2\" type=\"checkbox\" ><label for=\"sk-estimator-id-2\" class=\"sk-toggleable__label sk-toggleable__label-arrow\">estimator: LinearSVC</label><div class=\"sk-toggleable__content\"><pre>LinearSVC(dual=False)</pre></div></div></div><div class=\"sk-serial\"><div class=\"sk-item\"><div class=\"sk-estimator sk-toggleable\"><input class=\"sk-toggleable__control sk-hidden--visually\" id=\"sk-estimator-id-3\" type=\"checkbox\" ><label for=\"sk-estimator-id-3\" class=\"sk-toggleable__label sk-toggleable__label-arrow\">LinearSVC</label><div class=\"sk-toggleable__content\"><pre>LinearSVC(dual=False)</pre></div></div></div></div></div></div></div></div></div></div>"
            ]
          },
          "metadata": {},
          "execution_count": 14
        }
      ]
    },
    {
      "cell_type": "code",
      "source": [
        "best_params = bayes_search.best_params_\n",
        "best_score = bayes_search.best_score_"
      ],
      "metadata": {
        "id": "3l50f3M7bjBg"
      },
      "execution_count": null,
      "outputs": []
    },
    {
      "cell_type": "code",
      "source": [
        "penalty = 'l1'\n",
        "loss = 'squared_hinge'\n",
        "tol = best_params['tol']\n",
        "C = best_params['C']"
      ],
      "metadata": {
        "id": "AGm1U2syblkQ"
      },
      "execution_count": null,
      "outputs": []
    },
    {
      "cell_type": "code",
      "source": [
        "print('penalty =', penalty, '\\n', 'loss =', loss,'\\n','tol =',tol , '\\n','C =',C)"
      ],
      "metadata": {
        "colab": {
          "base_uri": "https://localhost:8080/"
        },
        "id": "_ylY4_gDb4-B",
        "outputId": "4ebdf2e9-7e7f-4ec4-bad5-bf3ababab880"
      },
      "execution_count": null,
      "outputs": [
        {
          "output_type": "stream",
          "name": "stdout",
          "text": [
            "penalty = l1 \n",
            " loss = squared_hinge \n",
            " tol = 2.4004455788496022e-11 \n",
            " C = 3.9728931339630273\n"
          ]
        }
      ]
    },
    {
      "cell_type": "code",
      "source": [
        "# Create the LinearSVC model with the best hyperparameters\n",
        "best_svm_model = LinearSVC(penalty=penalty,tol=tol ,C=C,loss=loss ,dual=False)\n",
        "# Train the best model using the training data\n",
        "best_svm_model.fit(x_train_scaled, y_train)"
      ],
      "metadata": {
        "colab": {
          "base_uri": "https://localhost:8080/",
          "height": 148
        },
        "id": "K70hHVkCb8fq",
        "outputId": "bf618119-6224-44b0-a85b-a6a6142d09d2"
      },
      "execution_count": null,
      "outputs": [
        {
          "output_type": "stream",
          "name": "stderr",
          "text": [
            "/usr/local/lib/python3.10/dist-packages/sklearn/svm/_base.py:1244: ConvergenceWarning: Liblinear failed to converge, increase the number of iterations.\n",
            "  warnings.warn(\n"
          ]
        },
        {
          "output_type": "execute_result",
          "data": {
            "text/plain": [
              "LinearSVC(C=3.9728931339630273, dual=False, penalty='l1',\n",
              "          tol=2.4004455788496022e-11)"
            ],
            "text/html": [
              "<style>#sk-container-id-2 {color: black;background-color: white;}#sk-container-id-2 pre{padding: 0;}#sk-container-id-2 div.sk-toggleable {background-color: white;}#sk-container-id-2 label.sk-toggleable__label {cursor: pointer;display: block;width: 100%;margin-bottom: 0;padding: 0.3em;box-sizing: border-box;text-align: center;}#sk-container-id-2 label.sk-toggleable__label-arrow:before {content: \"▸\";float: left;margin-right: 0.25em;color: #696969;}#sk-container-id-2 label.sk-toggleable__label-arrow:hover:before {color: black;}#sk-container-id-2 div.sk-estimator:hover label.sk-toggleable__label-arrow:before {color: black;}#sk-container-id-2 div.sk-toggleable__content {max-height: 0;max-width: 0;overflow: hidden;text-align: left;background-color: #f0f8ff;}#sk-container-id-2 div.sk-toggleable__content pre {margin: 0.2em;color: black;border-radius: 0.25em;background-color: #f0f8ff;}#sk-container-id-2 input.sk-toggleable__control:checked~div.sk-toggleable__content {max-height: 200px;max-width: 100%;overflow: auto;}#sk-container-id-2 input.sk-toggleable__control:checked~label.sk-toggleable__label-arrow:before {content: \"▾\";}#sk-container-id-2 div.sk-estimator input.sk-toggleable__control:checked~label.sk-toggleable__label {background-color: #d4ebff;}#sk-container-id-2 div.sk-label input.sk-toggleable__control:checked~label.sk-toggleable__label {background-color: #d4ebff;}#sk-container-id-2 input.sk-hidden--visually {border: 0;clip: rect(1px 1px 1px 1px);clip: rect(1px, 1px, 1px, 1px);height: 1px;margin: -1px;overflow: hidden;padding: 0;position: absolute;width: 1px;}#sk-container-id-2 div.sk-estimator {font-family: monospace;background-color: #f0f8ff;border: 1px dotted black;border-radius: 0.25em;box-sizing: border-box;margin-bottom: 0.5em;}#sk-container-id-2 div.sk-estimator:hover {background-color: #d4ebff;}#sk-container-id-2 div.sk-parallel-item::after {content: \"\";width: 100%;border-bottom: 1px solid gray;flex-grow: 1;}#sk-container-id-2 div.sk-label:hover label.sk-toggleable__label {background-color: #d4ebff;}#sk-container-id-2 div.sk-serial::before {content: \"\";position: absolute;border-left: 1px solid gray;box-sizing: border-box;top: 0;bottom: 0;left: 50%;z-index: 0;}#sk-container-id-2 div.sk-serial {display: flex;flex-direction: column;align-items: center;background-color: white;padding-right: 0.2em;padding-left: 0.2em;position: relative;}#sk-container-id-2 div.sk-item {position: relative;z-index: 1;}#sk-container-id-2 div.sk-parallel {display: flex;align-items: stretch;justify-content: center;background-color: white;position: relative;}#sk-container-id-2 div.sk-item::before, #sk-container-id-2 div.sk-parallel-item::before {content: \"\";position: absolute;border-left: 1px solid gray;box-sizing: border-box;top: 0;bottom: 0;left: 50%;z-index: -1;}#sk-container-id-2 div.sk-parallel-item {display: flex;flex-direction: column;z-index: 1;position: relative;background-color: white;}#sk-container-id-2 div.sk-parallel-item:first-child::after {align-self: flex-end;width: 50%;}#sk-container-id-2 div.sk-parallel-item:last-child::after {align-self: flex-start;width: 50%;}#sk-container-id-2 div.sk-parallel-item:only-child::after {width: 0;}#sk-container-id-2 div.sk-dashed-wrapped {border: 1px dashed gray;margin: 0 0.4em 0.5em 0.4em;box-sizing: border-box;padding-bottom: 0.4em;background-color: white;}#sk-container-id-2 div.sk-label label {font-family: monospace;font-weight: bold;display: inline-block;line-height: 1.2em;}#sk-container-id-2 div.sk-label-container {text-align: center;}#sk-container-id-2 div.sk-container {/* jupyter's `normalize.less` sets `[hidden] { display: none; }` but bootstrap.min.css set `[hidden] { display: none !important; }` so we also need the `!important` here to be able to override the default hidden behavior on the sphinx rendered scikit-learn.org. See: https://github.com/scikit-learn/scikit-learn/issues/21755 */display: inline-block !important;position: relative;}#sk-container-id-2 div.sk-text-repr-fallback {display: none;}</style><div id=\"sk-container-id-2\" class=\"sk-top-container\"><div class=\"sk-text-repr-fallback\"><pre>LinearSVC(C=3.9728931339630273, dual=False, penalty=&#x27;l1&#x27;,\n",
              "          tol=2.4004455788496022e-11)</pre><b>In a Jupyter environment, please rerun this cell to show the HTML representation or trust the notebook. <br />On GitHub, the HTML representation is unable to render, please try loading this page with nbviewer.org.</b></div><div class=\"sk-container\" hidden><div class=\"sk-item\"><div class=\"sk-estimator sk-toggleable\"><input class=\"sk-toggleable__control sk-hidden--visually\" id=\"sk-estimator-id-2\" type=\"checkbox\" checked><label for=\"sk-estimator-id-2\" class=\"sk-toggleable__label sk-toggleable__label-arrow\">LinearSVC</label><div class=\"sk-toggleable__content\"><pre>LinearSVC(C=3.9728931339630273, dual=False, penalty=&#x27;l1&#x27;,\n",
              "          tol=2.4004455788496022e-11)</pre></div></div></div></div></div>"
            ]
          },
          "metadata": {},
          "execution_count": 46
        }
      ]
    },
    {
      "cell_type": "code",
      "source": [
        "# Make predictions on the test data\n",
        "predictions = best_svm_model.predict(x_test_scaled)\n",
        "\n",
        "# Evaluate the predictions\n",
        "accuracy = accuracy_score(y_test, predictions)\n",
        "precision = precision_score(y_test, predictions)\n",
        "recall = recall_score(y_test, predictions)\n",
        "f1 = f1_score(y_test, predictions)\n",
        "\n",
        "# Print the evaluation metrics\n",
        "print(\"Accuracy:\", accuracy)\n",
        "print(\"Precision:\", precision)\n",
        "print(\"Recall:\", recall)\n",
        "print(\"F1-score:\", f1)"
      ],
      "metadata": {
        "colab": {
          "base_uri": "https://localhost:8080/"
        },
        "id": "3e4Gfe5EcG7A",
        "outputId": "26e3095e-1ca9-4d5d-f1a1-d351533f12df"
      },
      "execution_count": null,
      "outputs": [
        {
          "output_type": "stream",
          "name": "stdout",
          "text": [
            "Accuracy: 0.9090667626593227\n",
            "Precision: 0.7322114107733539\n",
            "Recall: 0.940501480872707\n",
            "F1-score: 0.8233880656788145\n"
          ]
        }
      ]
    },
    {
      "cell_type": "markdown",
      "source": [
        "ANN"
      ],
      "metadata": {
        "id": "SuhpQ_ZCRVLZ"
      }
    },
    {
      "cell_type": "code",
      "source": [
        "x = df.iloc[:, 0:-2].values\n",
        "y = df.iloc[:, -1:].values.ravel()\n",
        "\n",
        "# split the data into testing and training sets\n",
        "x_train, x_test, y_train, y_test = train_test_split(x, y, test_size=0.2, random_state=42)"
      ],
      "metadata": {
        "id": "Phkm5KJnSXc2"
      },
      "execution_count": null,
      "outputs": []
    },
    {
      "cell_type": "code",
      "source": [
        "# Creates an instance of the MinMaxScaler\n",
        "scaler = MinMaxScaler()\n",
        "\n",
        "# Fits the scaler on the training data and transforms it\n",
        "x_train_scaled = scaler.fit_transform(x_train)\n",
        "\n",
        "# Fits the scaler on the testing data and transforms it\n",
        "x_test_scaled = scaler.transform(x_test)"
      ],
      "metadata": {
        "id": "eIBwHDmIiwEi"
      },
      "execution_count": null,
      "outputs": []
    },
    {
      "cell_type": "code",
      "source": [
        "# Convert the data to PyTorch tensors\n",
        "x_train_tensor = torch.tensor(x_train_scaled, dtype=torch.float32)\n",
        "y_train_tensor = torch.tensor(y_train, dtype=torch.long)\n",
        "x_test_tensor = torch.tensor(x_test_scaled , dtype=torch.float32)\n",
        "y_test_tensor = torch.tensor(y_test, dtype=torch.long)\n"
      ],
      "metadata": {
        "id": "0AoybEqMR2f6"
      },
      "execution_count": null,
      "outputs": []
    },
    {
      "cell_type": "code",
      "source": [
        "# Create a PyTorch DataLoader for training and test sets\n",
        "train_dataset = TensorDataset(x_train_tensor, y_train_tensor)\n",
        "test_dataset = TensorDataset(x_test_tensor, y_test_tensor)\n",
        "batch_size = 32\n",
        "train_loader = DataLoader(train_dataset, batch_size=batch_size, shuffle=True)\n",
        "test_loader = DataLoader(test_dataset, batch_size=batch_size)\n"
      ],
      "metadata": {
        "id": "3m0XnI2XR5RF"
      },
      "execution_count": null,
      "outputs": []
    },
    {
      "cell_type": "code",
      "source": [
        "# Define the ANN model\n",
        "class ANN(nn.Module):\n",
        "    def __init__(self, input_size, hidden_size, num_classes):\n",
        "        super(ANN, self).__init__()\n",
        "        self.fc1 = nn.Linear(input_size, hidden_size)\n",
        "        self.relu = nn.ReLU()\n",
        "        self.fc2 = nn.Linear(hidden_size, num_classes)\n",
        "\n",
        "    def forward(self, x):\n",
        "        x = self.fc1(x)\n",
        "        x = self.relu(x)\n",
        "        x = self.fc2(x)\n",
        "        return x\n"
      ],
      "metadata": {
        "id": "1FPKm0gxR9Ji"
      },
      "execution_count": null,
      "outputs": []
    },
    {
      "cell_type": "code",
      "source": [
        "# Set device\n",
        "device = torch.device('cuda' if torch.cuda.is_available() else 'cpu')\n",
        "\n",
        "# Define hyperparameters\n",
        "input_size = x_train.shape[1]\n",
        "hidden_size = 100\n",
        "num_classes = len(pd.unique(y_train))\n",
        "learning_rate = 0.001\n",
        "num_epochs = 5\n",
        "\n",
        "# Create the ANN model\n",
        "model = ANN(input_size, hidden_size, num_classes).to(device)\n",
        "\n",
        "# Define loss function and optimizer\n",
        "criterion = nn.CrossEntropyLoss()\n",
        "optimizer = optim.Adam(model.parameters(), lr=learning_rate)"
      ],
      "metadata": {
        "id": "oIqaWJ2WSB4Y"
      },
      "execution_count": null,
      "outputs": []
    },
    {
      "cell_type": "code",
      "source": [
        "# Training loop\n",
        "for epoch in range(num_epochs):\n",
        "    model.train()\n",
        "    for inputs, labels in train_loader:\n",
        "        inputs = inputs.to(device)\n",
        "        labels = labels.to(device)\n",
        "\n",
        "        # Forward pass\n",
        "        outputs = model(inputs)\n",
        "        loss = criterion(outputs, labels)\n",
        "\n",
        "        # Backward pass and optimization\n",
        "        optimizer.zero_grad()\n",
        "        loss.backward()\n",
        "        optimizer.step()\n",
        "\n",
        "    # Print the training loss after every epoch\n",
        "    print(f'Epoch [{epoch+1}/{num_epochs}], Loss: {loss.item():.4f}')"
      ],
      "metadata": {
        "colab": {
          "base_uri": "https://localhost:8080/"
        },
        "id": "68YBwl0hSExL",
        "outputId": "ccbeddb3-b2da-41b5-8944-bbe084996141"
      },
      "execution_count": null,
      "outputs": [
        {
          "output_type": "stream",
          "name": "stdout",
          "text": [
            "Epoch [1/5], Loss: 0.0137\n",
            "Epoch [2/5], Loss: 0.0001\n",
            "Epoch [3/5], Loss: 0.0021\n",
            "Epoch [4/5], Loss: 0.0019\n",
            "Epoch [5/5], Loss: 0.0196\n"
          ]
        }
      ]
    },
    {
      "cell_type": "code",
      "source": [
        "# Evaluation on training set\n",
        "model.eval()\n",
        "with torch.no_grad():\n",
        "    correct = 0\n",
        "    total = 0\n",
        "    for inputs, labels in train_loader:\n",
        "        inputs = inputs.to(device)\n",
        "        labels = labels.to(device)\n",
        "        outputs = model(inputs)\n",
        "        _, predicted = torch.max(outputs.data, 1)\n",
        "        total += labels.size(0)\n",
        "        correct += (predicted == labels).sum().item()\n",
        "\n",
        "    accuracy = 100 * correct / total\n",
        "    print(f'Training Accuracy: {accuracy:.2f}%')"
      ],
      "metadata": {
        "colab": {
          "base_uri": "https://localhost:8080/"
        },
        "id": "68UR75NqkqUq",
        "outputId": "2c31fc57-503e-49ce-c682-d75a36e27e9f"
      },
      "execution_count": null,
      "outputs": [
        {
          "output_type": "stream",
          "name": "stdout",
          "text": [
            "Training Accuracy: 98.84%\n"
          ]
        }
      ]
    },
    {
      "cell_type": "code",
      "source": [
        "# Evaluation on test set\n",
        "model.eval()\n",
        "with torch.no_grad():\n",
        "    correct = 0\n",
        "    total = 0\n",
        "    labels_cm = []\n",
        "    predicted_cm =[]\n",
        "    for inputs, labels in test_loader:\n",
        "        inputs = inputs.to(device)\n",
        "        labels = labels.to(device)\n",
        "        outputs = model(inputs)\n",
        "        _, predicted = torch.max(outputs.data, 1)\n",
        "        total += labels.size(0)\n",
        "        correct += (predicted == labels).sum().item()\n",
        "\n",
        "        labels_cm.extend(labels.tolist())\n",
        "        predicted_cm.extend(predicted.tolist())\n",
        "\n",
        "    accuracy = 100 * correct / total\n",
        "    print(f'Test Accuracy: {accuracy:.2f}%')"
      ],
      "metadata": {
        "colab": {
          "base_uri": "https://localhost:8080/"
        },
        "id": "H374KV15SIYR",
        "outputId": "603ae09f-6ac4-4fee-a9e6-a88572d0fa20"
      },
      "execution_count": null,
      "outputs": [
        {
          "output_type": "stream",
          "name": "stdout",
          "text": [
            "Test Accuracy: 98.85%\n"
          ]
        }
      ]
    },
    {
      "cell_type": "markdown",
      "source": [
        "CONFUSION MATRIX"
      ],
      "metadata": {
        "id": "mvoof4l1vUZN"
      }
    },
    {
      "cell_type": "code",
      "source": [
        "y_true = np.array(labels_cm)\n",
        "y_pred = np.array(predicted_cm)\n",
        "\n",
        "\n",
        "# Compute the confusion matrix\n",
        "cm = confusion_matrix(y_true, y_pred)\n",
        "\n",
        "# Plot the confusion matrix\n",
        "plt.imshow(cm, interpolation='nearest', cmap=plt.cm.Blues)\n",
        "plt.title('Confusion Matrix')\n",
        "plt.colorbar()\n",
        "classes = ['Class 0', 'Class 1']\n",
        "tick_marks = np.arange(len(classes))\n",
        "plt.xticks(tick_marks, classes, rotation=45)\n",
        "plt.yticks(tick_marks, classes)\n",
        "\n",
        "# Format the text inside the plot\n",
        "fmt = '.2f'\n",
        "thresh = cm.max() / 2.\n",
        "for i in range(cm.shape[0]):\n",
        "    for j in range(cm.shape[1]):\n",
        "        plt.text(j, i, format(cm[i, j], fmt),\n",
        "                 horizontalalignment=\"center\",\n",
        "                 color=\"white\" if cm[i, j] > thresh else \"black\")\n",
        "\n",
        "plt.xlabel('Predicted Label')\n",
        "plt.ylabel('True Label')\n",
        "plt.tight_layout()\n",
        "plt.show()\n"
      ],
      "metadata": {
        "colab": {
          "base_uri": "https://localhost:8080/",
          "height": 487
        },
        "id": "7aszJM8vqprc",
        "outputId": "5659c190-7955-4417-b9da-6b25bebe28cb"
      },
      "execution_count": null,
      "outputs": [
        {
          "output_type": "display_data",
          "data": {
            "text/plain": [
              "<Figure size 640x480 with 2 Axes>"
            ],
            "image/png": "[encoded data removed]"
          },
          "metadata": {}
        }
      ]
    }
  ]
}