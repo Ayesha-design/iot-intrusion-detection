{
  "nbformat": 4,
  "nbformat_minor": 0,
  "metadata": {
    "colab": {
      "provenance": [],
      "gpuType": "T4"
    },
    "kernelspec": {
      "name": "python3",
      "display_name": "Python 3"
    },
    "language_info": {
      "name": "python"
    },
    "accelerator": "GPU"
  },
  "cells": [
    {
      "cell_type": "code",
      "source": [
        "!pip install scikit-learn scikit-optimize"
      ],
      "metadata": {
        "colab": {
          "base_uri": "https://localhost:8080/"
        },
        "id": "P_jHb5-L5vjO",
        "outputId": "46b47a0d-2552-4e72-afc1-4bfb36a30cb9"
      },
      "execution_count": 1,
      "outputs": [
        {
          "output_type": "stream",
          "name": "stdout",
          "text": [
            "Looking in indexes: https://pypi.org/simple, https://us-python.pkg.dev/colab-wheels/public/simple/\n",
            "Requirement already satisfied: scikit-learn in /usr/local/lib/python3.10/dist-packages (1.2.2)\n",
            "Collecting scikit-optimize\n",
            "  Downloading scikit_optimize-0.9.0-py2.py3-none-any.whl (100 kB)\n",
            "\u001b[2K     \u001b[90m━━━━━━━━━━━━━━━━━━━━━━━━━━━━━━━━━━━━━━━\u001b[0m \u001b[32m100.3/100.3 kB\u001b[0m \u001b[31m3.4 MB/s\u001b[0m eta \u001b[36m0:00:00\u001b[0m\n",
            "\u001b[?25hRequirement already satisfied: numpy>=1.17.3 in /usr/local/lib/python3.10/dist-packages (from scikit-learn) (1.22.4)\n",
            "Requirement already satisfied: scipy>=1.3.2 in /usr/local/lib/python3.10/dist-packages (from scikit-learn) (1.10.1)\n",
            "Requirement already satisfied: joblib>=1.1.1 in /usr/local/lib/python3.10/dist-packages (from scikit-learn) (1.2.0)\n",
            "Requirement already satisfied: threadpoolctl>=2.0.0 in /usr/local/lib/python3.10/dist-packages (from scikit-learn) (3.1.0)\n",
            "Collecting pyaml>=16.9 (from scikit-optimize)\n",
            "  Downloading pyaml-23.5.9-py3-none-any.whl (17 kB)\n",
            "Requirement already satisfied: PyYAML in /usr/local/lib/python3.10/dist-packages (from pyaml>=16.9->scikit-optimize) (6.0)\n",
            "Installing collected packages: pyaml, scikit-optimize\n",
            "Successfully installed pyaml-23.5.9 scikit-optimize-0.9.0\n"
          ]
        }
      ]
    },
    {
      "cell_type": "code",
      "execution_count": 2,
      "metadata": {
        "id": "Cf9RywCf3CTj"
      },
      "outputs": [],
      "source": [
        "#imports\n",
        "import pandas as pd\n",
        "import imblearn\n",
        "import numpy as np\n",
        "from imblearn.under_sampling import RandomUnderSampler\n",
        "from sklearn.ensemble import RandomForestClassifier\n",
        "from sklearn.feature_selection import SelectFromModel\n",
        "from sklearn.model_selection import train_test_split\n",
        "from sklearn.preprocessing import MinMaxScaler\n",
        "from sklearn.model_selection import train_test_split\n",
        "from skopt import BayesSearchCV\n",
        "from sklearn.metrics import accuracy_score, precision_score, recall_score, f1_score\n",
        "import torch\n",
        "import torch.nn as nn\n",
        "import torch.optim as optim\n",
        "from torch.utils.data import DataLoader, TensorDataset\n",
        "from sklearn.preprocessing import MinMaxScaler\n",
        "from sklearn.preprocessing import LabelEncoder\n",
        "from sklearn.svm import LinearSVC\n",
        "from sklearn.preprocessing import OneHotEncoder\n",
        "from sklearn.svm import SVC"
      ]
    },
    {
      "cell_type": "code",
      "source": [
        "from google.colab import drive\n",
        "drive.mount('/content/drive')"
      ],
      "metadata": {
        "colab": {
          "base_uri": "https://localhost:8080/"
        },
        "id": "T8LOLk-O3WyY",
        "outputId": "53f428d8-1d05-4ac6-986d-7d0a4e3a59e6"
      },
      "execution_count": 3,
      "outputs": [
        {
          "output_type": "stream",
          "name": "stdout",
          "text": [
            "Mounted at /content/drive\n"
          ]
        }
      ]
    },
    {
      "cell_type": "markdown",
      "source": [
        "MEAN IMPUTATION"
      ],
      "metadata": {
        "id": "TAZahzoNULE6"
      }
    },
    {
      "cell_type": "code",
      "source": [
        "# reads the mean imputed pre processed data stored on the drive\n",
        "df = pd.read_csv('/content/drive/MyDrive/JOB-ML/Binary Classification/mean imputation/pre-processed_DF.csv')"
      ],
      "metadata": {
        "id": "iiJLnwiN3dbO"
      },
      "execution_count": 5,
      "outputs": []
    },
    {
      "cell_type": "code",
      "source": [
        "# drops the binary label column\n",
        "df = df.drop('Label', axis=1)"
      ],
      "metadata": {
        "id": "GIhCgXy13olc"
      },
      "execution_count": 6,
      "outputs": []
    },
    {
      "cell_type": "code",
      "source": [
        "df"
      ],
      "metadata": {
        "colab": {
          "base_uri": "https://localhost:8080/",
          "height": 505
        },
        "id": "f6oktjyk6Hb0",
        "outputId": "cf455b77-1af8-4de5-c844-bd7e1d742822"
      },
      "execution_count": 40,
      "outputs": [
        {
          "output_type": "execute_result",
          "data": {
            "text/plain": [
              "           sport   dsport       dur  dttl  sloss  dloss         Sload  \\\n",
              "0        47439.0     53.0  0.000004     0      0      0  2.640000e+08   \n",
              "1        35877.0     80.0  1.368633    29      2    370  1.149702e+05   \n",
              "2        37951.0  12319.0  0.002692    29      1      2  7.934621e+05   \n",
              "3        14284.0  40769.0  0.100885    29      1     12  1.371066e+05   \n",
              "4         9167.0     21.0  3.314790    29     11     15  6.945840e+03   \n",
              "...          ...      ...       ...   ...    ...    ...           ...   \n",
              "1430658  47439.0     53.0  0.000001     0      0      0  4.560000e+08   \n",
              "1430659  17293.0    110.0  0.942984   252      5      6  4.470914e+03   \n",
              "1430660  33654.0     80.0  2.579405   252    103      1  8.330169e+05   \n",
              "1430661  33654.0     80.0  2.579405   252    103      1  8.330169e+05   \n",
              "1430662  17293.0    110.0  0.942984   252      5      6  4.470914e+03   \n",
              "\n",
              "                Dload  Spkts  Dpkts  ...  is_ftp_login  ct_ftp_cmd  \\\n",
              "0        0.000000e+00      2      0  ...      0.040453    0.047728   \n",
              "1        6.350465e+06    370    746  ...      0.040453    0.047728   \n",
              "2        5.087667e+06      6      8  ...      0.040453    0.047728   \n",
              "3        2.607563e+06     32     35  ...      0.000000    0.000000   \n",
              "4        8.864514e+03     52     54  ...      1.000000    1.000000   \n",
              "...               ...    ...    ...  ...           ...         ...   \n",
              "1430658  0.000000e+00      2      0  ...      0.040453    0.047728   \n",
              "1430659  5.259898e+03     12     12  ...      0.040453    0.047728   \n",
              "1430660  3.898573e+03    208     30  ...      0.040453    0.047728   \n",
              "1430661  3.898573e+03    208     30  ...      0.040453    0.047728   \n",
              "1430662  5.259898e+03     12     12  ...      0.040453    0.047728   \n",
              "\n",
              "         ct_srv_src  ct_srv_dst  ct_dst_ltm  ct_src_ ltm  ct_src_dport_ltm  \\\n",
              "0                29          29          22           22                22   \n",
              "1                 1           3           4            1                 1   \n",
              "2                 3           3           5            7                 1   \n",
              "3                 8           2           1            4                 1   \n",
              "4                 1           1          15           12                 1   \n",
              "...             ...         ...         ...          ...               ...   \n",
              "1430658          15          15          15           15                15   \n",
              "1430659           2           1           2            4                 2   \n",
              "1430660           2           1           2            4                 2   \n",
              "1430661           1           1           2            4                 2   \n",
              "1430662           1           1           2            4                 2   \n",
              "\n",
              "         ct_dst_sport_ltm  ct_dst_src_ltm  attack_cat  \n",
              "0                      22              29      Normal  \n",
              "1                       1               3      Normal  \n",
              "2                       1               5      Normal  \n",
              "3                       1               1      Normal  \n",
              "4                       1               5      Normal  \n",
              "...                   ...             ...         ...  \n",
              "1430658                15              15     Generic  \n",
              "1430659                 2               2    Exploits  \n",
              "1430660                 2               2         DoS  \n",
              "1430661                 2               2         DoS  \n",
              "1430662                 2               2    Exploits  \n",
              "\n",
              "[1430663 rows x 39 columns]"
            ],
            "text/html": [
              "\n",
              "  <div id=\"df-c5564943-a87d-449e-8864-95278293259b\">\n",
              "    <div class=\"colab-df-container\">\n",
              "      <div>\n",
              "<style scoped>\n",
              "    .dataframe tbody tr th:only-of-type {\n",
              "        vertical-align: middle;\n",
              "    }\n",
              "\n",
              "    .dataframe tbody tr th {\n",
              "        vertical-align: top;\n",
              "    }\n",
              "\n",
              "    .dataframe thead th {\n",
              "        text-align: right;\n",
              "    }\n",
              "</style>\n",
              "<table border=\"1\" class=\"dataframe\">\n",
              "  <thead>\n",
              "    <tr style=\"text-align: right;\">\n",
              "      <th></th>\n",
              "      <th>sport</th>\n",
              "      <th>dsport</th>\n",
              "      <th>dur</th>\n",
              "      <th>dttl</th>\n",
              "      <th>sloss</th>\n",
              "      <th>dloss</th>\n",
              "      <th>Sload</th>\n",
              "      <th>Dload</th>\n",
              "      <th>Spkts</th>\n",
              "      <th>Dpkts</th>\n",
              "      <th>...</th>\n",
              "      <th>is_ftp_login</th>\n",
              "      <th>ct_ftp_cmd</th>\n",
              "      <th>ct_srv_src</th>\n",
              "      <th>ct_srv_dst</th>\n",
              "      <th>ct_dst_ltm</th>\n",
              "      <th>ct_src_ ltm</th>\n",
              "      <th>ct_src_dport_ltm</th>\n",
              "      <th>ct_dst_sport_ltm</th>\n",
              "      <th>ct_dst_src_ltm</th>\n",
              "      <th>attack_cat</th>\n",
              "    </tr>\n",
              "  </thead>\n",
              "  <tbody>\n",
              "    <tr>\n",
              "      <th>0</th>\n",
              "      <td>47439.0</td>\n",
              "      <td>53.0</td>\n",
              "      <td>0.000004</td>\n",
              "      <td>0</td>\n",
              "      <td>0</td>\n",
              "      <td>0</td>\n",
              "      <td>2.640000e+08</td>\n",
              "      <td>0.000000e+00</td>\n",
              "      <td>2</td>\n",
              "      <td>0</td>\n",
              "      <td>...</td>\n",
              "      <td>0.040453</td>\n",
              "      <td>0.047728</td>\n",
              "      <td>29</td>\n",
              "      <td>29</td>\n",
              "      <td>22</td>\n",
              "      <td>22</td>\n",
              "      <td>22</td>\n",
              "      <td>22</td>\n",
              "      <td>29</td>\n",
              "      <td>Normal</td>\n",
              "    </tr>\n",
              "    <tr>\n",
              "      <th>1</th>\n",
              "      <td>35877.0</td>\n",
              "      <td>80.0</td>\n",
              "      <td>1.368633</td>\n",
              "      <td>29</td>\n",
              "      <td>2</td>\n",
              "      <td>370</td>\n",
              "      <td>1.149702e+05</td>\n",
              "      <td>6.350465e+06</td>\n",
              "      <td>370</td>\n",
              "      <td>746</td>\n",
              "      <td>...</td>\n",
              "      <td>0.040453</td>\n",
              "      <td>0.047728</td>\n",
              "      <td>1</td>\n",
              "      <td>3</td>\n",
              "      <td>4</td>\n",
              "      <td>1</td>\n",
              "      <td>1</td>\n",
              "      <td>1</td>\n",
              "      <td>3</td>\n",
              "      <td>Normal</td>\n",
              "    </tr>\n",
              "    <tr>\n",
              "      <th>2</th>\n",
              "      <td>37951.0</td>\n",
              "      <td>12319.0</td>\n",
              "      <td>0.002692</td>\n",
              "      <td>29</td>\n",
              "      <td>1</td>\n",
              "      <td>2</td>\n",
              "      <td>7.934621e+05</td>\n",
              "      <td>5.087667e+06</td>\n",
              "      <td>6</td>\n",
              "      <td>8</td>\n",
              "      <td>...</td>\n",
              "      <td>0.040453</td>\n",
              "      <td>0.047728</td>\n",
              "      <td>3</td>\n",
              "      <td>3</td>\n",
              "      <td>5</td>\n",
              "      <td>7</td>\n",
              "      <td>1</td>\n",
              "      <td>1</td>\n",
              "      <td>5</td>\n",
              "      <td>Normal</td>\n",
              "    </tr>\n",
              "    <tr>\n",
              "      <th>3</th>\n",
              "      <td>14284.0</td>\n",
              "      <td>40769.0</td>\n",
              "      <td>0.100885</td>\n",
              "      <td>29</td>\n",
              "      <td>1</td>\n",
              "      <td>12</td>\n",
              "      <td>1.371066e+05</td>\n",
              "      <td>2.607563e+06</td>\n",
              "      <td>32</td>\n",
              "      <td>35</td>\n",
              "      <td>...</td>\n",
              "      <td>0.000000</td>\n",
              "      <td>0.000000</td>\n",
              "      <td>8</td>\n",
              "      <td>2</td>\n",
              "      <td>1</td>\n",
              "      <td>4</td>\n",
              "      <td>1</td>\n",
              "      <td>1</td>\n",
              "      <td>1</td>\n",
              "      <td>Normal</td>\n",
              "    </tr>\n",
              "    <tr>\n",
              "      <th>4</th>\n",
              "      <td>9167.0</td>\n",
              "      <td>21.0</td>\n",
              "      <td>3.314790</td>\n",
              "      <td>29</td>\n",
              "      <td>11</td>\n",
              "      <td>15</td>\n",
              "      <td>6.945840e+03</td>\n",
              "      <td>8.864514e+03</td>\n",
              "      <td>52</td>\n",
              "      <td>54</td>\n",
              "      <td>...</td>\n",
              "      <td>1.000000</td>\n",
              "      <td>1.000000</td>\n",
              "      <td>1</td>\n",
              "      <td>1</td>\n",
              "      <td>15</td>\n",
              "      <td>12</td>\n",
              "      <td>1</td>\n",
              "      <td>1</td>\n",
              "      <td>5</td>\n",
              "      <td>Normal</td>\n",
              "    </tr>\n",
              "    <tr>\n",
              "      <th>...</th>\n",
              "      <td>...</td>\n",
              "      <td>...</td>\n",
              "      <td>...</td>\n",
              "      <td>...</td>\n",
              "      <td>...</td>\n",
              "      <td>...</td>\n",
              "      <td>...</td>\n",
              "      <td>...</td>\n",
              "      <td>...</td>\n",
              "      <td>...</td>\n",
              "      <td>...</td>\n",
              "      <td>...</td>\n",
              "      <td>...</td>\n",
              "      <td>...</td>\n",
              "      <td>...</td>\n",
              "      <td>...</td>\n",
              "      <td>...</td>\n",
              "      <td>...</td>\n",
              "      <td>...</td>\n",
              "      <td>...</td>\n",
              "      <td>...</td>\n",
              "    </tr>\n",
              "    <tr>\n",
              "      <th>1430658</th>\n",
              "      <td>47439.0</td>\n",
              "      <td>53.0</td>\n",
              "      <td>0.000001</td>\n",
              "      <td>0</td>\n",
              "      <td>0</td>\n",
              "      <td>0</td>\n",
              "      <td>4.560000e+08</td>\n",
              "      <td>0.000000e+00</td>\n",
              "      <td>2</td>\n",
              "      <td>0</td>\n",
              "      <td>...</td>\n",
              "      <td>0.040453</td>\n",
              "      <td>0.047728</td>\n",
              "      <td>15</td>\n",
              "      <td>15</td>\n",
              "      <td>15</td>\n",
              "      <td>15</td>\n",
              "      <td>15</td>\n",
              "      <td>15</td>\n",
              "      <td>15</td>\n",
              "      <td>Generic</td>\n",
              "    </tr>\n",
              "    <tr>\n",
              "      <th>1430659</th>\n",
              "      <td>17293.0</td>\n",
              "      <td>110.0</td>\n",
              "      <td>0.942984</td>\n",
              "      <td>252</td>\n",
              "      <td>5</td>\n",
              "      <td>6</td>\n",
              "      <td>4.470914e+03</td>\n",
              "      <td>5.259898e+03</td>\n",
              "      <td>12</td>\n",
              "      <td>12</td>\n",
              "      <td>...</td>\n",
              "      <td>0.040453</td>\n",
              "      <td>0.047728</td>\n",
              "      <td>2</td>\n",
              "      <td>1</td>\n",
              "      <td>2</td>\n",
              "      <td>4</td>\n",
              "      <td>2</td>\n",
              "      <td>2</td>\n",
              "      <td>2</td>\n",
              "      <td>Exploits</td>\n",
              "    </tr>\n",
              "    <tr>\n",
              "      <th>1430660</th>\n",
              "      <td>33654.0</td>\n",
              "      <td>80.0</td>\n",
              "      <td>2.579405</td>\n",
              "      <td>252</td>\n",
              "      <td>103</td>\n",
              "      <td>1</td>\n",
              "      <td>8.330169e+05</td>\n",
              "      <td>3.898573e+03</td>\n",
              "      <td>208</td>\n",
              "      <td>30</td>\n",
              "      <td>...</td>\n",
              "      <td>0.040453</td>\n",
              "      <td>0.047728</td>\n",
              "      <td>2</td>\n",
              "      <td>1</td>\n",
              "      <td>2</td>\n",
              "      <td>4</td>\n",
              "      <td>2</td>\n",
              "      <td>2</td>\n",
              "      <td>2</td>\n",
              "      <td>DoS</td>\n",
              "    </tr>\n",
              "    <tr>\n",
              "      <th>1430661</th>\n",
              "      <td>33654.0</td>\n",
              "      <td>80.0</td>\n",
              "      <td>2.579405</td>\n",
              "      <td>252</td>\n",
              "      <td>103</td>\n",
              "      <td>1</td>\n",
              "      <td>8.330169e+05</td>\n",
              "      <td>3.898573e+03</td>\n",
              "      <td>208</td>\n",
              "      <td>30</td>\n",
              "      <td>...</td>\n",
              "      <td>0.040453</td>\n",
              "      <td>0.047728</td>\n",
              "      <td>1</td>\n",
              "      <td>1</td>\n",
              "      <td>2</td>\n",
              "      <td>4</td>\n",
              "      <td>2</td>\n",
              "      <td>2</td>\n",
              "      <td>2</td>\n",
              "      <td>DoS</td>\n",
              "    </tr>\n",
              "    <tr>\n",
              "      <th>1430662</th>\n",
              "      <td>17293.0</td>\n",
              "      <td>110.0</td>\n",
              "      <td>0.942984</td>\n",
              "      <td>252</td>\n",
              "      <td>5</td>\n",
              "      <td>6</td>\n",
              "      <td>4.470914e+03</td>\n",
              "      <td>5.259898e+03</td>\n",
              "      <td>12</td>\n",
              "      <td>12</td>\n",
              "      <td>...</td>\n",
              "      <td>0.040453</td>\n",
              "      <td>0.047728</td>\n",
              "      <td>1</td>\n",
              "      <td>1</td>\n",
              "      <td>2</td>\n",
              "      <td>4</td>\n",
              "      <td>2</td>\n",
              "      <td>2</td>\n",
              "      <td>2</td>\n",
              "      <td>Exploits</td>\n",
              "    </tr>\n",
              "  </tbody>\n",
              "</table>\n",
              "<p>1430663 rows × 39 columns</p>\n",
              "</div>\n",
              "      <button class=\"colab-df-convert\" onclick=\"convertToInteractive('df-c5564943-a87d-449e-8864-95278293259b')\"\n",
              "              title=\"Convert this dataframe to an interactive table.\"\n",
              "              style=\"display:none;\">\n",
              "        \n",
              "  <svg xmlns=\"http://www.w3.org/2000/svg\" height=\"24px\"viewBox=\"0 0 24 24\"\n",
              "       width=\"24px\">\n",
              "    <path d=\"M0 0h24v24H0V0z\" fill=\"none\"/>\n",
              "    <path d=\"M18.56 5.44l.94 2.06.94-2.06 2.06-.94-2.06-.94-.94-2.06-.94 2.06-2.06.94zm-11 1L8.5 8.5l.94-2.06 2.06-.94-2.06-.94L8.5 2.5l-.94 2.06-2.06.94zm10 10l.94 2.06.94-2.06 2.06-.94-2.06-.94-.94-2.06-.94 2.06-2.06.94z\"/><path d=\"M17.41 7.96l-1.37-1.37c-.4-.4-.92-.59-1.43-.59-.52 0-1.04.2-1.43.59L10.3 9.45l-7.72 7.72c-.78.78-.78 2.05 0 2.83L4 21.41c.39.39.9.59 1.41.59.51 0 1.02-.2 1.41-.59l7.78-7.78 2.81-2.81c.8-.78.8-2.07 0-2.86zM5.41 20L4 18.59l7.72-7.72 1.47 1.35L5.41 20z\"/>\n",
              "  </svg>\n",
              "      </button>\n",
              "      \n",
              "  <style>\n",
              "    .colab-df-container {\n",
              "      display:flex;\n",
              "      flex-wrap:wrap;\n",
              "      gap: 12px;\n",
              "    }\n",
              "\n",
              "    .colab-df-convert {\n",
              "      background-color: #E8F0FE;\n",
              "      border: none;\n",
              "      border-radius: 50%;\n",
              "      cursor: pointer;\n",
              "      display: none;\n",
              "      fill: #1967D2;\n",
              "      height: 32px;\n",
              "      padding: 0 0 0 0;\n",
              "      width: 32px;\n",
              "    }\n",
              "\n",
              "    .colab-df-convert:hover {\n",
              "      background-color: #E2EBFA;\n",
              "      box-shadow: 0px 1px 2px rgba(60, 64, 67, 0.3), 0px 1px 3px 1px rgba(60, 64, 67, 0.15);\n",
              "      fill: #174EA6;\n",
              "    }\n",
              "\n",
              "    [theme=dark] .colab-df-convert {\n",
              "      background-color: #3B4455;\n",
              "      fill: #D2E3FC;\n",
              "    }\n",
              "\n",
              "    [theme=dark] .colab-df-convert:hover {\n",
              "      background-color: #434B5C;\n",
              "      box-shadow: 0px 1px 3px 1px rgba(0, 0, 0, 0.15);\n",
              "      filter: drop-shadow(0px 1px 2px rgba(0, 0, 0, 0.3));\n",
              "      fill: #FFFFFF;\n",
              "    }\n",
              "  </style>\n",
              "\n",
              "      <script>\n",
              "        const buttonEl =\n",
              "          document.querySelector('#df-c5564943-a87d-449e-8864-95278293259b button.colab-df-convert');\n",
              "        buttonEl.style.display =\n",
              "          google.colab.kernel.accessAllowed ? 'block' : 'none';\n",
              "\n",
              "        async function convertToInteractive(key) {\n",
              "          const element = document.querySelector('#df-c5564943-a87d-449e-8864-95278293259b');\n",
              "          const dataTable =\n",
              "            await google.colab.kernel.invokeFunction('convertToInteractive',\n",
              "                                                     [key], {});\n",
              "          if (!dataTable) return;\n",
              "\n",
              "          const docLinkHtml = 'Like what you see? Visit the ' +\n",
              "            '<a target=\"_blank\" href=https://colab.research.google.com/notebooks/data_table.ipynb>data table notebook</a>'\n",
              "            + ' to learn more about interactive tables.';\n",
              "          element.innerHTML = '';\n",
              "          dataTable['output_type'] = 'display_data';\n",
              "          await google.colab.output.renderOutput(dataTable, element);\n",
              "          const docLink = document.createElement('div');\n",
              "          docLink.innerHTML = docLinkHtml;\n",
              "          element.appendChild(docLink);\n",
              "        }\n",
              "      </script>\n",
              "    </div>\n",
              "  </div>\n",
              "  "
            ]
          },
          "metadata": {},
          "execution_count": 40
        }
      ]
    },
    {
      "cell_type": "markdown",
      "source": [
        "RandomForest"
      ],
      "metadata": {
        "id": "xrXd6PJMBD8K"
      }
    },
    {
      "cell_type": "code",
      "source": [
        "x = df.iloc[:, 0:-1] # extracts all features\n",
        "y = df.iloc[:, -1:].values.ravel() # extracts only the last column of attack category\n",
        "\n",
        "#splits the data into training and testing sets\n",
        "x_train, x_test, y_train, y_test = train_test_split(x, y, test_size=0.2, random_state=42)"
      ],
      "metadata": {
        "id": "V161Sk2C43KU"
      },
      "execution_count": 4,
      "outputs": []
    },
    {
      "cell_type": "code",
      "source": [
        "# Define the RF model\n",
        "model = RandomForestClassifier()"
      ],
      "metadata": {
        "id": "ijaBymVJ6c8r"
      },
      "execution_count": 19,
      "outputs": []
    },
    {
      "cell_type": "code",
      "source": [
        "# fit the model using the hyper parameters found during the tuning phase\n",
        "best_rf_model = RandomForestClassifier(n_estimators=200,\n",
        "                                       criterion='entropy',\n",
        "                                       max_features='sqrt',\n",
        "                                       min_samples_split=5)\n",
        "\n",
        "# Train the best model using the training data\n",
        "best_rf_model.fit(x_train, y_train)"
      ],
      "metadata": {
        "colab": {
          "base_uri": "https://localhost:8080/",
          "height": 92
        },
        "id": "9TA2ZeYk6bWj",
        "outputId": "a464be7b-29aa-47df-dba1-f9e8b1b4e697"
      },
      "execution_count": 22,
      "outputs": [
        {
          "output_type": "execute_result",
          "data": {
            "text/plain": [
              "RandomForestClassifier(criterion='entropy', min_samples_split=5,\n",
              "                       n_estimators=200)"
            ],
            "text/html": [
              "<style>#sk-container-id-2 {color: black;background-color: white;}#sk-container-id-2 pre{padding: 0;}#sk-container-id-2 div.sk-toggleable {background-color: white;}#sk-container-id-2 label.sk-toggleable__label {cursor: pointer;display: block;width: 100%;margin-bottom: 0;padding: 0.3em;box-sizing: border-box;text-align: center;}#sk-container-id-2 label.sk-toggleable__label-arrow:before {content: \"▸\";float: left;margin-right: 0.25em;color: #696969;}#sk-container-id-2 label.sk-toggleable__label-arrow:hover:before {color: black;}#sk-container-id-2 div.sk-estimator:hover label.sk-toggleable__label-arrow:before {color: black;}#sk-container-id-2 div.sk-toggleable__content {max-height: 0;max-width: 0;overflow: hidden;text-align: left;background-color: #f0f8ff;}#sk-container-id-2 div.sk-toggleable__content pre {margin: 0.2em;color: black;border-radius: 0.25em;background-color: #f0f8ff;}#sk-container-id-2 input.sk-toggleable__control:checked~div.sk-toggleable__content {max-height: 200px;max-width: 100%;overflow: auto;}#sk-container-id-2 input.sk-toggleable__control:checked~label.sk-toggleable__label-arrow:before {content: \"▾\";}#sk-container-id-2 div.sk-estimator input.sk-toggleable__control:checked~label.sk-toggleable__label {background-color: #d4ebff;}#sk-container-id-2 div.sk-label input.sk-toggleable__control:checked~label.sk-toggleable__label {background-color: #d4ebff;}#sk-container-id-2 input.sk-hidden--visually {border: 0;clip: rect(1px 1px 1px 1px);clip: rect(1px, 1px, 1px, 1px);height: 1px;margin: -1px;overflow: hidden;padding: 0;position: absolute;width: 1px;}#sk-container-id-2 div.sk-estimator {font-family: monospace;background-color: #f0f8ff;border: 1px dotted black;border-radius: 0.25em;box-sizing: border-box;margin-bottom: 0.5em;}#sk-container-id-2 div.sk-estimator:hover {background-color: #d4ebff;}#sk-container-id-2 div.sk-parallel-item::after {content: \"\";width: 100%;border-bottom: 1px solid gray;flex-grow: 1;}#sk-container-id-2 div.sk-label:hover label.sk-toggleable__label {background-color: #d4ebff;}#sk-container-id-2 div.sk-serial::before {content: \"\";position: absolute;border-left: 1px solid gray;box-sizing: border-box;top: 0;bottom: 0;left: 50%;z-index: 0;}#sk-container-id-2 div.sk-serial {display: flex;flex-direction: column;align-items: center;background-color: white;padding-right: 0.2em;padding-left: 0.2em;position: relative;}#sk-container-id-2 div.sk-item {position: relative;z-index: 1;}#sk-container-id-2 div.sk-parallel {display: flex;align-items: stretch;justify-content: center;background-color: white;position: relative;}#sk-container-id-2 div.sk-item::before, #sk-container-id-2 div.sk-parallel-item::before {content: \"\";position: absolute;border-left: 1px solid gray;box-sizing: border-box;top: 0;bottom: 0;left: 50%;z-index: -1;}#sk-container-id-2 div.sk-parallel-item {display: flex;flex-direction: column;z-index: 1;position: relative;background-color: white;}#sk-container-id-2 div.sk-parallel-item:first-child::after {align-self: flex-end;width: 50%;}#sk-container-id-2 div.sk-parallel-item:last-child::after {align-self: flex-start;width: 50%;}#sk-container-id-2 div.sk-parallel-item:only-child::after {width: 0;}#sk-container-id-2 div.sk-dashed-wrapped {border: 1px dashed gray;margin: 0 0.4em 0.5em 0.4em;box-sizing: border-box;padding-bottom: 0.4em;background-color: white;}#sk-container-id-2 div.sk-label label {font-family: monospace;font-weight: bold;display: inline-block;line-height: 1.2em;}#sk-container-id-2 div.sk-label-container {text-align: center;}#sk-container-id-2 div.sk-container {/* jupyter's `normalize.less` sets `[hidden] { display: none; }` but bootstrap.min.css set `[hidden] { display: none !important; }` so we also need the `!important` here to be able to override the default hidden behavior on the sphinx rendered scikit-learn.org. See: https://github.com/scikit-learn/scikit-learn/issues/21755 */display: inline-block !important;position: relative;}#sk-container-id-2 div.sk-text-repr-fallback {display: none;}</style><div id=\"sk-container-id-2\" class=\"sk-top-container\"><div class=\"sk-text-repr-fallback\"><pre>RandomForestClassifier(criterion=&#x27;entropy&#x27;, min_samples_split=5,\n",
              "                       n_estimators=200)</pre><b>In a Jupyter environment, please rerun this cell to show the HTML representation or trust the notebook. <br />On GitHub, the HTML representation is unable to render, please try loading this page with nbviewer.org.</b></div><div class=\"sk-container\" hidden><div class=\"sk-item\"><div class=\"sk-estimator sk-toggleable\"><input class=\"sk-toggleable__control sk-hidden--visually\" id=\"sk-estimator-id-2\" type=\"checkbox\" checked><label for=\"sk-estimator-id-2\" class=\"sk-toggleable__label sk-toggleable__label-arrow\">RandomForestClassifier</label><div class=\"sk-toggleable__content\"><pre>RandomForestClassifier(criterion=&#x27;entropy&#x27;, min_samples_split=5,\n",
              "                       n_estimators=200)</pre></div></div></div></div></div>"
            ]
          },
          "metadata": {},
          "execution_count": 22
        }
      ]
    },
    {
      "cell_type": "code",
      "source": [
        "# Make predictions on the test data\n",
        "predictions = best_rf_model.predict(x_test)\n",
        "\n",
        "# Evaluate the predictions\n",
        "accuracy = accuracy_score(y_test, predictions)\n",
        "\n",
        "\n",
        "# Print the evaluation metrics\n",
        "print(\"Accuracy:\", accuracy*100)\n"
      ],
      "metadata": {
        "colab": {
          "base_uri": "https://localhost:8080/"
        },
        "id": "GOYddVpI61ZN",
        "outputId": "c27ffde2-49a5-4d8d-b85d-a578d1415f8f"
      },
      "execution_count": 23,
      "outputs": [
        {
          "output_type": "stream",
          "name": "stdout",
          "text": [
            "Accuracy: 97.05905994764672\n"
          ]
        }
      ]
    },
    {
      "cell_type": "markdown",
      "source": [
        "ANN MODEL"
      ],
      "metadata": {
        "id": "4xQll5MpBINo"
      }
    },
    {
      "cell_type": "code",
      "source": [
        "x1 = df.iloc[:, 0:-1]\n",
        "y1 = df.iloc[:, -1:]\n",
        "\n",
        "#splits the data into training and testing sets\n",
        "x_train, x_test, y_train, y_test = train_test_split(x1, y1, test_size=0.2, random_state=42)"
      ],
      "metadata": {
        "id": "I0XaFM1R_lMa"
      },
      "execution_count": 7,
      "outputs": []
    },
    {
      "cell_type": "code",
      "source": [
        "# Create an instance of the OneHotEncoder\n",
        "encoder = OneHotEncoder()\n",
        "\n",
        "# Fit and transform the training labels\n",
        "y_train_encoded = encoder.fit_transform(y_train.values.reshape(-1, 1)).toarray()\n",
        "\n",
        "# Fit and Transform the testing labels\n",
        "y_test_encoded = encoder.transform(y_test.values.reshape(-1, 1)).toarray()\n"
      ],
      "metadata": {
        "id": "JTlqEeOfO-hS"
      },
      "execution_count": 15,
      "outputs": []
    },
    {
      "cell_type": "code",
      "source": [
        "# Creates an instance of the MinMaxScaler\n",
        "scaler = MinMaxScaler()\n",
        "\n",
        "# Fits the scaler on the training data and transforms it\n",
        "x_train_scaled = scaler.fit_transform(x_train)\n",
        "\n",
        "# Fits the scaler on the testing data and transforms it\n",
        "x_test_scaled = scaler.transform(x_test)"
      ],
      "metadata": {
        "id": "0tHoHw7k-p7g"
      },
      "execution_count": 16,
      "outputs": []
    },
    {
      "cell_type": "code",
      "source": [
        "# Convert the data to PyTorch tensors\n",
        "x_train_tensor = torch.tensor(x_train_scaled, dtype=torch.float32)\n",
        "y_train_tensor = torch.tensor(y_train_encoded, dtype=torch.long)\n",
        "x_test_tensor = torch.tensor(x_test_scaled , dtype=torch.float32)\n",
        "y_test_tensor = torch.tensor(y_test_encoded, dtype=torch.long)"
      ],
      "metadata": {
        "id": "15Itfdv3-sko"
      },
      "execution_count": 17,
      "outputs": []
    },
    {
      "cell_type": "code",
      "source": [
        "class ANN(nn.Module):\n",
        "    def __init__(self, input_size, hidden_size, output_size):\n",
        "        super(ANN, self).__init__()\n",
        "        self.fc1 = nn.Linear(input_size, hidden_size)\n",
        "        self.relu = nn.ReLU()\n",
        "        self.fc2 = nn.Linear(hidden_size, output_size)\n",
        "\n",
        "    def forward(self, x):\n",
        "        x = self.fc1(x)\n",
        "        x = self.relu(x)\n",
        "        x = self.fc2(x)\n",
        "        return x"
      ],
      "metadata": {
        "id": "_H3g3m5QQfwQ"
      },
      "execution_count": 20,
      "outputs": []
    },
    {
      "cell_type": "code",
      "source": [
        "# Define the dimensions of input, hidden, and output layers\n",
        "input_size = x_train.shape[1]\n",
        "hidden_size = 64\n",
        "output_size = y_train_encoded.shape[1]\n",
        "\n",
        "# Initialize the ANN model\n",
        "model = ANN(input_size, hidden_size, output_size)\n",
        "\n",
        "# Define the loss function\n",
        "criterion = nn.CrossEntropyLoss()\n",
        "\n",
        "# Define the optimizer\n",
        "optimizer = optim.Adam(model.parameters(), lr=0.001)\n"
      ],
      "metadata": {
        "id": "xJenbHIXQaGr"
      },
      "execution_count": 37,
      "outputs": []
    },
    {
      "cell_type": "code",
      "source": [
        "# Set the number of training epochs\n",
        "num_epochs = 10\n",
        "\n",
        "# Set the batch size\n",
        "batch_size = 8\n",
        "\n",
        "# Set the number of batches\n",
        "num_batches = len(x_train_tensor) // batch_size\n",
        "\n",
        "# Training loop\n",
        "for epoch in range(num_epochs):\n",
        "    for batch in range(num_batches):\n",
        "        # Extract the current batch\n",
        "        start = batch * batch_size\n",
        "        end = (batch + 1) * batch_size\n",
        "        inputs = x_train_tensor[start:end]\n",
        "        labels = y_train_tensor[start:end]\n",
        "\n",
        "        # Zero the gradients\n",
        "        optimizer.zero_grad()\n",
        "\n",
        "        # Forward pass\n",
        "        outputs = model(inputs)\n",
        "\n",
        "        # Compute the loss\n",
        "        loss = criterion(outputs, torch.argmax(labels, dim=1))\n",
        "\n",
        "        # Backward pass\n",
        "        loss.backward()\n",
        "\n",
        "        # Update the weights\n",
        "        optimizer.step()\n",
        "\n",
        "    # Print the loss for each epoch\n",
        "    print(f'Epoch [{epoch+1}/{num_epochs}], Loss: {loss.item():.4f}')\n"
      ],
      "metadata": {
        "colab": {
          "base_uri": "https://localhost:8080/"
        },
        "id": "SYPVnCMkQneA",
        "outputId": "0e11724c-e9cb-4fb9-a538-dd045a7c3735"
      },
      "execution_count": 38,
      "outputs": [
        {
          "output_type": "stream",
          "name": "stdout",
          "text": [
            "Epoch [1/10], Loss: 0.0767\n",
            "Epoch [2/10], Loss: 0.0720\n",
            "Epoch [3/10], Loss: 0.0654\n",
            "Epoch [4/10], Loss: 0.0614\n",
            "Epoch [5/10], Loss: 0.0620\n",
            "Epoch [6/10], Loss: 0.0623\n",
            "Epoch [7/10], Loss: 0.0586\n",
            "Epoch [8/10], Loss: 0.0527\n",
            "Epoch [9/10], Loss: 0.0542\n",
            "Epoch [10/10], Loss: 0.0524\n"
          ]
        }
      ]
    },
    {
      "cell_type": "code",
      "source": [
        "# Set the model to evaluation mode\n",
        "model.eval()\n",
        "\n",
        "# Perform inference on the training set\n",
        "with torch.no_grad():\n",
        "    outputs = model(x_train_tensor)\n",
        "\n",
        "# Get the predicted labels\n",
        "_, predicted_labels = torch.max(outputs, 1)\n",
        "\n",
        "# Calculate accuracy\n",
        "correct = (predicted_labels == torch.argmax(y_train_tensor, dim=1)).sum().item()\n",
        "total = y_train_tensor.size(0)\n",
        "accuracy = correct / total\n",
        "print(\"Training Accuracy:\", accuracy)\n"
      ],
      "metadata": {
        "colab": {
          "base_uri": "https://localhost:8080/"
        },
        "id": "PtPLExy3eYaY",
        "outputId": "a2cfe6b1-83ec-4e6f-dd5a-6711c3eb0a45"
      },
      "execution_count": 42,
      "outputs": [
        {
          "output_type": "stream",
          "name": "stdout",
          "text": [
            "Training Accuracy: 0.962778607812814\n"
          ]
        }
      ]
    },
    {
      "cell_type": "code",
      "source": [
        "# Set the model to evaluation mode\n",
        "model.eval()\n",
        "\n",
        "# Perform inference on the test set\n",
        "with torch.no_grad():\n",
        "    outputs = model(x_test_tensor)\n",
        "\n",
        "# Get the predicted labels\n",
        "_, predicted_labels = torch.max(outputs, 1)\n",
        "\n",
        "# Calculate accuracy\n",
        "correct = (predicted_labels == torch.argmax(y_test_tensor, dim=1)).sum().item()\n",
        "total = y_test_tensor.size(0)\n",
        "accuracy = correct / total\n",
        "print(\"Accuracy:\", accuracy * 100)\n",
        "\n"
      ],
      "metadata": {
        "colab": {
          "base_uri": "https://localhost:8080/"
        },
        "id": "Cz36LLaESk8r",
        "outputId": "3bc9996c-52f1-4395-cce7-afab5f46f655"
      },
      "execution_count": 39,
      "outputs": [
        {
          "output_type": "stream",
          "name": "stdout",
          "text": [
            "Accuracy: 96.20421272624968\n"
          ]
        }
      ]
    },
    {
      "cell_type": "markdown",
      "source": [
        "SVM"
      ],
      "metadata": {
        "id": "LmRiBEIvkOif"
      }
    },
    {
      "cell_type": "code",
      "source": [
        "x2 = df.iloc[:, 0:-1]\n",
        "y2 = df.iloc[:, -1:].values.ravel()\n",
        "\n",
        "#splits the data into training and testing sets\n",
        "x_train, x_test, y_train, y_test = train_test_split(x2, y2, test_size=0.2, random_state=42)"
      ],
      "metadata": {
        "id": "V4u0Wf9-Bpl-"
      },
      "execution_count": 7,
      "outputs": []
    },
    {
      "cell_type": "code",
      "source": [
        "# Creates an instance of the MinMaxScaler\n",
        "scaler = MinMaxScaler()\n",
        "\n",
        "# Fits the scaler on the training data and transforms it\n",
        "x_train_scaled = scaler.fit_transform(x_train)\n",
        "\n",
        "# Fits the scaler on the testing data and transforms it\n",
        "x_test_scaled = scaler.transform(x_test)"
      ],
      "metadata": {
        "id": "l8t5sMz7Bwip"
      },
      "execution_count": 8,
      "outputs": []
    },
    {
      "cell_type": "markdown",
      "source": [
        "NON-LINEAR SVM"
      ],
      "metadata": {
        "id": "3Lod3WLX1QgV"
      }
    },
    {
      "cell_type": "code",
      "source": [
        "svm_model = SVC(kernel='rbf')\n",
        "svm_model.fit(x_train_scaled, y_train)"
      ],
      "metadata": {
        "colab": {
          "base_uri": "https://localhost:8080/",
          "height": 75
        },
        "id": "l8fSvJcYBco6",
        "outputId": "de6f1d9f-e2fa-4920-acd7-630071854e1c"
      },
      "execution_count": 9,
      "outputs": [
        {
          "output_type": "execute_result",
          "data": {
            "text/plain": [
              "SVC()"
            ],
            "text/html": [
              "<style>#sk-container-id-1 {color: black;background-color: white;}#sk-container-id-1 pre{padding: 0;}#sk-container-id-1 div.sk-toggleable {background-color: white;}#sk-container-id-1 label.sk-toggleable__label {cursor: pointer;display: block;width: 100%;margin-bottom: 0;padding: 0.3em;box-sizing: border-box;text-align: center;}#sk-container-id-1 label.sk-toggleable__label-arrow:before {content: \"▸\";float: left;margin-right: 0.25em;color: #696969;}#sk-container-id-1 label.sk-toggleable__label-arrow:hover:before {color: black;}#sk-container-id-1 div.sk-estimator:hover label.sk-toggleable__label-arrow:before {color: black;}#sk-container-id-1 div.sk-toggleable__content {max-height: 0;max-width: 0;overflow: hidden;text-align: left;background-color: #f0f8ff;}#sk-container-id-1 div.sk-toggleable__content pre {margin: 0.2em;color: black;border-radius: 0.25em;background-color: #f0f8ff;}#sk-container-id-1 input.sk-toggleable__control:checked~div.sk-toggleable__content {max-height: 200px;max-width: 100%;overflow: auto;}#sk-container-id-1 input.sk-toggleable__control:checked~label.sk-toggleable__label-arrow:before {content: \"▾\";}#sk-container-id-1 div.sk-estimator input.sk-toggleable__control:checked~label.sk-toggleable__label {background-color: #d4ebff;}#sk-container-id-1 div.sk-label input.sk-toggleable__control:checked~label.sk-toggleable__label {background-color: #d4ebff;}#sk-container-id-1 input.sk-hidden--visually {border: 0;clip: rect(1px 1px 1px 1px);clip: rect(1px, 1px, 1px, 1px);height: 1px;margin: -1px;overflow: hidden;padding: 0;position: absolute;width: 1px;}#sk-container-id-1 div.sk-estimator {font-family: monospace;background-color: #f0f8ff;border: 1px dotted black;border-radius: 0.25em;box-sizing: border-box;margin-bottom: 0.5em;}#sk-container-id-1 div.sk-estimator:hover {background-color: #d4ebff;}#sk-container-id-1 div.sk-parallel-item::after {content: \"\";width: 100%;border-bottom: 1px solid gray;flex-grow: 1;}#sk-container-id-1 div.sk-label:hover label.sk-toggleable__label {background-color: #d4ebff;}#sk-container-id-1 div.sk-serial::before {content: \"\";position: absolute;border-left: 1px solid gray;box-sizing: border-box;top: 0;bottom: 0;left: 50%;z-index: 0;}#sk-container-id-1 div.sk-serial {display: flex;flex-direction: column;align-items: center;background-color: white;padding-right: 0.2em;padding-left: 0.2em;position: relative;}#sk-container-id-1 div.sk-item {position: relative;z-index: 1;}#sk-container-id-1 div.sk-parallel {display: flex;align-items: stretch;justify-content: center;background-color: white;position: relative;}#sk-container-id-1 div.sk-item::before, #sk-container-id-1 div.sk-parallel-item::before {content: \"\";position: absolute;border-left: 1px solid gray;box-sizing: border-box;top: 0;bottom: 0;left: 50%;z-index: -1;}#sk-container-id-1 div.sk-parallel-item {display: flex;flex-direction: column;z-index: 1;position: relative;background-color: white;}#sk-container-id-1 div.sk-parallel-item:first-child::after {align-self: flex-end;width: 50%;}#sk-container-id-1 div.sk-parallel-item:last-child::after {align-self: flex-start;width: 50%;}#sk-container-id-1 div.sk-parallel-item:only-child::after {width: 0;}#sk-container-id-1 div.sk-dashed-wrapped {border: 1px dashed gray;margin: 0 0.4em 0.5em 0.4em;box-sizing: border-box;padding-bottom: 0.4em;background-color: white;}#sk-container-id-1 div.sk-label label {font-family: monospace;font-weight: bold;display: inline-block;line-height: 1.2em;}#sk-container-id-1 div.sk-label-container {text-align: center;}#sk-container-id-1 div.sk-container {/* jupyter's `normalize.less` sets `[hidden] { display: none; }` but bootstrap.min.css set `[hidden] { display: none !important; }` so we also need the `!important` here to be able to override the default hidden behavior on the sphinx rendered scikit-learn.org. See: https://github.com/scikit-learn/scikit-learn/issues/21755 */display: inline-block !important;position: relative;}#sk-container-id-1 div.sk-text-repr-fallback {display: none;}</style><div id=\"sk-container-id-1\" class=\"sk-top-container\"><div class=\"sk-text-repr-fallback\"><pre>SVC()</pre><b>In a Jupyter environment, please rerun this cell to show the HTML representation or trust the notebook. <br />On GitHub, the HTML representation is unable to render, please try loading this page with nbviewer.org.</b></div><div class=\"sk-container\" hidden><div class=\"sk-item\"><div class=\"sk-estimator sk-toggleable\"><input class=\"sk-toggleable__control sk-hidden--visually\" id=\"sk-estimator-id-1\" type=\"checkbox\" checked><label for=\"sk-estimator-id-1\" class=\"sk-toggleable__label sk-toggleable__label-arrow\">SVC</label><div class=\"sk-toggleable__content\"><pre>SVC()</pre></div></div></div></div></div>"
            ]
          },
          "metadata": {},
          "execution_count": 9
        }
      ]
    },
    {
      "cell_type": "code",
      "source": [
        "y_pred = svm_model.predict(x_test_scaled)\n",
        "accuracy = accuracy_score(y_test, y_pred)\n",
        "print(accuracy)"
      ],
      "metadata": {
        "colab": {
          "base_uri": "https://localhost:8080/"
        },
        "id": "sMub1a58BhhM",
        "outputId": "291eb637-f944-4b02-c8ec-b4afd4977d95"
      },
      "execution_count": 10,
      "outputs": [
        {
          "output_type": "stream",
          "name": "stdout",
          "text": [
            "0.9547937497597271\n"
          ]
        }
      ]
    },
    {
      "cell_type": "markdown",
      "source": [
        "LINEAR SVM"
      ],
      "metadata": {
        "id": "hKTgL3Pg1Twr"
      }
    },
    {
      "cell_type": "code",
      "source": [
        "# Define the SVM model\n",
        "model = LinearSVC(dual=False)"
      ],
      "metadata": {
        "id": "6sVdtITSkXlf"
      },
      "execution_count": 6,
      "outputs": []
    },
    {
      "cell_type": "code",
      "source": [
        "# Create the LinearSVC model with the best hyperparameters\n",
        "best_svm_model = LinearSVC(penalty='l1',tol=2.4004455788496022e-11  ,C=3.9728931339630273,loss='squared_hinge' ,dual=False)\n",
        "# Train the best model using the training data\n",
        "best_svm_model.fit(x_train, y_train)"
      ],
      "metadata": {
        "id": "I5FWwzNMkb6m"
      },
      "execution_count": null,
      "outputs": []
    },
    {
      "cell_type": "code",
      "source": [
        "# Make predictions on the test data\n",
        "predictions = best_svm_model.predict(x_test)\n",
        "\n",
        "# Evaluate the predictions\n",
        "accuracy = accuracy_score(y_test, predictions)\n",
        "\n",
        "\n",
        "# Print the evaluation metrics\n",
        "print(\"Accuracy:\", accuracy)\n"
      ],
      "metadata": {
        "colab": {
          "base_uri": "https://localhost:8080/"
        },
        "id": "s0wXu_ZQkxsG",
        "outputId": "dcbfeb6b-f881-47a7-9a23-b8610eede33e"
      },
      "execution_count": 9,
      "outputs": [
        {
          "output_type": "stream",
          "name": "stdout",
          "text": [
            "Accuracy: 0.9085215616513999\n"
          ]
        }
      ]
    },
    {
      "cell_type": "markdown",
      "source": [
        "REGRESSION IMPUTATION"
      ],
      "metadata": {
        "id": "JVKJRBTOUOx8"
      }
    },
    {
      "cell_type": "markdown",
      "source": [
        "RF"
      ],
      "metadata": {
        "id": "4VX2J8VVVeX2"
      }
    },
    {
      "cell_type": "code",
      "source": [
        "# reads the regression imputed pre processed file from the drive\n",
        "df_regression = pd.read_csv('/content/drive/MyDrive/JOB-ML/Binary Classification/regression imputation/pre-processed_regression_DF.csv')"
      ],
      "metadata": {
        "id": "06XuEYQYURaH"
      },
      "execution_count": 4,
      "outputs": []
    },
    {
      "cell_type": "code",
      "source": [
        "# drops the label column\n",
        "df_regression = df_regression.drop('Label', axis=1)"
      ],
      "metadata": {
        "id": "Il19xh1PU0R-"
      },
      "execution_count": 5,
      "outputs": []
    },
    {
      "cell_type": "code",
      "source": [
        "df_regression"
      ],
      "metadata": {
        "colab": {
          "base_uri": "https://localhost:8080/",
          "height": 505
        },
        "id": "V1vxyfDpL76p",
        "outputId": "9aa6513c-79e9-40ac-9c3e-8632322b82e0"
      },
      "execution_count": 5,
      "outputs": [
        {
          "output_type": "execute_result",
          "data": {
            "text/plain": [
              "           sport   dsport       dur   dttl  sloss  dloss         Sload  \\\n",
              "0        47439.0     53.0  0.000004    0.0    0.0    0.0  2.640000e+08   \n",
              "1        35877.0     80.0  1.368633   29.0    2.0  370.0  1.149702e+05   \n",
              "2        37951.0  12319.0  0.002692   29.0    1.0    2.0  7.934621e+05   \n",
              "3        14284.0  40769.0  0.100885   29.0    1.0   12.0  1.371066e+05   \n",
              "4         9167.0     21.0  3.314790   29.0   11.0   15.0  6.945840e+03   \n",
              "...          ...      ...       ...    ...    ...    ...           ...   \n",
              "1430658  47439.0     53.0  0.000001    0.0    0.0    0.0  4.560000e+08   \n",
              "1430659  17293.0    110.0  0.942984  252.0    5.0    6.0  4.470914e+03   \n",
              "1430660  33654.0     80.0  2.579405  252.0  103.0    1.0  8.330169e+05   \n",
              "1430661  33654.0     80.0  2.579405  252.0  103.0    1.0  8.330169e+05   \n",
              "1430662  17293.0    110.0  0.942984  252.0    5.0    6.0  4.470914e+03   \n",
              "\n",
              "                Dload  Spkts  Dpkts  ...  is_ftp_login  ct_ftp_cmd  \\\n",
              "0        0.000000e+00    2.0    0.0  ...      0.416769    0.671370   \n",
              "1        6.350465e+06  370.0  746.0  ...      0.538826    0.364746   \n",
              "2        5.087667e+06    6.0    8.0  ...      0.566385    0.436359   \n",
              "3        2.607563e+06   32.0   35.0  ...      0.000000    0.000000   \n",
              "4        8.864514e+03   52.0   54.0  ...      1.000000    1.000000   \n",
              "...               ...    ...    ...  ...           ...         ...   \n",
              "1430658  0.000000e+00    2.0    0.0  ...      0.490527    0.535811   \n",
              "1430659  5.259898e+03   12.0   12.0  ...      0.589015    0.429452   \n",
              "1430660  3.898573e+03  208.0   30.0  ...      0.467984    0.238979   \n",
              "1430661  3.898573e+03  208.0   30.0  ...      0.468905    0.241184   \n",
              "1430662  5.259898e+03   12.0   12.0  ...      0.589962    0.431643   \n",
              "\n",
              "         ct_srv_src  ct_srv_dst  ct_dst_ltm  ct_src_ ltm  ct_src_dport_ltm  \\\n",
              "0              29.0        29.0        22.0         22.0              22.0   \n",
              "1               1.0         3.0         4.0          1.0               1.0   \n",
              "2               3.0         3.0         5.0          7.0               1.0   \n",
              "3               8.0         2.0         1.0          4.0               1.0   \n",
              "4               1.0         1.0        15.0         12.0               1.0   \n",
              "...             ...         ...         ...          ...               ...   \n",
              "1430658        15.0        15.0        15.0         15.0              15.0   \n",
              "1430659         2.0         1.0         2.0          4.0               2.0   \n",
              "1430660         2.0         1.0         2.0          4.0               2.0   \n",
              "1430661         1.0         1.0         2.0          4.0               2.0   \n",
              "1430662         1.0         1.0         2.0          4.0               2.0   \n",
              "\n",
              "         ct_dst_sport_ltm  ct_dst_src_ltm  attack_cat  \n",
              "0                    22.0            29.0      Normal  \n",
              "1                     1.0             3.0      Normal  \n",
              "2                     1.0             5.0      Normal  \n",
              "3                     1.0             1.0      Normal  \n",
              "4                     1.0             5.0      Normal  \n",
              "...                   ...             ...         ...  \n",
              "1430658              15.0            15.0     Generic  \n",
              "1430659               2.0             2.0    Exploits  \n",
              "1430660               2.0             2.0         DoS  \n",
              "1430661               2.0             2.0         DoS  \n",
              "1430662               2.0             2.0    Exploits  \n",
              "\n",
              "[1430663 rows x 39 columns]"
            ],
            "text/html": [
              "\n",
              "  <div id=\"df-860d3881-d00a-4e9e-8fca-828c940e1a25\">\n",
              "    <div class=\"colab-df-container\">\n",
              "      <div>\n",
              "<style scoped>\n",
              "    .dataframe tbody tr th:only-of-type {\n",
              "        vertical-align: middle;\n",
              "    }\n",
              "\n",
              "    .dataframe tbody tr th {\n",
              "        vertical-align: top;\n",
              "    }\n",
              "\n",
              "    .dataframe thead th {\n",
              "        text-align: right;\n",
              "    }\n",
              "</style>\n",
              "<table border=\"1\" class=\"dataframe\">\n",
              "  <thead>\n",
              "    <tr style=\"text-align: right;\">\n",
              "      <th></th>\n",
              "      <th>sport</th>\n",
              "      <th>dsport</th>\n",
              "      <th>dur</th>\n",
              "      <th>dttl</th>\n",
              "      <th>sloss</th>\n",
              "      <th>dloss</th>\n",
              "      <th>Sload</th>\n",
              "      <th>Dload</th>\n",
              "      <th>Spkts</th>\n",
              "      <th>Dpkts</th>\n",
              "      <th>...</th>\n",
              "      <th>is_ftp_login</th>\n",
              "      <th>ct_ftp_cmd</th>\n",
              "      <th>ct_srv_src</th>\n",
              "      <th>ct_srv_dst</th>\n",
              "      <th>ct_dst_ltm</th>\n",
              "      <th>ct_src_ ltm</th>\n",
              "      <th>ct_src_dport_ltm</th>\n",
              "      <th>ct_dst_sport_ltm</th>\n",
              "      <th>ct_dst_src_ltm</th>\n",
              "      <th>attack_cat</th>\n",
              "    </tr>\n",
              "  </thead>\n",
              "  <tbody>\n",
              "    <tr>\n",
              "      <th>0</th>\n",
              "      <td>47439.0</td>\n",
              "      <td>53.0</td>\n",
              "      <td>0.000004</td>\n",
              "      <td>0.0</td>\n",
              "      <td>0.0</td>\n",
              "      <td>0.0</td>\n",
              "      <td>2.640000e+08</td>\n",
              "      <td>0.000000e+00</td>\n",
              "      <td>2.0</td>\n",
              "      <td>0.0</td>\n",
              "      <td>...</td>\n",
              "      <td>0.416769</td>\n",
              "      <td>0.671370</td>\n",
              "      <td>29.0</td>\n",
              "      <td>29.0</td>\n",
              "      <td>22.0</td>\n",
              "      <td>22.0</td>\n",
              "      <td>22.0</td>\n",
              "      <td>22.0</td>\n",
              "      <td>29.0</td>\n",
              "      <td>Normal</td>\n",
              "    </tr>\n",
              "    <tr>\n",
              "      <th>1</th>\n",
              "      <td>35877.0</td>\n",
              "      <td>80.0</td>\n",
              "      <td>1.368633</td>\n",
              "      <td>29.0</td>\n",
              "      <td>2.0</td>\n",
              "      <td>370.0</td>\n",
              "      <td>1.149702e+05</td>\n",
              "      <td>6.350465e+06</td>\n",
              "      <td>370.0</td>\n",
              "      <td>746.0</td>\n",
              "      <td>...</td>\n",
              "      <td>0.538826</td>\n",
              "      <td>0.364746</td>\n",
              "      <td>1.0</td>\n",
              "      <td>3.0</td>\n",
              "      <td>4.0</td>\n",
              "      <td>1.0</td>\n",
              "      <td>1.0</td>\n",
              "      <td>1.0</td>\n",
              "      <td>3.0</td>\n",
              "      <td>Normal</td>\n",
              "    </tr>\n",
              "    <tr>\n",
              "      <th>2</th>\n",
              "      <td>37951.0</td>\n",
              "      <td>12319.0</td>\n",
              "      <td>0.002692</td>\n",
              "      <td>29.0</td>\n",
              "      <td>1.0</td>\n",
              "      <td>2.0</td>\n",
              "      <td>7.934621e+05</td>\n",
              "      <td>5.087667e+06</td>\n",
              "      <td>6.0</td>\n",
              "      <td>8.0</td>\n",
              "      <td>...</td>\n",
              "      <td>0.566385</td>\n",
              "      <td>0.436359</td>\n",
              "      <td>3.0</td>\n",
              "      <td>3.0</td>\n",
              "      <td>5.0</td>\n",
              "      <td>7.0</td>\n",
              "      <td>1.0</td>\n",
              "      <td>1.0</td>\n",
              "      <td>5.0</td>\n",
              "      <td>Normal</td>\n",
              "    </tr>\n",
              "    <tr>\n",
              "      <th>3</th>\n",
              "      <td>14284.0</td>\n",
              "      <td>40769.0</td>\n",
              "      <td>0.100885</td>\n",
              "      <td>29.0</td>\n",
              "      <td>1.0</td>\n",
              "      <td>12.0</td>\n",
              "      <td>1.371066e+05</td>\n",
              "      <td>2.607563e+06</td>\n",
              "      <td>32.0</td>\n",
              "      <td>35.0</td>\n",
              "      <td>...</td>\n",
              "      <td>0.000000</td>\n",
              "      <td>0.000000</td>\n",
              "      <td>8.0</td>\n",
              "      <td>2.0</td>\n",
              "      <td>1.0</td>\n",
              "      <td>4.0</td>\n",
              "      <td>1.0</td>\n",
              "      <td>1.0</td>\n",
              "      <td>1.0</td>\n",
              "      <td>Normal</td>\n",
              "    </tr>\n",
              "    <tr>\n",
              "      <th>4</th>\n",
              "      <td>9167.0</td>\n",
              "      <td>21.0</td>\n",
              "      <td>3.314790</td>\n",
              "      <td>29.0</td>\n",
              "      <td>11.0</td>\n",
              "      <td>15.0</td>\n",
              "      <td>6.945840e+03</td>\n",
              "      <td>8.864514e+03</td>\n",
              "      <td>52.0</td>\n",
              "      <td>54.0</td>\n",
              "      <td>...</td>\n",
              "      <td>1.000000</td>\n",
              "      <td>1.000000</td>\n",
              "      <td>1.0</td>\n",
              "      <td>1.0</td>\n",
              "      <td>15.0</td>\n",
              "      <td>12.0</td>\n",
              "      <td>1.0</td>\n",
              "      <td>1.0</td>\n",
              "      <td>5.0</td>\n",
              "      <td>Normal</td>\n",
              "    </tr>\n",
              "    <tr>\n",
              "      <th>...</th>\n",
              "      <td>...</td>\n",
              "      <td>...</td>\n",
              "      <td>...</td>\n",
              "      <td>...</td>\n",
              "      <td>...</td>\n",
              "      <td>...</td>\n",
              "      <td>...</td>\n",
              "      <td>...</td>\n",
              "      <td>...</td>\n",
              "      <td>...</td>\n",
              "      <td>...</td>\n",
              "      <td>...</td>\n",
              "      <td>...</td>\n",
              "      <td>...</td>\n",
              "      <td>...</td>\n",
              "      <td>...</td>\n",
              "      <td>...</td>\n",
              "      <td>...</td>\n",
              "      <td>...</td>\n",
              "      <td>...</td>\n",
              "      <td>...</td>\n",
              "    </tr>\n",
              "    <tr>\n",
              "      <th>1430658</th>\n",
              "      <td>47439.0</td>\n",
              "      <td>53.0</td>\n",
              "      <td>0.000001</td>\n",
              "      <td>0.0</td>\n",
              "      <td>0.0</td>\n",
              "      <td>0.0</td>\n",
              "      <td>4.560000e+08</td>\n",
              "      <td>0.000000e+00</td>\n",
              "      <td>2.0</td>\n",
              "      <td>0.0</td>\n",
              "      <td>...</td>\n",
              "      <td>0.490527</td>\n",
              "      <td>0.535811</td>\n",
              "      <td>15.0</td>\n",
              "      <td>15.0</td>\n",
              "      <td>15.0</td>\n",
              "      <td>15.0</td>\n",
              "      <td>15.0</td>\n",
              "      <td>15.0</td>\n",
              "      <td>15.0</td>\n",
              "      <td>Generic</td>\n",
              "    </tr>\n",
              "    <tr>\n",
              "      <th>1430659</th>\n",
              "      <td>17293.0</td>\n",
              "      <td>110.0</td>\n",
              "      <td>0.942984</td>\n",
              "      <td>252.0</td>\n",
              "      <td>5.0</td>\n",
              "      <td>6.0</td>\n",
              "      <td>4.470914e+03</td>\n",
              "      <td>5.259898e+03</td>\n",
              "      <td>12.0</td>\n",
              "      <td>12.0</td>\n",
              "      <td>...</td>\n",
              "      <td>0.589015</td>\n",
              "      <td>0.429452</td>\n",
              "      <td>2.0</td>\n",
              "      <td>1.0</td>\n",
              "      <td>2.0</td>\n",
              "      <td>4.0</td>\n",
              "      <td>2.0</td>\n",
              "      <td>2.0</td>\n",
              "      <td>2.0</td>\n",
              "      <td>Exploits</td>\n",
              "    </tr>\n",
              "    <tr>\n",
              "      <th>1430660</th>\n",
              "      <td>33654.0</td>\n",
              "      <td>80.0</td>\n",
              "      <td>2.579405</td>\n",
              "      <td>252.0</td>\n",
              "      <td>103.0</td>\n",
              "      <td>1.0</td>\n",
              "      <td>8.330169e+05</td>\n",
              "      <td>3.898573e+03</td>\n",
              "      <td>208.0</td>\n",
              "      <td>30.0</td>\n",
              "      <td>...</td>\n",
              "      <td>0.467984</td>\n",
              "      <td>0.238979</td>\n",
              "      <td>2.0</td>\n",
              "      <td>1.0</td>\n",
              "      <td>2.0</td>\n",
              "      <td>4.0</td>\n",
              "      <td>2.0</td>\n",
              "      <td>2.0</td>\n",
              "      <td>2.0</td>\n",
              "      <td>DoS</td>\n",
              "    </tr>\n",
              "    <tr>\n",
              "      <th>1430661</th>\n",
              "      <td>33654.0</td>\n",
              "      <td>80.0</td>\n",
              "      <td>2.579405</td>\n",
              "      <td>252.0</td>\n",
              "      <td>103.0</td>\n",
              "      <td>1.0</td>\n",
              "      <td>8.330169e+05</td>\n",
              "      <td>3.898573e+03</td>\n",
              "      <td>208.0</td>\n",
              "      <td>30.0</td>\n",
              "      <td>...</td>\n",
              "      <td>0.468905</td>\n",
              "      <td>0.241184</td>\n",
              "      <td>1.0</td>\n",
              "      <td>1.0</td>\n",
              "      <td>2.0</td>\n",
              "      <td>4.0</td>\n",
              "      <td>2.0</td>\n",
              "      <td>2.0</td>\n",
              "      <td>2.0</td>\n",
              "      <td>DoS</td>\n",
              "    </tr>\n",
              "    <tr>\n",
              "      <th>1430662</th>\n",
              "      <td>17293.0</td>\n",
              "      <td>110.0</td>\n",
              "      <td>0.942984</td>\n",
              "      <td>252.0</td>\n",
              "      <td>5.0</td>\n",
              "      <td>6.0</td>\n",
              "      <td>4.470914e+03</td>\n",
              "      <td>5.259898e+03</td>\n",
              "      <td>12.0</td>\n",
              "      <td>12.0</td>\n",
              "      <td>...</td>\n",
              "      <td>0.589962</td>\n",
              "      <td>0.431643</td>\n",
              "      <td>1.0</td>\n",
              "      <td>1.0</td>\n",
              "      <td>2.0</td>\n",
              "      <td>4.0</td>\n",
              "      <td>2.0</td>\n",
              "      <td>2.0</td>\n",
              "      <td>2.0</td>\n",
              "      <td>Exploits</td>\n",
              "    </tr>\n",
              "  </tbody>\n",
              "</table>\n",
              "<p>1430663 rows × 39 columns</p>\n",
              "</div>\n",
              "      <button class=\"colab-df-convert\" onclick=\"convertToInteractive('df-860d3881-d00a-4e9e-8fca-828c940e1a25')\"\n",
              "              title=\"Convert this dataframe to an interactive table.\"\n",
              "              style=\"display:none;\">\n",
              "        \n",
              "  <svg xmlns=\"http://www.w3.org/2000/svg\" height=\"24px\"viewBox=\"0 0 24 24\"\n",
              "       width=\"24px\">\n",
              "    <path d=\"M0 0h24v24H0V0z\" fill=\"none\"/>\n",
              "    <path d=\"M18.56 5.44l.94 2.06.94-2.06 2.06-.94-2.06-.94-.94-2.06-.94 2.06-2.06.94zm-11 1L8.5 8.5l.94-2.06 2.06-.94-2.06-.94L8.5 2.5l-.94 2.06-2.06.94zm10 10l.94 2.06.94-2.06 2.06-.94-2.06-.94-.94-2.06-.94 2.06-2.06.94z\"/><path d=\"M17.41 7.96l-1.37-1.37c-.4-.4-.92-.59-1.43-.59-.52 0-1.04.2-1.43.59L10.3 9.45l-7.72 7.72c-.78.78-.78 2.05 0 2.83L4 21.41c.39.39.9.59 1.41.59.51 0 1.02-.2 1.41-.59l7.78-7.78 2.81-2.81c.8-.78.8-2.07 0-2.86zM5.41 20L4 18.59l7.72-7.72 1.47 1.35L5.41 20z\"/>\n",
              "  </svg>\n",
              "      </button>\n",
              "      \n",
              "  <style>\n",
              "    .colab-df-container {\n",
              "      display:flex;\n",
              "      flex-wrap:wrap;\n",
              "      gap: 12px;\n",
              "    }\n",
              "\n",
              "    .colab-df-convert {\n",
              "      background-color: #E8F0FE;\n",
              "      border: none;\n",
              "      border-radius: 50%;\n",
              "      cursor: pointer;\n",
              "      display: none;\n",
              "      fill: #1967D2;\n",
              "      height: 32px;\n",
              "      padding: 0 0 0 0;\n",
              "      width: 32px;\n",
              "    }\n",
              "\n",
              "    .colab-df-convert:hover {\n",
              "      background-color: #E2EBFA;\n",
              "      box-shadow: 0px 1px 2px rgba(60, 64, 67, 0.3), 0px 1px 3px 1px rgba(60, 64, 67, 0.15);\n",
              "      fill: #174EA6;\n",
              "    }\n",
              "\n",
              "    [theme=dark] .colab-df-convert {\n",
              "      background-color: #3B4455;\n",
              "      fill: #D2E3FC;\n",
              "    }\n",
              "\n",
              "    [theme=dark] .colab-df-convert:hover {\n",
              "      background-color: #434B5C;\n",
              "      box-shadow: 0px 1px 3px 1px rgba(0, 0, 0, 0.15);\n",
              "      filter: drop-shadow(0px 1px 2px rgba(0, 0, 0, 0.3));\n",
              "      fill: #FFFFFF;\n",
              "    }\n",
              "  </style>\n",
              "\n",
              "      <script>\n",
              "        const buttonEl =\n",
              "          document.querySelector('#df-860d3881-d00a-4e9e-8fca-828c940e1a25 button.colab-df-convert');\n",
              "        buttonEl.style.display =\n",
              "          google.colab.kernel.accessAllowed ? 'block' : 'none';\n",
              "\n",
              "        async function convertToInteractive(key) {\n",
              "          const element = document.querySelector('#df-860d3881-d00a-4e9e-8fca-828c940e1a25');\n",
              "          const dataTable =\n",
              "            await google.colab.kernel.invokeFunction('convertToInteractive',\n",
              "                                                     [key], {});\n",
              "          if (!dataTable) return;\n",
              "\n",
              "          const docLinkHtml = 'Like what you see? Visit the ' +\n",
              "            '<a target=\"_blank\" href=https://colab.research.google.com/notebooks/data_table.ipynb>data table notebook</a>'\n",
              "            + ' to learn more about interactive tables.';\n",
              "          element.innerHTML = '';\n",
              "          dataTable['output_type'] = 'display_data';\n",
              "          await google.colab.output.renderOutput(dataTable, element);\n",
              "          const docLink = document.createElement('div');\n",
              "          docLink.innerHTML = docLinkHtml;\n",
              "          element.appendChild(docLink);\n",
              "        }\n",
              "      </script>\n",
              "    </div>\n",
              "  </div>\n",
              "  "
            ]
          },
          "metadata": {},
          "execution_count": 5
        }
      ]
    },
    {
      "cell_type": "code",
      "source": [
        "x = df_regression.iloc[:, 0:-1]\n",
        "y = df_regression.iloc[:, -1:].values.ravel()\n",
        "\n",
        "\n",
        "#splits the data into training and testing sets\n",
        "x_train, x_test, y_train, y_test = train_test_split(x, y, test_size=0.2, random_state=42)"
      ],
      "metadata": {
        "id": "2cegEar6VEsd"
      },
      "execution_count": 11,
      "outputs": []
    },
    {
      "cell_type": "code",
      "source": [
        "#Define the RF model\n",
        "model = RandomForestClassifier()"
      ],
      "metadata": {
        "id": "YY6hf-a5VMEk"
      },
      "execution_count": 12,
      "outputs": []
    },
    {
      "cell_type": "code",
      "source": [
        "# Fit the model on the optimal hyperparameters found during tuning phase\n",
        "best_rf_model = RandomForestClassifier(n_estimators=200,\n",
        "                                       criterion='entropy',\n",
        "                                       max_features='sqrt',\n",
        "                                       min_samples_split=5)\n",
        "\n",
        "# Train the best model using the training data\n",
        "best_rf_model.fit(x_train, y_train)"
      ],
      "metadata": {
        "colab": {
          "base_uri": "https://localhost:8080/",
          "height": 92
        },
        "id": "FcfavIYzVP2V",
        "outputId": "0e6443bf-b905-4de4-92fd-4922f28674a4"
      },
      "execution_count": 13,
      "outputs": [
        {
          "output_type": "execute_result",
          "data": {
            "text/plain": [
              "RandomForestClassifier(criterion='entropy', min_samples_split=5,\n",
              "                       n_estimators=200)"
            ],
            "text/html": [
              "<style>#sk-container-id-1 {color: black;background-color: white;}#sk-container-id-1 pre{padding: 0;}#sk-container-id-1 div.sk-toggleable {background-color: white;}#sk-container-id-1 label.sk-toggleable__label {cursor: pointer;display: block;width: 100%;margin-bottom: 0;padding: 0.3em;box-sizing: border-box;text-align: center;}#sk-container-id-1 label.sk-toggleable__label-arrow:before {content: \"▸\";float: left;margin-right: 0.25em;color: #696969;}#sk-container-id-1 label.sk-toggleable__label-arrow:hover:before {color: black;}#sk-container-id-1 div.sk-estimator:hover label.sk-toggleable__label-arrow:before {color: black;}#sk-container-id-1 div.sk-toggleable__content {max-height: 0;max-width: 0;overflow: hidden;text-align: left;background-color: #f0f8ff;}#sk-container-id-1 div.sk-toggleable__content pre {margin: 0.2em;color: black;border-radius: 0.25em;background-color: #f0f8ff;}#sk-container-id-1 input.sk-toggleable__control:checked~div.sk-toggleable__content {max-height: 200px;max-width: 100%;overflow: auto;}#sk-container-id-1 input.sk-toggleable__control:checked~label.sk-toggleable__label-arrow:before {content: \"▾\";}#sk-container-id-1 div.sk-estimator input.sk-toggleable__control:checked~label.sk-toggleable__label {background-color: #d4ebff;}#sk-container-id-1 div.sk-label input.sk-toggleable__control:checked~label.sk-toggleable__label {background-color: #d4ebff;}#sk-container-id-1 input.sk-hidden--visually {border: 0;clip: rect(1px 1px 1px 1px);clip: rect(1px, 1px, 1px, 1px);height: 1px;margin: -1px;overflow: hidden;padding: 0;position: absolute;width: 1px;}#sk-container-id-1 div.sk-estimator {font-family: monospace;background-color: #f0f8ff;border: 1px dotted black;border-radius: 0.25em;box-sizing: border-box;margin-bottom: 0.5em;}#sk-container-id-1 div.sk-estimator:hover {background-color: #d4ebff;}#sk-container-id-1 div.sk-parallel-item::after {content: \"\";width: 100%;border-bottom: 1px solid gray;flex-grow: 1;}#sk-container-id-1 div.sk-label:hover label.sk-toggleable__label {background-color: #d4ebff;}#sk-container-id-1 div.sk-serial::before {content: \"\";position: absolute;border-left: 1px solid gray;box-sizing: border-box;top: 0;bottom: 0;left: 50%;z-index: 0;}#sk-container-id-1 div.sk-serial {display: flex;flex-direction: column;align-items: center;background-color: white;padding-right: 0.2em;padding-left: 0.2em;position: relative;}#sk-container-id-1 div.sk-item {position: relative;z-index: 1;}#sk-container-id-1 div.sk-parallel {display: flex;align-items: stretch;justify-content: center;background-color: white;position: relative;}#sk-container-id-1 div.sk-item::before, #sk-container-id-1 div.sk-parallel-item::before {content: \"\";position: absolute;border-left: 1px solid gray;box-sizing: border-box;top: 0;bottom: 0;left: 50%;z-index: -1;}#sk-container-id-1 div.sk-parallel-item {display: flex;flex-direction: column;z-index: 1;position: relative;background-color: white;}#sk-container-id-1 div.sk-parallel-item:first-child::after {align-self: flex-end;width: 50%;}#sk-container-id-1 div.sk-parallel-item:last-child::after {align-self: flex-start;width: 50%;}#sk-container-id-1 div.sk-parallel-item:only-child::after {width: 0;}#sk-container-id-1 div.sk-dashed-wrapped {border: 1px dashed gray;margin: 0 0.4em 0.5em 0.4em;box-sizing: border-box;padding-bottom: 0.4em;background-color: white;}#sk-container-id-1 div.sk-label label {font-family: monospace;font-weight: bold;display: inline-block;line-height: 1.2em;}#sk-container-id-1 div.sk-label-container {text-align: center;}#sk-container-id-1 div.sk-container {/* jupyter's `normalize.less` sets `[hidden] { display: none; }` but bootstrap.min.css set `[hidden] { display: none !important; }` so we also need the `!important` here to be able to override the default hidden behavior on the sphinx rendered scikit-learn.org. See: https://github.com/scikit-learn/scikit-learn/issues/21755 */display: inline-block !important;position: relative;}#sk-container-id-1 div.sk-text-repr-fallback {display: none;}</style><div id=\"sk-container-id-1\" class=\"sk-top-container\"><div class=\"sk-text-repr-fallback\"><pre>RandomForestClassifier(criterion=&#x27;entropy&#x27;, min_samples_split=5,\n",
              "                       n_estimators=200)</pre><b>In a Jupyter environment, please rerun this cell to show the HTML representation or trust the notebook. <br />On GitHub, the HTML representation is unable to render, please try loading this page with nbviewer.org.</b></div><div class=\"sk-container\" hidden><div class=\"sk-item\"><div class=\"sk-estimator sk-toggleable\"><input class=\"sk-toggleable__control sk-hidden--visually\" id=\"sk-estimator-id-1\" type=\"checkbox\" checked><label for=\"sk-estimator-id-1\" class=\"sk-toggleable__label sk-toggleable__label-arrow\">RandomForestClassifier</label><div class=\"sk-toggleable__content\"><pre>RandomForestClassifier(criterion=&#x27;entropy&#x27;, min_samples_split=5,\n",
              "                       n_estimators=200)</pre></div></div></div></div></div>"
            ]
          },
          "metadata": {},
          "execution_count": 13
        }
      ]
    },
    {
      "cell_type": "code",
      "source": [
        "# Make predictions on the test data\n",
        "predictions = best_rf_model.predict(x_test)\n",
        "\n",
        "# Evaluate the predictions\n",
        "accuracy = accuracy_score(y_test, predictions)\n",
        "\n",
        "\n",
        "# Print the evaluation metrics\n",
        "print(\"Accuracy:\", accuracy*100)"
      ],
      "metadata": {
        "colab": {
          "base_uri": "https://localhost:8080/"
        },
        "id": "jel6oga9VTZJ",
        "outputId": "c14f1fd0-2a4d-4c5f-a4a4-ab5055436237"
      },
      "execution_count": 14,
      "outputs": [
        {
          "output_type": "stream",
          "name": "stdout",
          "text": [
            "Accuracy: 97.48089175313578\n"
          ]
        }
      ]
    },
    {
      "cell_type": "markdown",
      "source": [
        "ANN"
      ],
      "metadata": {
        "id": "4uDCpAYxVgad"
      }
    },
    {
      "cell_type": "code",
      "source": [
        "x2 = df_regression.iloc[:, 0:-1]\n",
        "y2 = df_regression.iloc[:, -1:]\n",
        "\n",
        "\n",
        "#splits the data into training and testing sets\n",
        "x_train, x_test, y_train, y_test = train_test_split(x2, y2, test_size=0.2, random_state=42)"
      ],
      "metadata": {
        "id": "dpJOT338VkNT"
      },
      "execution_count": 13,
      "outputs": []
    },
    {
      "cell_type": "code",
      "source": [
        "# Create an instance of the OneHotEncoder\n",
        "encoder = OneHotEncoder()\n",
        "\n",
        "# Fit and transform the training labels\n",
        "y_train_encoded = encoder.fit_transform(y_train.values.reshape(-1, 1)).toarray()\n",
        "\n",
        "# Fit and Transform the testing labels\n",
        "y_test_encoded = encoder.transform(y_test.values.reshape(-1, 1)).toarray()"
      ],
      "metadata": {
        "id": "ykqIrg7QWX2O"
      },
      "execution_count": 16,
      "outputs": []
    },
    {
      "cell_type": "code",
      "source": [
        "# Creates an instance of the MinMaxScaler\n",
        "scaler = MinMaxScaler()\n",
        "\n",
        "# Fits the scaler on the training data and transforms it\n",
        "x_train_scaled = scaler.fit_transform(x_train)\n",
        "\n",
        "# Fits the scaler on the testing data and transforms it\n",
        "x_test_scaled = scaler.transform(x_test)"
      ],
      "metadata": {
        "id": "DiUrqvpyWhlz"
      },
      "execution_count": 14,
      "outputs": []
    },
    {
      "cell_type": "code",
      "source": [
        "# Convert the data to PyTorch tensors\n",
        "x_train_tensor = torch.tensor(x_train_scaled, dtype=torch.float32)\n",
        "y_train_tensor = torch.tensor(y_train_encoded, dtype=torch.long)\n",
        "x_test_tensor = torch.tensor(x_test_scaled , dtype=torch.float32)\n",
        "y_test_tensor = torch.tensor(y_test_encoded, dtype=torch.long)"
      ],
      "metadata": {
        "id": "ubzBHJD4W4s7"
      },
      "execution_count": 18,
      "outputs": []
    },
    {
      "cell_type": "code",
      "source": [
        "# Define the dimensions of input, hidden, and output layers\n",
        "input_size = x_train.shape[1]\n",
        "hidden_size = 64\n",
        "output_size = y_train_encoded.shape[1]\n",
        "\n",
        "# Initialize the ANN model\n",
        "model = ANN(input_size, hidden_size, output_size)\n",
        "\n",
        "# Define the loss function\n",
        "criterion = nn.CrossEntropyLoss()\n",
        "\n",
        "# Define the optimizer\n",
        "optimizer = optim.Adam(model.parameters(), lr=0.001)\n"
      ],
      "metadata": {
        "id": "hrTUB9tXXQCU"
      },
      "execution_count": 21,
      "outputs": []
    },
    {
      "cell_type": "code",
      "source": [
        "# Set the number of training epochs\n",
        "num_epochs = 10\n",
        "\n",
        "# Set the batch size\n",
        "batch_size = 8\n",
        "\n",
        "# Set the number of batches\n",
        "num_batches = len(x_train_tensor) // batch_size\n",
        "\n",
        "# Training loop\n",
        "for epoch in range(num_epochs):\n",
        "    for batch in range(num_batches):\n",
        "        # Extract the current batch\n",
        "        start = batch * batch_size\n",
        "        end = (batch + 1) * batch_size\n",
        "        inputs = x_train_tensor[start:end]\n",
        "        labels = y_train_tensor[start:end]\n",
        "\n",
        "        # Zero the gradients\n",
        "        optimizer.zero_grad()\n",
        "\n",
        "        # Forward pass\n",
        "        outputs = model(inputs)\n",
        "\n",
        "        # Compute the loss\n",
        "        loss = criterion(outputs, torch.argmax(labels, dim=1))\n",
        "\n",
        "        # Backward pass\n",
        "        loss.backward()\n",
        "\n",
        "        # Update the weights\n",
        "        optimizer.step()\n",
        "\n",
        "    # Print the loss for each epoch\n",
        "    print(f'Epoch [{epoch+1}/{num_epochs}], Loss: {loss.item():.4f}')"
      ],
      "metadata": {
        "colab": {
          "base_uri": "https://localhost:8080/"
        },
        "id": "LdqIkUpDXFYu",
        "outputId": "18759806-c585-4e8b-b3b9-51d1ef4ba56d"
      },
      "execution_count": 22,
      "outputs": [
        {
          "output_type": "stream",
          "name": "stdout",
          "text": [
            "Epoch [1/10], Loss: 0.0762\n",
            "Epoch [2/10], Loss: 0.0773\n",
            "Epoch [3/10], Loss: 0.0280\n",
            "Epoch [4/10], Loss: 0.0773\n",
            "Epoch [5/10], Loss: 0.0570\n",
            "Epoch [6/10], Loss: 0.0909\n",
            "Epoch [7/10], Loss: 0.0805\n",
            "Epoch [8/10], Loss: 0.0896\n",
            "Epoch [9/10], Loss: 0.0826\n",
            "Epoch [10/10], Loss: 0.0845\n"
          ]
        }
      ]
    },
    {
      "cell_type": "code",
      "source": [
        "# Set the model to evaluation mode\n",
        "model.eval()\n",
        "\n",
        "# Perform inference on the test set\n",
        "with torch.no_grad():\n",
        "    outputs = model(x_test_tensor)\n",
        "\n",
        "# Get the predicted labels\n",
        "_, predicted_labels = torch.max(outputs, 1)\n",
        "\n",
        "# Calculate accuracy\n",
        "correct = (predicted_labels == torch.argmax(y_test_tensor, dim=1)).sum().item()\n",
        "total = y_test_tensor.size(0)\n",
        "accuracy = correct / total\n",
        "print(\"Accuracy:\", accuracy * 100)"
      ],
      "metadata": {
        "colab": {
          "base_uri": "https://localhost:8080/"
        },
        "id": "Lz2Rq-NNXIpa",
        "outputId": "6230c865-55fe-40e9-8ee8-238faf872e8e"
      },
      "execution_count": 23,
      "outputs": [
        {
          "output_type": "stream",
          "name": "stdout",
          "text": [
            "Accuracy: 96.22657994708754\n"
          ]
        }
      ]
    },
    {
      "cell_type": "markdown",
      "source": [
        "SVM"
      ],
      "metadata": {
        "id": "PrDYyvnj_i3t"
      }
    },
    {
      "cell_type": "code",
      "source": [
        "x3 = df_regression.iloc[:, 0:-1]\n",
        "y3 = df_regression.iloc[:, -1:].values.ravel()\n",
        "\n",
        "\n",
        "#splits the data into training and testing sets\n",
        "x_train, x_test, y_train, y_test = train_test_split(x3, y3, test_size=0.2, random_state=42)"
      ],
      "metadata": {
        "id": "aIYcJd54BBq9"
      },
      "execution_count": 6,
      "outputs": []
    },
    {
      "cell_type": "code",
      "source": [
        "# Creates an instance of the MinMaxScaler\n",
        "scaler = MinMaxScaler()\n",
        "\n",
        "# Fits the scaler on the training data and transforms it\n",
        "x_train_scaled = scaler.fit_transform(x_train)\n",
        "\n",
        "# Fits the scaler on the testing data and transforms it\n",
        "x_test_scaled = scaler.transform(x_test)"
      ],
      "metadata": {
        "id": "sSYQcfdTBGYV"
      },
      "execution_count": 7,
      "outputs": []
    },
    {
      "cell_type": "markdown",
      "source": [
        "LINEAR SVM"
      ],
      "metadata": {
        "id": "y0C6izUQViQK"
      }
    },
    {
      "cell_type": "code",
      "source": [
        "#Define the linear SVC model\n",
        "model = LinearSVC(dual=False)"
      ],
      "metadata": {
        "id": "24FyAS3dV0yj"
      },
      "execution_count": 10,
      "outputs": []
    },
    {
      "cell_type": "code",
      "source": [
        "# Create the LinearSVC model with the best hyperparameters\n",
        "best_svm_model = LinearSVC(penalty='l1',tol=2.4004455788496022e-11 ,C=3.9728931339630273,loss='squared_hinge' ,dual=False)\n",
        "# Train the best model using the training data\n",
        "best_svm_model.fit(x_train_scaled, y_train)"
      ],
      "metadata": {
        "colab": {
          "base_uri": "https://localhost:8080/",
          "height": 148
        },
        "id": "apMkmhjCV7X-",
        "outputId": "5dfd4cb1-576d-42fa-f82d-96daf203d941"
      },
      "execution_count": 11,
      "outputs": [
        {
          "output_type": "stream",
          "name": "stderr",
          "text": [
            "/usr/local/lib/python3.10/dist-packages/sklearn/svm/_base.py:1244: ConvergenceWarning: Liblinear failed to converge, increase the number of iterations.\n",
            "  warnings.warn(\n"
          ]
        },
        {
          "output_type": "execute_result",
          "data": {
            "text/plain": [
              "LinearSVC(C=3.9728931339630273, dual=False, penalty='l1',\n",
              "          tol=2.4004455788496022e-11)"
            ],
            "text/html": [
              "<style>#sk-container-id-2 {color: black;background-color: white;}#sk-container-id-2 pre{padding: 0;}#sk-container-id-2 div.sk-toggleable {background-color: white;}#sk-container-id-2 label.sk-toggleable__label {cursor: pointer;display: block;width: 100%;margin-bottom: 0;padding: 0.3em;box-sizing: border-box;text-align: center;}#sk-container-id-2 label.sk-toggleable__label-arrow:before {content: \"▸\";float: left;margin-right: 0.25em;color: #696969;}#sk-container-id-2 label.sk-toggleable__label-arrow:hover:before {color: black;}#sk-container-id-2 div.sk-estimator:hover label.sk-toggleable__label-arrow:before {color: black;}#sk-container-id-2 div.sk-toggleable__content {max-height: 0;max-width: 0;overflow: hidden;text-align: left;background-color: #f0f8ff;}#sk-container-id-2 div.sk-toggleable__content pre {margin: 0.2em;color: black;border-radius: 0.25em;background-color: #f0f8ff;}#sk-container-id-2 input.sk-toggleable__control:checked~div.sk-toggleable__content {max-height: 200px;max-width: 100%;overflow: auto;}#sk-container-id-2 input.sk-toggleable__control:checked~label.sk-toggleable__label-arrow:before {content: \"▾\";}#sk-container-id-2 div.sk-estimator input.sk-toggleable__control:checked~label.sk-toggleable__label {background-color: #d4ebff;}#sk-container-id-2 div.sk-label input.sk-toggleable__control:checked~label.sk-toggleable__label {background-color: #d4ebff;}#sk-container-id-2 input.sk-hidden--visually {border: 0;clip: rect(1px 1px 1px 1px);clip: rect(1px, 1px, 1px, 1px);height: 1px;margin: -1px;overflow: hidden;padding: 0;position: absolute;width: 1px;}#sk-container-id-2 div.sk-estimator {font-family: monospace;background-color: #f0f8ff;border: 1px dotted black;border-radius: 0.25em;box-sizing: border-box;margin-bottom: 0.5em;}#sk-container-id-2 div.sk-estimator:hover {background-color: #d4ebff;}#sk-container-id-2 div.sk-parallel-item::after {content: \"\";width: 100%;border-bottom: 1px solid gray;flex-grow: 1;}#sk-container-id-2 div.sk-label:hover label.sk-toggleable__label {background-color: #d4ebff;}#sk-container-id-2 div.sk-serial::before {content: \"\";position: absolute;border-left: 1px solid gray;box-sizing: border-box;top: 0;bottom: 0;left: 50%;z-index: 0;}#sk-container-id-2 div.sk-serial {display: flex;flex-direction: column;align-items: center;background-color: white;padding-right: 0.2em;padding-left: 0.2em;position: relative;}#sk-container-id-2 div.sk-item {position: relative;z-index: 1;}#sk-container-id-2 div.sk-parallel {display: flex;align-items: stretch;justify-content: center;background-color: white;position: relative;}#sk-container-id-2 div.sk-item::before, #sk-container-id-2 div.sk-parallel-item::before {content: \"\";position: absolute;border-left: 1px solid gray;box-sizing: border-box;top: 0;bottom: 0;left: 50%;z-index: -1;}#sk-container-id-2 div.sk-parallel-item {display: flex;flex-direction: column;z-index: 1;position: relative;background-color: white;}#sk-container-id-2 div.sk-parallel-item:first-child::after {align-self: flex-end;width: 50%;}#sk-container-id-2 div.sk-parallel-item:last-child::after {align-self: flex-start;width: 50%;}#sk-container-id-2 div.sk-parallel-item:only-child::after {width: 0;}#sk-container-id-2 div.sk-dashed-wrapped {border: 1px dashed gray;margin: 0 0.4em 0.5em 0.4em;box-sizing: border-box;padding-bottom: 0.4em;background-color: white;}#sk-container-id-2 div.sk-label label {font-family: monospace;font-weight: bold;display: inline-block;line-height: 1.2em;}#sk-container-id-2 div.sk-label-container {text-align: center;}#sk-container-id-2 div.sk-container {/* jupyter's `normalize.less` sets `[hidden] { display: none; }` but bootstrap.min.css set `[hidden] { display: none !important; }` so we also need the `!important` here to be able to override the default hidden behavior on the sphinx rendered scikit-learn.org. See: https://github.com/scikit-learn/scikit-learn/issues/21755 */display: inline-block !important;position: relative;}#sk-container-id-2 div.sk-text-repr-fallback {display: none;}</style><div id=\"sk-container-id-2\" class=\"sk-top-container\"><div class=\"sk-text-repr-fallback\"><pre>LinearSVC(C=3.9728931339630273, dual=False, penalty=&#x27;l1&#x27;,\n",
              "          tol=2.4004455788496022e-11)</pre><b>In a Jupyter environment, please rerun this cell to show the HTML representation or trust the notebook. <br />On GitHub, the HTML representation is unable to render, please try loading this page with nbviewer.org.</b></div><div class=\"sk-container\" hidden><div class=\"sk-item\"><div class=\"sk-estimator sk-toggleable\"><input class=\"sk-toggleable__control sk-hidden--visually\" id=\"sk-estimator-id-2\" type=\"checkbox\" checked><label for=\"sk-estimator-id-2\" class=\"sk-toggleable__label sk-toggleable__label-arrow\">LinearSVC</label><div class=\"sk-toggleable__content\"><pre>LinearSVC(C=3.9728931339630273, dual=False, penalty=&#x27;l1&#x27;,\n",
              "          tol=2.4004455788496022e-11)</pre></div></div></div></div></div>"
            ]
          },
          "metadata": {},
          "execution_count": 11
        }
      ]
    },
    {
      "cell_type": "code",
      "source": [
        "# Make predictions on the test data\n",
        "predictions = best_svm_model.predict(x_test_scaled)\n",
        "\n",
        "# Evaluate the predictions\n",
        "accuracy = accuracy_score(y_test, predictions)\n",
        "\n",
        "\n",
        "# Print the evaluation metrics\n",
        "print(\"Accuracy:\", accuracy)"
      ],
      "metadata": {
        "colab": {
          "base_uri": "https://localhost:8080/"
        },
        "id": "uJIuz4VVVzJS",
        "outputId": "ee294362-84be-4e6a-ec73-92536b19c9d4"
      },
      "execution_count": 13,
      "outputs": [
        {
          "output_type": "stream",
          "name": "stdout",
          "text": [
            "Accuracy: 0.923696323038587\n"
          ]
        }
      ]
    },
    {
      "cell_type": "markdown",
      "source": [
        "NON Linear"
      ],
      "metadata": {
        "id": "iDeMESuz_g_G"
      }
    },
    {
      "cell_type": "code",
      "source": [
        "svm_model = SVC(kernel='rbf')\n",
        "svm_model.fit(x_train_scaled, y_train)"
      ],
      "metadata": {
        "colab": {
          "base_uri": "https://localhost:8080/",
          "height": 75
        },
        "id": "ZDP83OIZ_m8U",
        "outputId": "b70ae131-3ae8-45ba-9979-e865fabd191a"
      },
      "execution_count": 8,
      "outputs": [
        {
          "output_type": "execute_result",
          "data": {
            "text/plain": [
              "SVC()"
            ],
            "text/html": [
              "<style>#sk-container-id-1 {color: black;background-color: white;}#sk-container-id-1 pre{padding: 0;}#sk-container-id-1 div.sk-toggleable {background-color: white;}#sk-container-id-1 label.sk-toggleable__label {cursor: pointer;display: block;width: 100%;margin-bottom: 0;padding: 0.3em;box-sizing: border-box;text-align: center;}#sk-container-id-1 label.sk-toggleable__label-arrow:before {content: \"▸\";float: left;margin-right: 0.25em;color: #696969;}#sk-container-id-1 label.sk-toggleable__label-arrow:hover:before {color: black;}#sk-container-id-1 div.sk-estimator:hover label.sk-toggleable__label-arrow:before {color: black;}#sk-container-id-1 div.sk-toggleable__content {max-height: 0;max-width: 0;overflow: hidden;text-align: left;background-color: #f0f8ff;}#sk-container-id-1 div.sk-toggleable__content pre {margin: 0.2em;color: black;border-radius: 0.25em;background-color: #f0f8ff;}#sk-container-id-1 input.sk-toggleable__control:checked~div.sk-toggleable__content {max-height: 200px;max-width: 100%;overflow: auto;}#sk-container-id-1 input.sk-toggleable__control:checked~label.sk-toggleable__label-arrow:before {content: \"▾\";}#sk-container-id-1 div.sk-estimator input.sk-toggleable__control:checked~label.sk-toggleable__label {background-color: #d4ebff;}#sk-container-id-1 div.sk-label input.sk-toggleable__control:checked~label.sk-toggleable__label {background-color: #d4ebff;}#sk-container-id-1 input.sk-hidden--visually {border: 0;clip: rect(1px 1px 1px 1px);clip: rect(1px, 1px, 1px, 1px);height: 1px;margin: -1px;overflow: hidden;padding: 0;position: absolute;width: 1px;}#sk-container-id-1 div.sk-estimator {font-family: monospace;background-color: #f0f8ff;border: 1px dotted black;border-radius: 0.25em;box-sizing: border-box;margin-bottom: 0.5em;}#sk-container-id-1 div.sk-estimator:hover {background-color: #d4ebff;}#sk-container-id-1 div.sk-parallel-item::after {content: \"\";width: 100%;border-bottom: 1px solid gray;flex-grow: 1;}#sk-container-id-1 div.sk-label:hover label.sk-toggleable__label {background-color: #d4ebff;}#sk-container-id-1 div.sk-serial::before {content: \"\";position: absolute;border-left: 1px solid gray;box-sizing: border-box;top: 0;bottom: 0;left: 50%;z-index: 0;}#sk-container-id-1 div.sk-serial {display: flex;flex-direction: column;align-items: center;background-color: white;padding-right: 0.2em;padding-left: 0.2em;position: relative;}#sk-container-id-1 div.sk-item {position: relative;z-index: 1;}#sk-container-id-1 div.sk-parallel {display: flex;align-items: stretch;justify-content: center;background-color: white;position: relative;}#sk-container-id-1 div.sk-item::before, #sk-container-id-1 div.sk-parallel-item::before {content: \"\";position: absolute;border-left: 1px solid gray;box-sizing: border-box;top: 0;bottom: 0;left: 50%;z-index: -1;}#sk-container-id-1 div.sk-parallel-item {display: flex;flex-direction: column;z-index: 1;position: relative;background-color: white;}#sk-container-id-1 div.sk-parallel-item:first-child::after {align-self: flex-end;width: 50%;}#sk-container-id-1 div.sk-parallel-item:last-child::after {align-self: flex-start;width: 50%;}#sk-container-id-1 div.sk-parallel-item:only-child::after {width: 0;}#sk-container-id-1 div.sk-dashed-wrapped {border: 1px dashed gray;margin: 0 0.4em 0.5em 0.4em;box-sizing: border-box;padding-bottom: 0.4em;background-color: white;}#sk-container-id-1 div.sk-label label {font-family: monospace;font-weight: bold;display: inline-block;line-height: 1.2em;}#sk-container-id-1 div.sk-label-container {text-align: center;}#sk-container-id-1 div.sk-container {/* jupyter's `normalize.less` sets `[hidden] { display: none; }` but bootstrap.min.css set `[hidden] { display: none !important; }` so we also need the `!important` here to be able to override the default hidden behavior on the sphinx rendered scikit-learn.org. See: https://github.com/scikit-learn/scikit-learn/issues/21755 */display: inline-block !important;position: relative;}#sk-container-id-1 div.sk-text-repr-fallback {display: none;}</style><div id=\"sk-container-id-1\" class=\"sk-top-container\"><div class=\"sk-text-repr-fallback\"><pre>SVC()</pre><b>In a Jupyter environment, please rerun this cell to show the HTML representation or trust the notebook. <br />On GitHub, the HTML representation is unable to render, please try loading this page with nbviewer.org.</b></div><div class=\"sk-container\" hidden><div class=\"sk-item\"><div class=\"sk-estimator sk-toggleable\"><input class=\"sk-toggleable__control sk-hidden--visually\" id=\"sk-estimator-id-1\" type=\"checkbox\" checked><label for=\"sk-estimator-id-1\" class=\"sk-toggleable__label sk-toggleable__label-arrow\">SVC</label><div class=\"sk-toggleable__content\"><pre>SVC()</pre></div></div></div></div></div>"
            ]
          },
          "metadata": {},
          "execution_count": 8
        }
      ]
    },
    {
      "cell_type": "code",
      "source": [
        "y_pred = svm_model.predict(x_test_scaled)\n",
        "accuracy = accuracy_score(y_test, y_pred)\n",
        "print(accuracy)"
      ],
      "metadata": {
        "colab": {
          "base_uri": "https://localhost:8080/"
        },
        "id": "_OYFqvXd_p95",
        "outputId": "d46985e0-d0ef-4b6b-9ce1-d11e74b09c5f"
      },
      "execution_count": 9,
      "outputs": [
        {
          "output_type": "stream",
          "name": "stdout",
          "text": [
            "0.9553704046719532\n"
          ]
        }
      ]
    }
  ]
}